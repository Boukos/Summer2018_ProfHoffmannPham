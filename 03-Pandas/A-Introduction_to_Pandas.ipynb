{
 "cells": [
  {
   "cell_type": "markdown",
   "metadata": {},
   "source": [
    "# Introduction to Pandas"
   ]
  },
  {
   "cell_type": "markdown",
   "metadata": {},
   "source": [
    "## Setup and preliminaries"
   ]
  },
  {
   "cell_type": "markdown",
   "metadata": {},
   "source": [
    "We start this notebook by typing a \"magic\" command that allows iPython notebooks to display plots directly in the browser."
   ]
  },
  {
   "cell_type": "code",
   "execution_count": null,
   "metadata": {},
   "outputs": [],
   "source": [
    "# Render our plots inline\n",
    "%matplotlib inline\n",
    "%config InlineBackend.figure_format = 'retina'"
   ]
  },
  {
   "cell_type": "markdown",
   "metadata": {},
   "source": [
    "In order to read and process files, we are going to use a very powerful, and widely used Python library, called pandas. So, our next step is to import the pandas library in Python, and also import the library matplotlib for generating plots:"
   ]
  },
  {
   "cell_type": "code",
   "execution_count": null,
   "metadata": {},
   "outputs": [],
   "source": [
    "import pandas as pd\n",
    "import matplotlib\n",
    "import matplotlib.pyplot as plt\n",
    "import seaborn as sns"
   ]
  },
  {
   "cell_type": "markdown",
   "metadata": {},
   "source": [
    "Pandas should already be installed on your machine, but if you get an error in the import statement above, indicating that pandas is not available, please uncomment the following command and execute:"
   ]
  },
  {
   "cell_type": "code",
   "execution_count": null,
   "metadata": {},
   "outputs": [],
   "source": [
    "# !sudo python3 -m pip install -U pandas"
   ]
  },
  {
   "cell_type": "markdown",
   "metadata": {},
   "source": [
    "And we type some code to simply change the visual style of the plots. (The code below is optional and not necessary, and for now you do not need to understand what exactly is happening.)"
   ]
  },
  {
   "cell_type": "code",
   "execution_count": null,
   "metadata": {},
   "outputs": [],
   "source": [
    "# Make the graphs a bit bigger\n",
    "matplotlib.style.use(['seaborn-talk', 'seaborn-ticks', 'seaborn-whitegrid'])"
   ]
  },
  {
   "cell_type": "markdown",
   "metadata": {},
   "source": [
    "## Getting data\n",
    "### Basic example: creating a DataFrame from scratch\n",
    "\n",
    "This is an example of creating a dataframe by passing a list of dictionaries.\n",
    "- Each dictionary represents a **row** in the data\n",
    "- The keys are the **column names**, and the values are the **entries** in the row"
   ]
  },
  {
   "cell_type": "code",
   "execution_count": null,
   "metadata": {},
   "outputs": [],
   "source": [
    "df = pd.DataFrame([ \n",
    "    {\"First Name\": \"Amy\",   \"Last Name\":\" Poehler\"},\n",
    "    {\"First Name\": \"Tina\",  \"Last Name\":\" Fey\"},\n",
    "    {\"Last Name\" : \"Fallon\"}\n",
    "])"
   ]
  },
  {
   "cell_type": "code",
   "execution_count": null,
   "metadata": {},
   "outputs": [],
   "source": [
    "df"
   ]
  },
  {
   "cell_type": "markdown",
   "metadata": {},
   "source": [
    "### More common: creating a DataFrame from a file"
   ]
  },
  {
   "cell_type": "markdown",
   "metadata": {},
   "source": [
    "More commonly, we import existing data files. Today, we will use a dataset with restaurant inspection results in NYC which is stored at `/data/restaurants.csv`. If you do not have it, then uncomment below the lines that start with ! and execute the following:"
   ]
  },
  {
   "cell_type": "code",
   "execution_count": null,
   "metadata": {},
   "outputs": [],
   "source": [
    "# Creates a folder \"data\" under the current folder\n",
    "!mkdir -p data\n",
    "# Removes any prior file if it exists\n",
    "!rm -f data/restaurant.csv*\n",
    "# Fetches the most recent dataset and stores it under the folder data\n",
    "!curl 'https://data.cityofnewyork.us/api/views/43nn-pn8j/rows.csv?accessType=DOWNLOAD' -o data/restaurant.csv\n",
    "# Compresses the text file, both for saving space and for loading faster\n",
    "!gzip data/restaurant.csv\n",
    "# Take a look at the first 3 lines of the file, to ensure that everything worked fine\n",
    "!gzip -cd data/restaurant.csv.gz | head -3"
   ]
  },
  {
   "cell_type": "markdown",
   "metadata": {},
   "source": [
    "### Methods for Reading in files"
   ]
  },
  {
   "cell_type": "markdown",
   "metadata": {},
   "source": [
    "We want to be able to read and process this file within Python. The pandas library has a very convenient method `read_csv` which reads the file, and returns back a variable that contains its contents. Other variants are:\n",
    "\n",
    "Command | Purpose\n",
    "---|---\n",
    "`pd.read_csv(f)` | Read a CSV file \n",
    "`pd.read_json(f)` | Read a JSON file\n",
    "`pd.read_excel(f)` | Read an Excel file\n",
    "\n",
    "Note that here, `f` can be a file on your local computer, or a remote URL."
   ]
  },
  {
   "cell_type": "code",
   "execution_count": null,
   "metadata": {},
   "outputs": [],
   "source": [
    "# Usually, we can apply the read_csv command without any options, and it works reasonably well\n",
    "restaurants = pd.read_csv(\"data/restaurant.csv\")"
   ]
  },
  {
   "cell_type": "code",
   "execution_count": null,
   "metadata": {},
   "outputs": [],
   "source": [
    "# However, we can also modify the command using options to suit our application, as we will do here:\n",
    "restaurants = pd.read_csv(\"data/restaurant.csv\", #.gz\", \n",
    "                          encoding='utf_8',              # Specify the text encoding\n",
    "                          dtype = 'unicode',             \n",
    "                          parse_dates = True,            # Try to recognize and convert dates automatically\n",
    "                          infer_datetime_format = True,\n",
    "                          low_memory=False)"
   ]
  },
  {
   "cell_type": "markdown",
   "metadata": {},
   "source": [
    "When you read a CSV, you get back a kind of object called a DataFrame, which is made up of rows and columns. Let's take a look at how the object looks like:"
   ]
  },
  {
   "cell_type": "code",
   "execution_count": null,
   "metadata": {
    "scrolled": false
   },
   "outputs": [],
   "source": [
    "restaurants.head(2)"
   ]
  },
  {
   "cell_type": "markdown",
   "metadata": {},
   "source": [
    "The read_csv method has many options, and you can read further in the [online documentation](http://pandas.pydata.org/pandas-docs/stable/generated/pandas.io.parsers.read_csv.html)."
   ]
  },
  {
   "cell_type": "markdown",
   "metadata": {},
   "source": [
    "### Accessing Data"
   ]
  },
  {
   "cell_type": "markdown",
   "metadata": {},
   "source": [
    "You can access columns in a DataFrame the same way you get elements out of a dictionary; the column name is like a key. For example: "
   ]
  },
  {
   "cell_type": "code",
   "execution_count": null,
   "metadata": {
    "scrolled": true
   },
   "outputs": [],
   "source": [
    "# Get the borough for every restaurant\n",
    "restaurants['BORO']"
   ]
  },
  {
   "cell_type": "code",
   "execution_count": null,
   "metadata": {},
   "outputs": [],
   "source": [
    "# If there are no spaces in the column name, we can also use this notation:\n",
    "restaurants.BORO"
   ]
  },
  {
   "cell_type": "markdown",
   "metadata": {},
   "source": [
    "You can see the unique values of the column using the `.unique()` method:"
   ]
  },
  {
   "cell_type": "code",
   "execution_count": null,
   "metadata": {},
   "outputs": [],
   "source": [
    "# Get unique values of a column\n",
    "restaurants.BORO.unique()"
   ]
  },
  {
   "cell_type": "markdown",
   "metadata": {},
   "source": [
    "### Descriptive statistics"
   ]
  },
  {
   "cell_type": "markdown",
   "metadata": {},
   "source": [
    "We can see how many rows and columns are in our dataframe using the `shape` attribute:"
   ]
  },
  {
   "cell_type": "code",
   "execution_count": null,
   "metadata": {},
   "outputs": [],
   "source": [
    "# Get total count of (rows, columns)\n",
    "restaurants.shape      "
   ]
  },
  {
   "cell_type": "markdown",
   "metadata": {},
   "source": [
    "We can see what columns the dataframe has with the `columns` attribute:"
   ]
  },
  {
   "cell_type": "code",
   "execution_count": null,
   "metadata": {},
   "outputs": [],
   "source": [
    "# List all the columns\n",
    "restaurants.columns"
   ]
  },
  {
   "cell_type": "markdown",
   "metadata": {},
   "source": [
    "We can also check the data types for each column using the `dtypes` attribute."
   ]
  },
  {
   "cell_type": "code",
   "execution_count": null,
   "metadata": {},
   "outputs": [],
   "source": [
    "# List the data type of each column\n",
    "restaurants.dtypes"
   ]
  },
  {
   "cell_type": "markdown",
   "metadata": {},
   "source": [
    "The `object` type is a string. For many of these, we would like to change the data types for a few columns, using the `pd.to_numeric` and `pd.to_datetime` functions. We examine how to convert data types below."
   ]
  },
  {
   "cell_type": "markdown",
   "metadata": {},
   "source": [
    "Before we move on, note that we can use the method `describe()` to get a quick overview of the data in the dataframe."
   ]
  },
  {
   "cell_type": "code",
   "execution_count": null,
   "metadata": {
    "scrolled": true
   },
   "outputs": [],
   "source": [
    "# Summarize the columns\n",
    "restaurants.describe()"
   ]
  },
  {
   "cell_type": "markdown",
   "metadata": {},
   "source": [
    "### Descriptive Statistics for Numeric Variables\n"
   ]
  },
  {
   "cell_type": "markdown",
   "metadata": {},
   "source": [
    "#### Converting Data Types to Numeric"
   ]
  },
  {
   "cell_type": "markdown",
   "metadata": {},
   "source": [
    "The `object` type is a string. When we want to convert an object to numeric, we can use the `pd.to_numeric` function, as shown below:"
   ]
  },
  {
   "cell_type": "code",
   "execution_count": null,
   "metadata": {
    "scrolled": true
   },
   "outputs": [],
   "source": [
    "restaurants[\"SCORE\"] = pd.to_numeric(restaurants[\"SCORE\"])\n",
    "restaurants.dtypes"
   ]
  },
  {
   "cell_type": "markdown",
   "metadata": {},
   "source": [
    "#### Basic descriptive statistics for numeric variables\n",
    "\n",
    "And now that SCORE is a numeric variable, we can get more detailed descriptive statistics for the variable using the `.describe()` command:"
   ]
  },
  {
   "cell_type": "code",
   "execution_count": null,
   "metadata": {
    "scrolled": true
   },
   "outputs": [],
   "source": [
    "restaurants.SCORE.describe()"
   ]
  },
  {
   "cell_type": "markdown",
   "metadata": {},
   "source": [
    "And now that SCORE is a numeric variable, we can examine its distribution by using the `hist` command of Pandas, which creates a histogram. (The histogram is also available as `plot.hist`, or `plot(kind='hist'))`.)"
   ]
  },
  {
   "cell_type": "code",
   "execution_count": null,
   "metadata": {},
   "outputs": [],
   "source": [
    "restaurants[\"SCORE\"].hist()"
   ]
  },
  {
   "cell_type": "markdown",
   "metadata": {},
   "source": [
    "By default, the histogram has ~10 bars in out plot. We can change the resolution of the histogram using the `bins` variable. Larger number of `bins` allow for higher resolution, but if we increase the number too much, many bins end up having very few, or no data points. For example, experiment with changing the balue of bins below, and change the value from 50 to something bigger."
   ]
  },
  {
   "cell_type": "code",
   "execution_count": null,
   "metadata": {},
   "outputs": [],
   "source": [
    "restaurants[\"SCORE\"].hist(bins=50)"
   ]
  },
  {
   "cell_type": "code",
   "execution_count": null,
   "metadata": {},
   "outputs": [],
   "source": [
    "# A quick exposure to various options of the \"hist\" command \n",
    "restaurants.SCORE.hist(bins=50,       # use 50 bars\n",
    "                       range=(0,50),  # x-axis from 0 to 50\n",
    "                       density=True,  # show normalized count (density=True), or raw counts (density= False)\n",
    "                       figsize=(15,5) # controls the size of the plot\n",
    "                      )"
   ]
  },
  {
   "cell_type": "markdown",
   "metadata": {},
   "source": [
    "#### Kernel Density Estimation (KDE)\n",
    "\n",
    "An alternative to histograms is to use the **kernel density**, which estimates a continuous function, instead of the bucketized counts, which tends to be discontunuous and bumpy. We can access this usind the `.plot(kind='kde')` command:"
   ]
  },
  {
   "cell_type": "code",
   "execution_count": null,
   "metadata": {},
   "outputs": [],
   "source": [
    "# This plots the density of a numeric attribute\n",
    "# kde = kernel density estimation\n",
    "restaurants.SCORE.plot(\n",
    "    kind='kde', \n",
    "    color='blue', \n",
    "    xlim=(0,50),      # Set the range of the x axis\n",
    "    figsize=(15,5),    # Set the figure size\n",
    "    title = \"Restaurant Inspection Score Density\"\n",
    ")"
   ]
  },
  {
   "cell_type": "markdown",
   "metadata": {},
   "source": [
    "### Converting Dates"
   ]
  },
  {
   "cell_type": "markdown",
   "metadata": {},
   "source": [
    "Now let's convert the dates columns into the appropriate data types. Let's take a look at a few dates."
   ]
  },
  {
   "cell_type": "code",
   "execution_count": null,
   "metadata": {},
   "outputs": [],
   "source": [
    "restaurants[\"GRADE DATE\"].head(10)"
   ]
  },
  {
   "cell_type": "markdown",
   "metadata": {},
   "source": [
    "For that, we need to understand first how to [parse dates using the Python conventions](https://docs.python.org/3/library/datetime.html#strftime-and-strptime-behavior).\n",
    "\n",
    "The relevant entries from the table are:\n",
    "* `%m` Month as a zero-padded decimal number.\n",
    "* `%d` \tDay of the month as a zero-padded decimal number.\n",
    "* `%Y` Year with century as a decimal number.\n",
    "\n",
    "Now, we can specify how to parse these dates. Specifically, we use the `to_datetime` method of Pandas, and we specify how the dates are formatted. (In principle, we can let Pandas parse the format automatically, but it is _much_ faster if we specify it ourselves. It is also much less error-prone.)"
   ]
  },
  {
   "cell_type": "code",
   "execution_count": null,
   "metadata": {},
   "outputs": [],
   "source": [
    "restaurants[\"GRADE DATE\"]      = pd.to_datetime(restaurants[\"GRADE DATE\"],      format=\"%m/%d/%Y\")\n",
    "restaurants[\"RECORD DATE\"]     = pd.to_datetime(restaurants[\"RECORD DATE\"],     format=\"%m/%d/%Y\")\n",
    "restaurants[\"INSPECTION DATE\"] = pd.to_datetime(restaurants[\"INSPECTION DATE\"], format=\"%m/%d/%Y\")"
   ]
  },
  {
   "cell_type": "code",
   "execution_count": null,
   "metadata": {},
   "outputs": [],
   "source": [
    "# Check that the dates were converted\n",
    "restaurants.dtypes"
   ]
  },
  {
   "cell_type": "code",
   "execution_count": null,
   "metadata": {},
   "outputs": [],
   "source": [
    "# Summarize the new date columns\n",
    "restaurants[[\"INSPECTION DATE\", \"GRADE DATE\", \"RECORD DATE\"]].describe()"
   ]
  },
  {
   "cell_type": "markdown",
   "metadata": {},
   "source": [
    "#### Exercise\n",
    "\n",
    "* Plot a histogram for `INSPECTION DATE` AND `GRADE DATE`. What do you see?\n",
    "* Try modifying the `bins` parameter. What are the results?\n",
    "* The `range=(start, finish)` command is often useful, when we want to focus on a particular part of the dataset. Try using that for  `INSPECTION DATE` to limit the dates to be between 1/1/2014 and 05/31/2018."
   ]
  },
  {
   "cell_type": "code",
   "execution_count": null,
   "metadata": {},
   "outputs": [],
   "source": [
    "# your code here"
   ]
  },
  {
   "cell_type": "markdown",
   "metadata": {
    "solution2": "hidden",
    "solution2_first": true
   },
   "source": [
    "#### Solution:\n",
    "<span style=\"color:white\"> \n",
    "\\# Not very appealing\n",
    "restaurants['INSPECTION DATE'].hist()\n",
    "\\# Better\n",
    "restaurants['INSPECTION DATE'].hist(\n",
    "    range = ('1/1/2014','5/31/2018'), # limit the range of dates, ignore the 1/1/1990 faulty vale\n",
    "    bins = 53,                        # number of months in the range -- computed manually\n",
    "    figsize = (15,5)                  # resize 15-width, 5-height\n",
    ")\n",
    "restaurants['GRADE DATE'].hist()\n",
    "restaurants['GRADE DATE'].hist(\n",
    "    range = ('1/1/2014','5/31/2018'), # limit the range of dates, ignore the 1/1/1990 faulty valye\n",
    "    bins = 53,                        # number of months in the range -- computed manually\n",
    "    figsize = (15,5)                  # resize 15-width, 5-height\n",
    ")"
   ]
  },
  {
   "cell_type": "markdown",
   "metadata": {},
   "source": [
    "### Categorical Variables\n",
    "\n",
    "This is less important, but sometimes we want to specify variables to be \"Categorical\". This is most commonly useful when we have variables that have an implicit order (e.g., the A/B/C grade of the restaurant)."
   ]
  },
  {
   "cell_type": "code",
   "execution_count": null,
   "metadata": {},
   "outputs": [],
   "source": [
    "restaurants[\"BORO\"]                =  pd.Categorical(restaurants[\"BORO\"], ordered=False)\n",
    "restaurants[\"GRADE\"]               =  pd.Categorical(restaurants[\"GRADE\"], categories = ['A', 'B', 'C'], ordered=True)\n",
    "restaurants[\"VIOLATION CODE\"]      =  pd.Categorical(restaurants[\"VIOLATION CODE\"], ordered=False)\n",
    "restaurants[\"CRITICAL FLAG\"]       =  pd.Categorical(restaurants[\"CRITICAL FLAG\"], ordered=False)\n",
    "restaurants[\"ACTION\"]              =  pd.Categorical(restaurants[\"ACTION\"], ordered=False)\n",
    "restaurants[\"CUISINE DESCRIPTION\"] =  pd.Categorical(restaurants[\"CUISINE DESCRIPTION\"], ordered=False)\n",
    "restaurants.dtypes"
   ]
  },
  {
   "cell_type": "markdown",
   "metadata": {},
   "source": [
    "### Analyzing the content of the columns"
   ]
  },
  {
   "cell_type": "markdown",
   "metadata": {},
   "source": [
    "We can also get quick statistics about the common values that appear in each column using the `value_counts()` method:"
   ]
  },
  {
   "cell_type": "code",
   "execution_count": null,
   "metadata": {},
   "outputs": [],
   "source": [
    "restaurants[\"BORO\"].value_counts()"
   ]
  },
  {
   "cell_type": "code",
   "execution_count": null,
   "metadata": {},
   "outputs": [],
   "source": [
    "restaurants[\"DBA\"].value_counts()[:10] "
   ]
  },
  {
   "cell_type": "code",
   "execution_count": null,
   "metadata": {},
   "outputs": [],
   "source": [
    "restaurants[\"CUISINE DESCRIPTION\"].value_counts()[:5]"
   ]
  },
  {
   "cell_type": "markdown",
   "metadata": {},
   "source": [
    "And we can use the \"plot\" command to plot the resulting counts. (More details at http://pandas.pydata.org/pandas-docs/stable/visualization.html). Since the data is categorical, we will use a `bar` chart instead of a `histogram`:"
   ]
  },
  {
   "cell_type": "code",
   "execution_count": null,
   "metadata": {},
   "outputs": [],
   "source": [
    "popular = restaurants[\"CUISINE DESCRIPTION\"].value_counts()[:5]\n",
    "popular.plot(kind ='bar', \n",
    "             title = 'Top Cuisine Types')"
   ]
  },
  {
   "cell_type": "markdown",
   "metadata": {},
   "source": [
    "Hm, that does not look nice. Let's shorten the name of the cuisine for the _\"Latin (Cuban, Dominican, Puerto Rican, South & Central American)\"_ and replace it with _\"Latin American\"_. We will use the `replace` command in Pandas:"
   ]
  },
  {
   "cell_type": "code",
   "execution_count": null,
   "metadata": {},
   "outputs": [],
   "source": [
    "restaurants[\"CUISINE DESCRIPTION\"].replace(\n",
    "    to_replace='Latin (Cuban, Dominican, Puerto Rican, South & Central American)',\n",
    "    value = 'Latin American',\n",
    "    inplace=True\n",
    ")"
   ]
  },
  {
   "cell_type": "code",
   "execution_count": null,
   "metadata": {},
   "outputs": [],
   "source": [
    "restaurants[\"CUISINE DESCRIPTION\"].replace(\n",
    "    to_replace='CafÃ©/Coffee/Tea',\n",
    "    value = 'Cafe/Coffee/Tea',\n",
    "    inplace=True\n",
    ")"
   ]
  },
  {
   "cell_type": "code",
   "execution_count": null,
   "metadata": {},
   "outputs": [],
   "source": [
    "popular = restaurants[\"CUISINE DESCRIPTION\"].value_counts()[:5]\n",
    "popular.plot(kind='bar', title = 'Top Cuisine Types')"
   ]
  },
  {
   "cell_type": "markdown",
   "metadata": {},
   "source": [
    "And, try with violation codes:"
   ]
  },
  {
   "cell_type": "code",
   "execution_count": null,
   "metadata": {},
   "outputs": [],
   "source": [
    "top_violation_counts = restaurants[\"VIOLATION CODE\"].value_counts()[0:10]\n",
    "top_violation_counts"
   ]
  },
  {
   "cell_type": "code",
   "execution_count": null,
   "metadata": {},
   "outputs": [],
   "source": [
    "top_violation_counts[0:10].plot(kind='bar', \n",
    "                            title = 'Most Frequent Violations')  # Specify bar width (0-1) to control gap between bars"
   ]
  },
  {
   "cell_type": "markdown",
   "metadata": {},
   "source": [
    "#### Exercise\n",
    "\n",
    "* Create a plot showing the number of inspections that happen across boroughs."
   ]
  },
  {
   "cell_type": "code",
   "execution_count": null,
   "metadata": {},
   "outputs": [],
   "source": [
    "# your code here"
   ]
  },
  {
   "cell_type": "markdown",
   "metadata": {
    "solution2": "hidden",
    "solution2_first": true
   },
   "source": [
    "#### Solution \n",
    "<span style=\"color:white\">\n",
    "restaurants['BORO'].value_counts()\n",
    "\\# Same as above; works only for attribute names without spaces\n",
    "restaurants.BORO.value_counts()\n",
    "restaurants['BORO'].value_counts().plot(kind='bar', width=.9)\n",
    "restaurants['BORO'].value_counts().plot(kind='barh', width=.9)"
   ]
  },
  {
   "cell_type": "markdown",
   "metadata": {},
   "source": [
    "### Selecting a subset of the columns\n",
    "\n",
    "In a dataframe, we can specify the column(s) that we want to keep, and get back another dataframe with just the subset of the columns that we want to keep."
   ]
  },
  {
   "cell_type": "code",
   "execution_count": null,
   "metadata": {},
   "outputs": [],
   "source": [
    "column_list = [\"INSPECTION DATE\",\"VIOLATION CODE\", \"DBA\", \"SCORE\"]\n",
    "restaurants[ column_list ].head(10)"
   ]
  },
  {
   "cell_type": "code",
   "execution_count": null,
   "metadata": {},
   "outputs": [],
   "source": [
    "restaurants[ [\"VIOLATION CODE\", \"VIOLATION DESCRIPTION\"] ].head(5)"
   ]
  },
  {
   "cell_type": "markdown",
   "metadata": {},
   "source": [
    "### Selecting rows\n",
    "\n",
    "To select rows, we can use the following approach, where we generate a list of boolean values, one for each row of the dataframe, and then we use the list to select which of the rows of the dataframe we want to keep\""
   ]
  },
  {
   "cell_type": "code",
   "execution_count": null,
   "metadata": {},
   "outputs": [],
   "source": [
    "# Create the condition \"has mice\" for code 04L\n",
    "mice = (restaurants[\"VIOLATION CODE\"] == \"04L\")\n",
    "mice"
   ]
  },
  {
   "cell_type": "code",
   "execution_count": null,
   "metadata": {},
   "outputs": [],
   "source": [
    "# Apply the condition to the dataframe \"restaurants\" and store the result \n",
    "# in a dataframe called  has_mice\n",
    "has_mice = restaurants[mice]\n",
    "has_mice"
   ]
  },
  {
   "cell_type": "code",
   "execution_count": null,
   "metadata": {},
   "outputs": [],
   "source": [
    "# List the most frequent DBA values in the dataframe\n",
    "has_mice[\"DBA\"].value_counts()[:20]"
   ]
  },
  {
   "cell_type": "code",
   "execution_count": null,
   "metadata": {},
   "outputs": [],
   "source": [
    "has_mice[\"CAMIS\"].value_counts()[:5]"
   ]
  },
  {
   "cell_type": "code",
   "execution_count": null,
   "metadata": {},
   "outputs": [],
   "source": [
    "condition = (restaurants[\"CAMIS\"] == '41444879')\n",
    "restaurants[condition]"
   ]
  },
  {
   "cell_type": "markdown",
   "metadata": {},
   "source": [
    "And we can use more complex conditions. "
   ]
  },
  {
   "cell_type": "code",
   "execution_count": null,
   "metadata": {},
   "outputs": [],
   "source": [
    "mice_manhattan =  ( (restaurants[\"VIOLATION CODE\"] == \"04L\") \n",
    "                    & (restaurants[\"BORO\"] == \"MANHATTAN\") \n",
    "                    & (restaurants[\"ZIPCODE\"] == \"10012\") )"
   ]
  },
  {
   "cell_type": "code",
   "execution_count": null,
   "metadata": {},
   "outputs": [],
   "source": [
    "has_mice_10012 = restaurants[mice_manhattan]\n",
    "has_mice_10012"
   ]
  },
  {
   "cell_type": "code",
   "execution_count": null,
   "metadata": {},
   "outputs": [],
   "source": [
    "has_mice_10012[\"DBA\"].value_counts()[:20]"
   ]
  },
  {
   "cell_type": "code",
   "execution_count": null,
   "metadata": {
    "scrolled": false
   },
   "outputs": [],
   "source": [
    "names_mice_10012 = has_mice_10012[\"DBA\"].value_counts()[:10].sort_values(ascending=True)\n",
    "names_mice_10012.plot(kind='barh', \n",
    "                       width=0.9,\n",
    "                       title='Restaurants in Zip 10012 with Frequent Mice')"
   ]
  },
  {
   "cell_type": "markdown",
   "metadata": {},
   "source": [
    "### Pivot Tables\n",
    "\n",
    "[Pivot tables](http://pandas.pydata.org/pandas-docs/stable/generated/pandas.pivot_table.html) is one of the most commonly used exploratory tools, and in Pandas they are extremely flexible. \n",
    "\n",
    "For example, let's try to count the number of restaurants that are inspected every day. "
   ]
  },
  {
   "cell_type": "code",
   "execution_count": null,
   "metadata": {},
   "outputs": [],
   "source": [
    "pivot = pd.pivot_table(\n",
    "                        data = restaurants,\n",
    "                        index   = 'INSPECTION DATE', # specifies the rows\n",
    "                        values  = 'CAMIS',           # specifies the content of the cells\n",
    "                        aggfunc = 'count'            # we ask to count how many different CAMIS values we see\n",
    "                    )\n",
    "\n",
    "pivot.head()"
   ]
  },
  {
   "cell_type": "markdown",
   "metadata": {},
   "source": [
    "Now, let's plot this. By default, Pandas considers the \"index\" column to be the x-axis, and plots the rest."
   ]
  },
  {
   "cell_type": "code",
   "execution_count": null,
   "metadata": {},
   "outputs": [],
   "source": [
    "pivot.plot(figsize=[15,5],\n",
    "           legend=None)"
   ]
  },
  {
   "cell_type": "markdown",
   "metadata": {},
   "source": [
    "#### Deleting rows from a DataFrame\n",
    "\n",
    "Hm, that '1900-01-01' line is messing things up. Let's delete it, using the `drop` command. Notice a few things:\n",
    "* We use the `pd.to_datetime` command to convert the '1900-01-01' string into a datetime data type.\n",
    "* We use the `axis='index'` parameter means that we delete a **row** with that index value. (The `axis='columns'` means that we delete a column.). Often you will see `axis=0` (equivalent to `axis='index'`) and `axis=1` (equivalent to `axis='columns'`).\n",
    "* The `inplace=True` means that we change directly the dataframe, instead of returning a new dataframe that does not have the deleted value."
   ]
  },
  {
   "cell_type": "code",
   "execution_count": null,
   "metadata": {},
   "outputs": [],
   "source": [
    "pivot.drop(pd.to_datetime('1900-01-01'), \n",
    "           axis='index', \n",
    "           inplace=True) "
   ]
  },
  {
   "cell_type": "markdown",
   "metadata": {},
   "source": [
    "And let's plot again."
   ]
  },
  {
   "cell_type": "code",
   "execution_count": null,
   "metadata": {
    "scrolled": false
   },
   "outputs": [],
   "source": [
    "pivot.plot(title = 'Count of Inspections by Day',\n",
    "           figsize=[15,5],\n",
    "           legend=None)"
   ]
  },
  {
   "cell_type": "markdown",
   "metadata": {},
   "source": [
    "#### Changing date granularity \n",
    "\n",
    "We can also use the [resample](http://pandas.pydata.org/pandas-docs/stable/generated/pandas.DataFrame.resample.html) command to change the frequency from one day, to, say, 7 days. Then we can compute, say, the average (`mean()`) for these days, or the total number (`sum()`) of inspections."
   ]
  },
  {
   "cell_type": "code",
   "execution_count": null,
   "metadata": {},
   "outputs": [],
   "source": [
    "pivot.resample('7D').mean() # Resamples to every 7 days, and takes the mean over the days"
   ]
  },
  {
   "cell_type": "markdown",
   "metadata": {},
   "source": [
    "Now, let's plot this. By default, Pandas considers the \"index\" column to be the x-axis, and plots the rest."
   ]
  },
  {
   "cell_type": "code",
   "execution_count": null,
   "metadata": {},
   "outputs": [],
   "source": [
    "# Plot the average number of inspections, over 7-day periods\n",
    "mean_inspections_weekly = pivot.resample('7D').mean()\n",
    "mean_inspections_weekly.plot(title = 'Count of Inspections by Week',\n",
    "                                 figsize=[15,5],\n",
    "                                 legend=None)"
   ]
  },
  {
   "cell_type": "code",
   "execution_count": null,
   "metadata": {},
   "outputs": [],
   "source": [
    "# Plot the total number of inspections, over 1-month periods\n",
    "mean_inspections_monthly = pivot.resample('1M').sum()\n",
    "mean_inspections_monthly.plot(title = 'Count of Inspections by Month',\n",
    "                               figsize=[15,5],\n",
    "                               legend=None)"
   ]
  },
  {
   "cell_type": "code",
   "execution_count": null,
   "metadata": {},
   "outputs": [],
   "source": [
    "# If we want to modify more aspects of the graph, we will need to store it:\n",
    "plot = mean_inspections_weekly.plot(figsize=[15,5], legend=None)\n",
    "\n",
    "# Now, we can tweak the axes and the titles\n",
    "plot.set_xlabel(\"Date of Inspection\")\n",
    "plot.set_ylabel(\"Average Number of Weekly Inspections\")\n",
    "plot.set_title(\"Number of Inspections over Time\")"
   ]
  },
  {
   "cell_type": "markdown",
   "metadata": {},
   "source": [
    "#### Pivot Table with two (or more) variables)\n",
    "\n",
    "We would like to break down the results by borough, so we add the `column` parameter."
   ]
  },
  {
   "cell_type": "code",
   "execution_count": null,
   "metadata": {},
   "outputs": [],
   "source": [
    "pivot2 =  pd.pivot_table(\n",
    "                            data = restaurants,\n",
    "                            index = 'INSPECTION DATE', \n",
    "                            columns = 'BORO', \n",
    "                            values = 'CAMIS', \n",
    "                            aggfunc = 'count'\n",
    "                        )\n",
    "pivot2.head()"
   ]
  },
  {
   "cell_type": "markdown",
   "metadata": {},
   "source": [
    "##### Deleting rows and columns\n",
    "\n",
    "Now, you will notice that there are a few columns and rows that are just noise. The first row with date *'1900-01-01'* is clearly noise, and the *'Missing'* columns the same. We can use the `drop` command of Pandas to drop these."
   ]
  },
  {
   "cell_type": "code",
   "execution_count": null,
   "metadata": {},
   "outputs": [],
   "source": [
    "# The axis='index' (or axis=0) means that we delete a row with that index value\n",
    "pivot2 = pivot2.drop(pd.to_datetime('1900-01-01'), \n",
    "                     axis='index') "
   ]
  },
  {
   "cell_type": "code",
   "execution_count": null,
   "metadata": {},
   "outputs": [],
   "source": [
    "# The axis='columns' (or axis=1) means that we delete a columns with that value\n",
    "pivot2 = pivot2.drop('Missing', \n",
    "                     axis='columns')"
   ]
  },
  {
   "cell_type": "code",
   "execution_count": null,
   "metadata": {},
   "outputs": [],
   "source": [
    "# We resample the index, to keep only dates every one month\n",
    "# For that one month period, we compute the average value\n",
    "pivot2.resample('1M').mean()"
   ]
  },
  {
   "cell_type": "code",
   "execution_count": null,
   "metadata": {},
   "outputs": [],
   "source": [
    "# If we plot a dataframe then by default the index column\n",
    "# in our case the INSPECTION DATE becomes the x-axis\n",
    "# and all the columns become separate lines in the plot\n",
    "pivot2.resample('1M').mean().plot()"
   ]
  },
  {
   "cell_type": "markdown",
   "metadata": {},
   "source": [
    "#### Potential Exercise, if we have time: \n",
    "Drop the last date, which corresponds to an incomplete month"
   ]
  },
  {
   "cell_type": "code",
   "execution_count": null,
   "metadata": {},
   "outputs": [],
   "source": []
  },
  {
   "cell_type": "markdown",
   "metadata": {},
   "source": [
    "**Answer**:\n",
    "<span style='color:white'>\n",
    "pivot2 = pivot2.resample('1M').mean().drop(pd.to_datetime('2018-07-31', format = \"%Y-%m-%d\"), \n",
    "                     axis='index') "
   ]
  },
  {
   "cell_type": "markdown",
   "metadata": {},
   "source": [
    "### (Optional, FYI) Advanced Pivot Tables\n",
    "\n",
    "We can also add multiple attributes in the index and columns. It is also possible to have multiple aggregation functions, and we can even define our own aggregation functions."
   ]
  },
  {
   "cell_type": "code",
   "execution_count": null,
   "metadata": {},
   "outputs": [],
   "source": [
    "# We write a function that returns the \n",
    "# number of unique items in a list x \n",
    "def count_unique(x):\n",
    "    return len(set(x))\n",
    "\n",
    "# We break down by BORO and GRADE, and also calculate \n",
    "# inspections in unique (unique restaurants) \n",
    "# and non-unique entries (effectively, violations)\n",
    "pivot_advanced = pd.pivot_table(\n",
    "    data = restaurants, #\n",
    "    index = 'GRADE DATE', \n",
    "    columns = ['BORO', 'GRADE'],\n",
    "    values = 'CAMIS', \n",
    "    aggfunc = ['count', count_unique]\n",
    ")"
   ]
  },
  {
   "cell_type": "code",
   "execution_count": null,
   "metadata": {},
   "outputs": [],
   "source": [
    "# Take the total number of inspections (unique and non-unique)\n",
    "agg = pivot_advanced.resample('1M').sum()\n",
    "\n",
    "# Show the last 5 entries and show the transpose (.T) \n",
    "agg.tail().T"
   ]
  },
  {
   "cell_type": "markdown",
   "metadata": {},
   "source": [
    "### Exercise 1 \n",
    "\n",
    "Now let's do the same exercise, but instead of counting the number of inspections, we want to compute the average score assigned by the inspectors. Hint: We will need to change the `values` and the `aggfunc` parameters in the `pivot_table` function above."
   ]
  },
  {
   "cell_type": "code",
   "execution_count": null,
   "metadata": {},
   "outputs": [],
   "source": [
    "pivot_advanced = pd.pivot_table(\n",
    "    data = restaurants, #\n",
    "    index = 'GRADE DATE', \n",
    "    columns = ['BORO', 'GRADE'],\n",
    "    values = 'SCORE', \n",
    "    aggfunc = 'mean'\n",
    ")"
   ]
  },
  {
   "cell_type": "code",
   "execution_count": null,
   "metadata": {},
   "outputs": [],
   "source": [
    "# Take the total number of inspections (unique and non-unique)\n",
    "agg = pivot_advanced.resample('1M').mean()\n",
    "\n",
    "# Show the last 5 entries and show the transpose (.T) \n",
    "agg.tail().T"
   ]
  },
  {
   "cell_type": "markdown",
   "metadata": {},
   "source": [
    "\n",
    "\n",
    "### Exercise 2\n",
    "\n",
    "We now want to examine if different cuisines have different inspection scores. Compute the average inspection score by cuisine. Use the `sort_values()` command ([documentation](https://pandas.pydata.org/pandas-docs/stable/generated/pandas.DataFrame.sort_values.html)) to order cuisines by their inspection scores."
   ]
  },
  {
   "cell_type": "code",
   "execution_count": null,
   "metadata": {},
   "outputs": [],
   "source": [
    "pivot_advanced = pd.pivot_table(\n",
    "    data = restaurants, #\n",
    "    index = 'CUISINE DESCRIPTION', \n",
    "    values = 'SCORE', \n",
    "    aggfunc = 'mean'\n",
    ")"
   ]
  },
  {
   "cell_type": "code",
   "execution_count": null,
   "metadata": {},
   "outputs": [],
   "source": [
    "pivot_advanced.sort_values('SCORE')"
   ]
  },
  {
   "cell_type": "markdown",
   "metadata": {},
   "source": [
    "## Exercise: NYPD Vehicle Collisions\n",
    "\n",
    "* We interacted with the NYC Restaurant Inspection Data. Now, let's download another dataset, and do some analysis. We will focus on the [NYPD Vehicle Collisions](https://data.cityofnewyork.us/Public-Safety/NYPD-Motor-Vehicle-Collisions/h9gi-nx95/data) data set.\n"
   ]
  },
  {
   "cell_type": "markdown",
   "metadata": {},
   "source": [
    "### Task 1: \n",
    "\n",
    "Download the dataset. Use the \"Export\" view, get the URL for the CSV file, and dowload it using curl. (See the top of the notebook for guidance.) \n"
   ]
  },
  {
   "cell_type": "code",
   "execution_count": null,
   "metadata": {},
   "outputs": [],
   "source": []
  },
  {
   "cell_type": "markdown",
   "metadata": {
    "solution2": "hidden",
    "solution2_first": true
   },
   "source": [
    "#### Solution"
   ]
  },
  {
   "cell_type": "code",
   "execution_count": null,
   "metadata": {
    "solution2": "hidden"
   },
   "outputs": [],
   "source": [
    "# It is a big file, ~270Mb. It will take 2-3 minutes to download\n",
    "!curl https://data.cityofnewyork.us/api/views/h9gi-nx95/rows.csv?accessType=DOWNLOAD -o accidents.csv"
   ]
  },
  {
   "cell_type": "code",
   "execution_count": null,
   "metadata": {
    "solution2": "hidden"
   },
   "outputs": [],
   "source": [
    "df = pd.read_csv(\"accidents.csv\", low_memory=False)"
   ]
  },
  {
   "cell_type": "code",
   "execution_count": null,
   "metadata": {
    "solution2": "hidden"
   },
   "outputs": [],
   "source": [
    "df.dtypes"
   ]
  },
  {
   "cell_type": "markdown",
   "metadata": {},
   "source": [
    "\n",
    "### Task 2: \n",
    "\n",
    "Find out the most common contributing factors to the collisions. \n",
    " "
   ]
  },
  {
   "cell_type": "code",
   "execution_count": null,
   "metadata": {},
   "outputs": [],
   "source": []
  },
  {
   "cell_type": "markdown",
   "metadata": {
    "solution2": "hidden",
    "solution2_first": true
   },
   "source": [
    "#### Solution"
   ]
  },
  {
   "cell_type": "code",
   "execution_count": null,
   "metadata": {
    "solution2": "hidden"
   },
   "outputs": [],
   "source": [
    "# Task 2: Find out the most common contributing factors to the collisions.\n",
    "# Notice that we skip the first element (0) of the list, and we get the elements 1:10\n",
    "df['CONTRIBUTING FACTOR VEHICLE 1'].value_counts()[1:10].plot(kind='barh')"
   ]
  },
  {
   "cell_type": "markdown",
   "metadata": {},
   "source": [
    "### Task 3: \n",
    "\n",
    "Break down the number of collisions by borough.\n",
    "\n",
    "\n",
    "\n"
   ]
  },
  {
   "cell_type": "code",
   "execution_count": null,
   "metadata": {},
   "outputs": [],
   "source": []
  },
  {
   "cell_type": "markdown",
   "metadata": {
    "solution2": "hidden",
    "solution2_first": true
   },
   "source": [
    "#### Solution"
   ]
  },
  {
   "cell_type": "code",
   "execution_count": null,
   "metadata": {
    "solution2": "hidden"
   },
   "outputs": [],
   "source": [
    "# Task 3: Break down the number of collisions by borough.\n",
    "df['BOROUGH'].value_counts().plot(kind='barh')"
   ]
  },
  {
   "cell_type": "markdown",
   "metadata": {},
   "source": [
    "### Task 4\n",
    "\n",
    "Find out the how many collisions had 0 persons injured, 1 persons injured, etc. persons injured in each accident. Use the `value_counts()` approach. You may also find the `.plot(logy=True)` option useful when you create the plot to make the y-axis logarigthmic.\n",
    " "
   ]
  },
  {
   "cell_type": "code",
   "execution_count": null,
   "metadata": {},
   "outputs": [],
   "source": []
  },
  {
   "cell_type": "markdown",
   "metadata": {
    "solution2": "hidden",
    "solution2_first": true
   },
   "source": [
    "#### Solution"
   ]
  },
  {
   "cell_type": "code",
   "execution_count": null,
   "metadata": {
    "solution2": "hidden"
   },
   "outputs": [],
   "source": [
    "# \"Chain\" style of writing data maniputation operations\n",
    "plot = (\n",
    "    df['NUMBER OF PERSONS INJURED'] # We analyze people injured\n",
    "    .value_counts() # Count how many accidents had this number of injuries\n",
    "    .sort_index() # Sort the x-axis\n",
    "    .plot( \n",
    "        # kind='bar', # Create a bar plot\n",
    "        logy=True # Make the y-axis logarithmic\n",
    "    )\n",
    ")\n",
    "plot.set_xlabel(\"Number of injuries\")\n",
    "plot.set_ylabel(\"Number of collisions\")\n",
    "plot.set_title(\"Analysis of number of injuries per collision\")"
   ]
  },
  {
   "cell_type": "markdown",
   "metadata": {},
   "source": [
    "### Task 5\n",
    "\n",
    "Break down the accidents by borough and contributing factor. Use the `pivot_table` function of Pandas\n",
    " "
   ]
  },
  {
   "cell_type": "code",
   "execution_count": null,
   "metadata": {},
   "outputs": [],
   "source": []
  },
  {
   "cell_type": "markdown",
   "metadata": {
    "solution2": "hidden",
    "solution2_first": true
   },
   "source": [
    "#### Solution"
   ]
  },
  {
   "cell_type": "code",
   "execution_count": null,
   "metadata": {
    "solution2": "hidden"
   },
   "outputs": [],
   "source": [
    "pivot = pd.pivot_table(\n",
    "    data = df, # we analyze the df (accidents) dataframe\n",
    "    index = 'CONTRIBUTING FACTOR VEHICLE 1', \n",
    "    columns = 'BOROUGH', \n",
    "    values = 'UNIQUE KEY', \n",
    "    aggfunc = 'count'\n",
    ")\n",
    "pivot"
   ]
  },
  {
   "cell_type": "markdown",
   "metadata": {},
   "source": [
    "### Task 6\n",
    "\n",
    "Find the dates with the most accidents. Can you figure out what happened on these days? \n"
   ]
  },
  {
   "cell_type": "code",
   "execution_count": null,
   "metadata": {},
   "outputs": [],
   "source": []
  },
  {
   "cell_type": "markdown",
   "metadata": {
    "solution2": "hidden",
    "solution2_first": true
   },
   "source": [
    "#### Solution"
   ]
  },
  {
   "cell_type": "code",
   "execution_count": null,
   "metadata": {
    "solution2": "hidden"
   },
   "outputs": [],
   "source": [
    "df.DATE.value_counts()"
   ]
  },
  {
   "cell_type": "markdown",
   "metadata": {},
   "source": [
    "### Task 7\n",
    "\n",
    "Plot the number of accidents per day. (Hint: Ensure that your date column is in the right datatype and that it is properly sorted, before plotting)\n"
   ]
  },
  {
   "cell_type": "code",
   "execution_count": null,
   "metadata": {},
   "outputs": [],
   "source": []
  },
  {
   "cell_type": "markdown",
   "metadata": {
    "solution2": "hidden",
    "solution2_first": true
   },
   "source": [
    "#### Solution "
   ]
  },
  {
   "cell_type": "code",
   "execution_count": null,
   "metadata": {
    "solution2": "hidden"
   },
   "outputs": [],
   "source": [
    "df['DATE'] = pd.to_datetime(df['DATE'], format=\"%m/%d/%Y\")"
   ]
  },
  {
   "cell_type": "code",
   "execution_count": null,
   "metadata": {
    "solution2": "hidden"
   },
   "outputs": [],
   "source": [
    "(\n",
    "    df.DATE.value_counts() # count the number of accidents per day\n",
    "    .sort_index() # sort the dates\n",
    "    .resample('1M') # take periods of 1 month\n",
    "    .sum() # sum the number of accidents per month\n",
    "    .drop(pd.to_datetime('2018-05-31'), axis='index') # drop the current month\n",
    "    .plot() # plot the result\n",
    ")"
   ]
  },
  {
   "cell_type": "markdown",
   "metadata": {},
   "source": [
    "### Task 8\n",
    "\n",
    "Plot the accidents in map. Use a scatter plot using the `plot(kind='scatter', x=..., y=....)` command, and use the `LATITUDE` and `LONGITUDE` parameters. (Hint: **You will have to remove bad data points before getting into the right visual result**. To do this, specify a selection condition to limit the lat/long values to be values that are proper for the NYC region.)"
   ]
  },
  {
   "cell_type": "code",
   "execution_count": null,
   "metadata": {},
   "outputs": [],
   "source": []
  },
  {
   "cell_type": "markdown",
   "metadata": {
    "solution2": "hidden",
    "solution2_first": true
   },
   "source": [
    "#### Solution"
   ]
  },
  {
   "cell_type": "code",
   "execution_count": null,
   "metadata": {
    "solution2": "hidden"
   },
   "outputs": [],
   "source": [
    "cleandf = df[(df.LONGITUDE<-50) & (df.LONGITUDE>-74.5) & (df.LATITUDE< 41)]\n",
    "\n",
    "cleandf.plot(\n",
    "    kind = 'scatter',\n",
    "    x = 'LONGITUDE',\n",
    "    y = 'LATITUDE',\n",
    "    s = 1, # make the size of the marker 1 pixel\n",
    "    figsize = (20,15), # increase the size of the figure\n",
    "    alpha = 0.05 # make each dot to be 95% transparent \n",
    ")"
   ]
  },
  {
   "cell_type": "markdown",
   "metadata": {},
   "source": [
    "### Task 9\n",
    "\n",
    "Plot the accidents in map as above, but limit the data only to accidents with at least one injury."
   ]
  },
  {
   "cell_type": "code",
   "execution_count": null,
   "metadata": {},
   "outputs": [],
   "source": []
  },
  {
   "cell_type": "markdown",
   "metadata": {
    "solution2": "hidden",
    "solution2_first": true
   },
   "source": [
    "#### Solution"
   ]
  },
  {
   "cell_type": "code",
   "execution_count": null,
   "metadata": {
    "solution2": "hidden"
   },
   "outputs": [],
   "source": [
    "cleandf = df[(df.LONGITUDE<-50) & (df.LONGITUDE>-74.5) & (df.LATITUDE< 41)]\n",
    "\n",
    "mask_injured = cleandf['NUMBER OF PERSONS INJURED']>=1\n",
    "injured_df = cleandf[mask_injured]\n",
    "\n",
    "injured_df.plot(\n",
    "    kind = 'scatter',\n",
    "    x = 'LONGITUDE',\n",
    "    y = 'LATITUDE',\n",
    "    s = 1, # make the size of the marker 1 pixel\n",
    "    figsize = (20,15), # increase the size of the figure\n",
    "    alpha = 0.05 # make each dot to be 95% transparent \n",
    ")"
   ]
  },
  {
   "cell_type": "code",
   "execution_count": null,
   "metadata": {},
   "outputs": [],
   "source": []
  },
  {
   "cell_type": "markdown",
   "metadata": {},
   "source": [
    "### Bonus plots"
   ]
  },
  {
   "cell_type": "code",
   "execution_count": null,
   "metadata": {},
   "outputs": [],
   "source": [
    "# In the code below, we create three plots\n",
    "# One with  all the accidents (in black)\n",
    "# One with all accidents that resulted in an injury (with orange)\n",
    "# One with all the accidents with deaths (with red dots) \n",
    "# Then we combine the  plots using the \"ax\" parameter\n",
    "\n",
    "df = pd.read_csv(\"accidents.csv\", low_memory=False)\n",
    "\n",
    "# We put conditions to keep only rows that \n",
    "# have reasonable values for LONGITUDE and LATITUDE\n",
    "# The & character is the \"AND\" in Pandas\n",
    "# the df.LATITUDE is equivalent to df['LATITUDE']\n",
    "cleandf = df[ (df.LATITUDE > 40) & (df.LATITUDE < 41) & (df.LONGITUDE < -72) & (df.LONGITUDE > -74.5) ]\n",
    "\n",
    "\n",
    "all_accidents_plot = cleandf.plot (\n",
    "    kind='scatter',\n",
    "    x = 'LONGITUDE',\n",
    "    y = 'LATITUDE',\n",
    "    figsize = (20, 18), # changes the size of the plot to be bigger and square\n",
    "    color = 'black',\n",
    "    alpha = 0.05, # makes the data points transparent (1 = opaque, 0 fully transparent)\n",
    "    s = 0.5 # make the size of the market just 0.5 pixel\n",
    ")\n",
    "\n",
    "# We will keep only entries with at least one injury\n",
    "# note that we cannot use the df.NUMBER OF PERSON INJURED notation\n",
    "# because the attribute contains spaces.\n",
    "mask_injured = cleandf['NUMBER OF PERSONS INJURED']>=1\n",
    "injured_plot = cleandf[mask_injured].plot (\n",
    "    kind='scatter',\n",
    "    x = 'LONGITUDE',\n",
    "    y = 'LATITUDE',\n",
    "    figsize = (20, 18), # changes the size of the plot to be bigger and square\n",
    "    alpha = 0.1, # makes the data points transparent (1 = opaque, 0 fully transparent)\n",
    "    color = 'orange',\n",
    "    ax = all_accidents_plot, # the ax parameter allows us to combine plots\n",
    "    s = 1 # make the size of the market just 1 pixel\n",
    ")\n",
    "\n",
    "# we want only accidents with at least one death\n",
    "mask_killed = cleandf['NUMBER OF PERSONS KILLED']>=1\n",
    "cleandf[mask_killed].plot (\n",
    "    kind='scatter',\n",
    "    x = 'LONGITUDE',\n",
    "    y = 'LATITUDE',\n",
    "    figsize = (20, 18), # changes the size of the plot to be bigger and square\n",
    "    alpha = 0.85, # makes the data points transparent (1 = opaque, 0 fully transparent)\n",
    "    s = 5, # make the size of the market 5 pixels, to be more visible\n",
    "    color = 'red',\n",
    "    ax = injured_plot # the ax parameter allows us to combine plots\n",
    ")"
   ]
  },
  {
   "cell_type": "code",
   "execution_count": null,
   "metadata": {},
   "outputs": [],
   "source": [
    "# Same as above, but with a 2-d density estimation for the location of\n",
    "# accidents that resulted in at least one death\n",
    "\n",
    "cleandf = df[ (df.LATITUDE > 40) & (df.LATITUDE < 41) & (df.LONGITUDE < -72) & (df.LONGITUDE > -74.5) ]\n",
    "\n",
    "\n",
    "all_accidents_plot = cleandf.plot (\n",
    "    kind='scatter',\n",
    "    x = 'LONGITUDE',\n",
    "    y = 'LATITUDE',\n",
    "    figsize = (20, 18), # changes the size of the plot to be bigger and square\n",
    "    color = 'black',\n",
    "    alpha = 0.05, # makes the data points transparent (1 = opaque, 0 fully transparent)\n",
    "    s = 0.5 # make the size of the market just 0.5 pixel\n",
    ")\n",
    "\n",
    "# We will keep only entries with at least one injury\n",
    "# note that we cannot use the df.NUMBER OF PERSON INJURED notation\n",
    "# because the attribute contains spaces.\n",
    "mask_injured = cleandf['NUMBER OF PERSONS INJURED']>=1\n",
    "injured_plot = cleandf[mask_injured].plot (\n",
    "    kind='scatter',\n",
    "    x = 'LONGITUDE',\n",
    "    y = 'LATITUDE',\n",
    "    figsize = (20, 18), # changes the size of the plot to be bigger and square\n",
    "    alpha = 0.1, # makes the data points transparent (1 = opaque, 0 fully transparent)\n",
    "    color = 'orange',\n",
    "    ax = all_accidents_plot, # the ax parameter allows us to combine plots\n",
    "    s = 1 # make the size of the market just 1 pixel\n",
    ")\n",
    "\n",
    "# we want only accidents with at least one death\n",
    "mask_killed = cleandf['NUMBER OF PERSONS KILLED']>=1\n",
    "killed_plot = cleandf[mask_killed].plot (\n",
    "    kind='scatter',\n",
    "    x = 'LONGITUDE',\n",
    "    y = 'LATITUDE',\n",
    "    figsize = (20, 18), # changes the size of the plot to be bigger and square\n",
    "    alpha = 0.85, # makes the data points transparent (1 = opaque, 0 fully transparent)\n",
    "    s = 5, # make the size of the market 5 pixels, to be more visible\n",
    "    color = 'red',\n",
    "    ax = injured_plot # the ax parameter allows us to combine plots\n",
    ")\n",
    "\n",
    "sns.set_style(\"white\")\n",
    "mask = cleandf['NUMBER OF PERSONS KILLED']>=1\n",
    "sample = cleandf[mask] # .sample(10000)\n",
    "\n",
    "sns.kdeplot(sample.LONGITUDE, sample.LATITUDE, gridsize=100,\n",
    "            cmap=plt.cm.BuGn, shade=False, shade_lowest=True, n_levels=20, alpha=0.75, ax = killed_plot)\n"
   ]
  }
 ],
 "metadata": {
  "kernelspec": {
   "display_name": "Python 3",
   "language": "python",
   "name": "python3"
  },
  "language_info": {
   "codemirror_mode": {
    "name": "ipython",
    "version": 3
   },
   "file_extension": ".py",
   "mimetype": "text/x-python",
   "name": "python",
   "nbconvert_exporter": "python",
   "pygments_lexer": "ipython3",
   "version": "3.6.5"
  }
 },
 "nbformat": 4,
 "nbformat_minor": 1
}
