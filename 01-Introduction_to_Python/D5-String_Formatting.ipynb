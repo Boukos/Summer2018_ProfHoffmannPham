{
 "cells": [
  {
   "cell_type": "markdown",
   "metadata": {
    "slideshow": {
     "slide_type": "slide"
    }
   },
   "source": [
    "# String Formatting\n",
    "\n",
    "Often one wants to embed other information into strings, sometimes with special formatting constraints. In Python, one may insert special formatting characters into strings that convey what type of data should be inserted and where, and how the \"stringified\" form should be formatted.  \n",
    "\n",
    "\n",
    "### Placeholders\n",
    "For instance, we can use placeholders and feed in parameters:"
   ]
  },
  {
   "cell_type": "code",
   "execution_count": null,
   "metadata": {
    "slideshow": {
     "slide_type": "-"
    }
   },
   "outputs": [],
   "source": [
    "print('Coordinates: {latitude}, {longitude}'\n",
    "      .format(latitude='37.24N', longitude='115.81W'))"
   ]
  },
  {
   "cell_type": "markdown",
   "metadata": {
    "slideshow": {
     "slide_type": "slide"
    }
   },
   "source": [
    "Or we can have the parameter values being variables:"
   ]
  },
  {
   "cell_type": "code",
   "execution_count": null,
   "metadata": {
    "slideshow": {
     "slide_type": "-"
    }
   },
   "outputs": [],
   "source": [
    "lat = '37.24N'\n",
    "lon = '115.81W'\n",
    "print('Coordinates: {latitude}, {longitude}'\n",
    "      .format(latitude=lat, longitude=lon))"
   ]
  },
  {
   "cell_type": "markdown",
   "metadata": {
    "slideshow": {
     "slide_type": "slide"
    }
   },
   "source": [
    "From Python 3.6 onwards, we can format even more easily, by prefacing the string with `f`:"
   ]
  },
  {
   "cell_type": "code",
   "execution_count": null,
   "metadata": {
    "scrolled": true,
    "slideshow": {
     "slide_type": "-"
    }
   },
   "outputs": [],
   "source": [
    "lat = '37.24N'\n",
    "lon = '115.81W'\n",
    "print(f'Coordinates: {lat}, {lon}')"
   ]
  },
  {
   "cell_type": "markdown",
   "metadata": {
    "slideshow": {
     "slide_type": "slide"
    }
   },
   "source": [
    "We can of course re-order and use the placeholders multiple times:"
   ]
  },
  {
   "cell_type": "code",
   "execution_count": null,
   "metadata": {
    "slideshow": {
     "slide_type": "-"
    }
   },
   "outputs": [],
   "source": [
    "lat = '37.24N'\n",
    "lon = '115.81W'\n",
    "print(f'Latitude: {lat}, Longitude: {lon} ==> [{lat}, {lon}]')"
   ]
  },
  {
   "cell_type": "markdown",
   "metadata": {
    "slideshow": {
     "slide_type": "slide"
    }
   },
   "source": [
    "### More formatting options\n",
    "\n",
    "Below we will see a few more options, mainly for formatting numbers. (For a more detailed treatment on string formatting options, [see here](https://docs.python.org/3.5/library/string.html#format-string-syntax).)\n",
    "We achieve the formatting by adding the character `:` after the number/variable name, followed by a set of formatting options. For example:\n",
    "\n",
    "```{field_name : format_spec}```\n",
    "\n",
    "For our purposes, `format_spec` will mostly take the following options:\n",
    "\n",
    "```\n",
    "[[fill ]align][width][,][.precision][type]\n",
    "```\n",
    "And these options can take the values:\n",
    "\n",
    "Option | Sample values \n",
    "---|---\n",
    "`align`   |  `<`, `>`, `^`\n",
    "`width` | number of digits in total (if `width` has a 0 in front, we add zero-padding)\n",
    "`precision`  | number of decimal digits\n",
    "`type` |  `f`, `%`, `e`"
   ]
  },
  {
   "cell_type": "code",
   "execution_count": null,
   "metadata": {
    "slideshow": {
     "slide_type": "-"
    }
   },
   "outputs": [],
   "source": [
    "# Notice that `num` is just the name of the placeholder, does not have any special meaning in terms of formatting\n",
    "num=100/23\n",
    "print(f\"Result: |{num}|\")"
   ]
  },
  {
   "cell_type": "markdown",
   "metadata": {
    "slideshow": {
     "slide_type": "slide"
    }
   },
   "source": [
    "#### Digits and Decimal Places"
   ]
  },
  {
   "cell_type": "code",
   "execution_count": null,
   "metadata": {
    "slideshow": {
     "slide_type": "-"
    }
   },
   "outputs": [],
   "source": [
    "# Keep six characters for the whole number, out of which 3 for the decimals\n",
    "print(f\"Result: |{num:6.3f}|\")"
   ]
  },
  {
   "cell_type": "code",
   "execution_count": null,
   "metadata": {
    "slideshow": {
     "slide_type": "fragment"
    }
   },
   "outputs": [],
   "source": [
    "# Keep eight characters for the whole number, out of which 3-5 for the decimals\n",
    "print(f\"Result: |{num:8.3f}|\")\n",
    "print(f\"Result: |{num:8.5f}|\")"
   ]
  },
  {
   "cell_type": "code",
   "execution_count": null,
   "metadata": {
    "slideshow": {
     "slide_type": "fragment"
    }
   },
   "outputs": [],
   "source": [
    "# Keep seven characters for the whole number, out of which 2 for the decimals\n",
    "print(\"Result: |{num:7.2f}|\".format(num=100/23))\n",
    "print(\"Result: |{num:7.2f}|\".format(num=1000/23))\n",
    "print(\"Result: |{num:7.2f}|\".format(num=10000/23))\n",
    "print(\"Result: |{num:7.2f}|\".format(num=100000/23))\n",
    "print(\"Result: |{num:7.2f}|\".format(num=1000000/23))"
   ]
  },
  {
   "cell_type": "markdown",
   "metadata": {
    "slideshow": {
     "slide_type": "slide"
    }
   },
   "source": [
    "#### Padding"
   ]
  },
  {
   "cell_type": "code",
   "execution_count": null,
   "metadata": {
    "slideshow": {
     "slide_type": "-"
    }
   },
   "outputs": [],
   "source": [
    "# Keep seven digits for the whole number, out of which 3 for the decimals, \n",
    "# with zero padding in front\n",
    "print(f\"Result: |{num:010.3f}|\")"
   ]
  },
  {
   "cell_type": "markdown",
   "metadata": {
    "slideshow": {
     "slide_type": "slide"
    }
   },
   "source": [
    "#### Variable length"
   ]
  },
  {
   "cell_type": "code",
   "execution_count": null,
   "metadata": {
    "slideshow": {
     "slide_type": "-"
    }
   },
   "outputs": [],
   "source": [
    "# Floating point with 7 decimal digits\n",
    "print(f\"Result: |{num:.7f}|\")"
   ]
  },
  {
   "cell_type": "markdown",
   "metadata": {
    "slideshow": {
     "slide_type": "slide"
    }
   },
   "source": [
    "#### Comma-separated thousands"
   ]
  },
  {
   "cell_type": "code",
   "execution_count": null,
   "metadata": {
    "slideshow": {
     "slide_type": "-"
    }
   },
   "outputs": [],
   "source": [
    "# Sixteen digits total and four decimal digits, with comma-separated thousands\n",
    "print(\"Result: |{num:16,.4f}|\".format(num=1000000.0/7))\n",
    "print(\"Result: |{num:16.4f}|\".format(num=1000000.0/7))"
   ]
  },
  {
   "cell_type": "markdown",
   "metadata": {
    "slideshow": {
     "slide_type": "slide"
    }
   },
   "source": [
    "#### Types and percentages\n",
    "Note that so far, we have used floating-point numbers. However, we can also use percentages, exponents, etc.\n",
    "\n",
    "`type` | Description  \n",
    "---|---     \n",
    "`f` | floating point   \n",
    "`%` | percent   \n",
    "`e` | exponential format "
   ]
  },
  {
   "cell_type": "code",
   "execution_count": null,
   "metadata": {
    "slideshow": {
     "slide_type": "-"
    }
   },
   "outputs": [],
   "source": [
    "# Exponential format\n",
    "print(\"Result: |{num:16.4e}|\".format(num=1000000.0/7))\n",
    "print(\"Result: |{num:16.8e}|\".format(num=1000000.0/7))"
   ]
  },
  {
   "cell_type": "code",
   "execution_count": null,
   "metadata": {
    "slideshow": {
     "slide_type": "fragment"
    }
   },
   "outputs": [],
   "source": [
    "# Expressing a percentage:\n",
    "print(\"Result: |{num:16.2%}|\".format(num=1/7))"
   ]
  },
  {
   "cell_type": "markdown",
   "metadata": {
    "slideshow": {
     "slide_type": "slide"
    }
   },
   "source": [
    "#### Alignment\n",
    "Finally, we can manipulate the alignment:\n",
    "\n",
    "\n",
    "`align` | Description  \n",
    "---|---   \n",
    "`<` | Left-align   \n",
    "`>` | Right-align\n",
    "`^` | Center-align "
   ]
  },
  {
   "cell_type": "code",
   "execution_count": null,
   "metadata": {
    "slideshow": {
     "slide_type": "-"
    }
   },
   "outputs": [],
   "source": [
    "# alignment\n",
    "print('|{message:<30}|'.format(message='left aligned'))\n",
    "print('|{message:>30}|'.format(message='right aligned'))\n",
    "print('|{message:^30}|'.format(message='centered'))\n"
   ]
  },
  {
   "cell_type": "code",
   "execution_count": null,
   "metadata": {
    "slideshow": {
     "slide_type": "fragment"
    }
   },
   "outputs": [],
   "source": [
    "# fill\n",
    "print('|{message:#<80}|'.format(message='left aligned with # chars as fill'))\n",
    "print('|{message:#>80}|'.format(message='right aligned with # chars as fill'))\n",
    "print('|{message:#^80}|'.format(message='centered with # chars as fill'))"
   ]
  },
  {
   "cell_type": "markdown",
   "metadata": {
    "slideshow": {
     "slide_type": "slide"
    }
   },
   "source": [
    "#### Templates\n",
    "Finally, we can create templates and fill them in later:"
   ]
  },
  {
   "cell_type": "code",
   "execution_count": null,
   "metadata": {
    "slideshow": {
     "slide_type": "-"
    }
   },
   "outputs": [],
   "source": [
    "clinton  = 4\n",
    "trump    = 5\n",
    "p_c      = clinton / (clinton + trump)\n",
    "p_t      = trump   / (clinton + trump)\n",
    "template = \"Relative percentage for {candidate:<7} : {perc:.2%}\"\n",
    "print(template.format(candidate=\"Clinton\", perc=p_c) ) \n",
    "print(template.format(candidate=\"Trump\",   perc=p_t) )"
   ]
  },
  {
   "cell_type": "markdown",
   "metadata": {
    "collapsed": true,
    "slideshow": {
     "slide_type": "slide"
    }
   },
   "source": [
    "#### Exercise\n",
    "\n",
    "We have a list of people and scores to display. \n",
    "\n",
    "Name | Score\n",
    "---|---\n",
    "Beth | 10.0\n",
    "Frederick | 8.51324\n",
    "Amy | 7.12321\n",
    "\n",
    "Write code that:\n",
    "* Assigns the names and the scores into variables. Call them name1, score1, name2, score2, name3, score3, etc.\n",
    "* Align the names to the left, and the scores to the right\n",
    "* Allocate 10 characters for the name, and 3 characters for the score"
   ]
  },
  {
   "cell_type": "code",
   "execution_count": null,
   "metadata": {
    "slideshow": {
     "slide_type": "-"
    }
   },
   "outputs": [],
   "source": [
    "# your code here"
   ]
  },
  {
   "cell_type": "markdown",
   "metadata": {
    "slideshow": {
     "slide_type": "fragment"
    }
   },
   "source": [
    "**Answer** <span style=\"color:white\">\n",
    "name1,  name2,  name3  = 'Beth', 'Frederick', 'Amy'\n",
    "score1, score2, score3 =  10.0, 8.51324, 7.12321\n",
    "''' Different formatting for headers and the data rows\n",
    "since we cannot apply floating point formatting to the \n",
    "strings in the header '''\n",
    "template_header = \"{name:<10}\\t{score:>7}\"\n",
    "template_row    = \"{name:<10}\\t{score:>7.1f}\"\n",
    "''' Print the header lines with the header template'''\n",
    "print(template_header.format(name=\"NAME\", score=\"SCORE\"))\n",
    "print(template_header.format(name=\"----\", score=\"-----\"))\n",
    "'''Print the data lines with the data template'''\n",
    "print(template_row.format(name=name1, score=score1))\n",
    "print(template_row.format(name=name2, score=score2))\n",
    "print(template_row.format(name=name3, score=score3))"
   ]
  }
 ],
 "metadata": {
  "celltoolbar": "Slideshow",
  "kernelspec": {
   "display_name": "Python 3",
   "language": "python",
   "name": "python3"
  },
  "language_info": {
   "codemirror_mode": {
    "name": "ipython",
    "version": 3
   },
   "file_extension": ".py",
   "mimetype": "text/x-python",
   "name": "python",
   "nbconvert_exporter": "python",
   "pygments_lexer": "ipython3",
   "version": "3.6.5"
  }
 },
 "nbformat": 4,
 "nbformat_minor": 1
}
