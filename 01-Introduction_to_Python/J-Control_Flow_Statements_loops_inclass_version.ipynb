{
 "cells": [
  {
   "cell_type": "markdown",
   "metadata": {},
   "source": [
    "Control Structures\n",
    "------------------\n",
    "\n",
    "We've spent some time going into detail about some of the data types and structures available in python. It's now time to talk about how to navigate through some of this data, and use data to make decisions. Traversing over data and making decisions based upon data are a common aspect of every programming language, known as control flow. Python provides a rich control flow, with a lot of conveniences for the power users. Here, we're just going to talk about the basics, to learn more, please [consult the documentation](http://docs.python.org/2/tutorial/controlflow.html). \n",
    "\n",
    "A common theme throughout this discussion of control structures is the notion of a \"block of code.\" Blocks of code are **demarcated by a specific level of indentation**, typically separated from the surrounding code by some control structure elements, immediately preceeded by a colon, `:`. We'll see examples below. \n",
    "\n",
    "Finally, note that control structures can be nested arbitrarily, depending on the tasks you're trying to accomplish. "
   ]
  },
  {
   "cell_type": "markdown",
   "metadata": {},
   "source": [
    "### while statements:\n",
    "\n",
    "While loops are keep iterating until a given condition becomes true. For example, the following example counts until `i` becomes larger than 5"
   ]
  },
  {
   "cell_type": "code",
   "execution_count": 95,
   "metadata": {},
   "outputs": [
    {
     "name": "stdout",
     "output_type": "stream",
     "text": [
      "0\n",
      "20\n",
      "40\n",
      "60\n",
      "80\n",
      "100\n"
     ]
    }
   ],
   "source": [
    "i=0\n",
    "while i<=5:\n",
    "    print(20*i)\n",
    "    i += 1"
   ]
  },
  {
   "cell_type": "markdown",
   "metadata": {},
   "source": [
    "Or consider the following example: The tea starts at 115 degrees Fahrenheit. You want it at 110 degrees. A chip of ice turns out to lower the temperature one degree every second. You test the temperature each time, and also print out the temperature before reducing the temperature. In Python you could write and run the code below:"
   ]
  },
  {
   "cell_type": "code",
   "execution_count": 96,
   "metadata": {},
   "outputs": [
    {
     "name": "stdout",
     "output_type": "stream",
     "text": [
      "115\n",
      "114\n",
      "113\n",
      "112\n",
      "111\n",
      "The tea is cool enough.\n"
     ]
    }
   ],
   "source": [
    "import time # This is just to use the time.sleep function\n",
    "\n",
    "temperature = 115  \n",
    "while temperature > 110: # first while loop code\n",
    "    print(temperature)\n",
    "    time.sleep(1.0) # Wait for 1 sec\n",
    "    temperature -= 1\n",
    "     \n",
    "print('The tea is cool enough.')"
   ]
  },
  {
   "cell_type": "markdown",
   "metadata": {},
   "source": [
    "And here is a simplified simulator that starts with an amount of money in the bank, and then examines the effect of withdrawing a specific amount of money per year, until you run out of money. Notice that the loop will keep running for ever, if you never withdraw more money than what you have. (We will deal with this issue next.)"
   ]
  },
  {
   "cell_type": "code",
   "execution_count": 97,
   "metadata": {},
   "outputs": [
    {
     "name": "stdout",
     "output_type": "stream",
     "text": [
      "At the beginning of 2017 you have $ 1000.00.\n",
      "At the end of 2018 you have $  848.00.\n",
      "-----------------\n",
      "At the beginning of 2018 you have $  848.00.\n",
      "At the end of 2019 you have $  686.88.\n",
      "-----------------\n",
      "At the beginning of 2019 you have $  686.88.\n",
      "At the end of 2020 you have $  516.09.\n",
      "-----------------\n",
      "At the beginning of 2020 you have $  516.09.\n",
      "At the end of 2021 you have $  335.06.\n",
      "-----------------\n",
      "At the beginning of 2021 you have $  335.06.\n",
      "At the end of 2022 you have $  143.16.\n",
      "-----------------\n",
      "At the beginning of 2022 you have $  143.16.\n",
      "At the end of 2023 you have $  -60.25.\n",
      "-----------------\n",
      "You have no money left!\n"
     ]
    }
   ],
   "source": [
    "money_in_bank = 1000\n",
    "interest = 6\n",
    "year = 2017\n",
    "widthdrawal_per_period = 200\n",
    "\n",
    "while money_in_bank>0:\n",
    "    print(f\"At the beginning of {year} you have ${money_in_bank:8.2f}.\")\n",
    "    money_in_bank = money_in_bank - widthdrawal_per_period\n",
    "    money_in_bank = money_in_bank * (1 + interest/100)\n",
    "    year = year + 1\n",
    "    print(f\"At the end of {year} you have ${money_in_bank:8.2f}.\")\n",
    "    print(\"-----------------\")\n",
    "\n",
    "print(\"You have no money left!\")"
   ]
  },
  {
   "cell_type": "markdown",
   "metadata": {},
   "source": [
    "### Break and Continue: \n",
    "\n",
    "These two statements are used to modify iteration of loops. \n",
    "- `Break` is used to *exit immediately* the *inner most _loop_* in which it appears. \n",
    "- In contrast, `continue` stops the code executing within the loop and goes on to the *next iteration of the same loop*.\n",
    "\n",
    "For example, consider our previous example. The loop will keep running for ever, if you never withdraw more money than what you have. To avoid this infinite loop, we can add an extra check in the code, checking if the year is above a certain limit, and stop execution of the loop at that point."
   ]
  },
  {
   "cell_type": "code",
   "execution_count": 98,
   "metadata": {
    "scrolled": true
   },
   "outputs": [
    {
     "name": "stdout",
     "output_type": "stream",
     "text": [
      "At the beginning of 2017 you have $1000.\n",
      "At the end of 2018 you have $1007.0.\n",
      "-----------------\n",
      "At the beginning of 2018 you have $1007.0.\n",
      "At the end of 2019 you have $1014.4200000000001.\n",
      "-----------------\n",
      "At the beginning of 2019 you have $1014.4200000000001.\n",
      "At the end of 2020 you have $1022.2852000000001.\n",
      "-----------------\n",
      "At the beginning of 2020 you have $1022.2852000000001.\n",
      "At the beginning of 2021 you have $1030.6223120000002.\n",
      "At the beginning of 2022 you have $1039.4596507200004.\n",
      "At the beginning of 2023 you have $1048.8272297632004.\n",
      "At the beginning of 2024 you have $1058.7568635489924.\n",
      "At the beginning of 2025 you have $1069.282275361932.\n",
      "At the beginning of 2026 you have $1080.439211883648.\n",
      "At the beginning of 2027 you have $1092.265564596667.\n",
      "At the beginning of 2028 you have $1104.801498472467.\n",
      "At the beginning of 2029 you have $1118.0895883808153.\n",
      "At the beginning of 2030 you have $1132.1749636836641.\n",
      "At the beginning of 2031 you have $1147.105461504684.\n",
      "At the beginning of 2032 you have $1162.931789194965.\n",
      "At the beginning of 2033 you have $1179.7076965466629.\n",
      "At the beginning of 2034 you have $1197.4901583394626.\n",
      "At the beginning of 2035 you have $1216.3395678398304.\n",
      "At the beginning of 2036 you have $1236.3199419102202.\n",
      "At the beginning of 2037 you have $1257.4991384248335.\n",
      "At the beginning of 2038 you have $1279.9490867303236.\n",
      "At the beginning of 2039 you have $1303.746031934143.\n",
      "At the beginning of 2040 you have $1328.9707938501917.\n",
      "At the beginning of 2041 you have $1355.7090414812033.\n",
      "At the beginning of 2042 you have $1384.0515839700756.\n",
      "At the beginning of 2043 you have $1414.0946790082803.\n",
      "At the beginning of 2044 you have $1445.9403597487772.\n",
      "At the beginning of 2045 you have $1479.696781333704.\n",
      "At the beginning of 2046 you have $1515.4785882137262.\n",
      "At the beginning of 2047 you have $1553.4073035065499.\n",
      "At the beginning of 2048 you have $1593.611741716943.\n",
      "At the beginning of 2049 you have $1636.2284462199598.\n",
      "At the beginning of 2050 you have $1681.4021529931574.\n",
      "At the beginning of 2051 you have $1729.286282172747.\n",
      "At the beginning of 2052 you have $1780.043459103112.\n",
      "At the beginning of 2053 you have $1833.8460666492988.\n",
      "At the beginning of 2054 you have $1890.8768306482568.\n",
      "At the beginning of 2055 you have $1951.3294404871524.\n",
      "At the beginning of 2056 you have $2015.4092069163817.\n",
      "At the beginning of 2057 you have $2083.3337593313645.\n",
      "At the beginning of 2058 you have $2155.3337848912465.\n",
      "At the beginning of 2059 you have $2231.6538119847214.\n",
      "At the beginning of 2060 you have $2312.553040703805.\n",
      "At the beginning of 2061 you have $2398.3062231460335.\n",
      "At the beginning of 2062 you have $2489.2045965347957.\n",
      "At the beginning of 2063 you have $2585.5568723268834.\n",
      "At the beginning of 2064 you have $2687.6902846664966.\n",
      "At the beginning of 2065 you have $2795.9517017464864.\n",
      "At the beginning of 2066 you have $2910.7088038512757.\n",
      "At the beginning of 2067 you have $3032.351332082352.\n",
      "At the beginning of 2068 you have $3161.2924120072935.\n",
      "At the beginning of 2069 you have $3297.969956727731.\n",
      "At the beginning of 2070 you have $3442.8481541313954.\n",
      "At the beginning of 2071 you have $3596.419043379279.\n",
      "At the beginning of 2072 you have $3759.204185982036.\n",
      "At the beginning of 2073 you have $3931.7564371409585.\n",
      "At the beginning of 2074 you have $4114.661823369416.\n",
      "At the beginning of 2075 you have $4308.541532771581.\n",
      "At the beginning of 2076 you have $4514.054024737876.\n",
      "At the beginning of 2077 you have $4731.897266222149.\n",
      "At the beginning of 2078 you have $4962.811102195477.\n",
      "At the beginning of 2079 you have $5207.579768327207.\n",
      "At the beginning of 2080 you have $5467.034554426839.\n",
      "At the beginning of 2081 you have $5742.05662769245.\n",
      "At the beginning of 2082 you have $6033.580025353997.\n",
      "At the beginning of 2083 you have $6342.594826875237.\n",
      "At the beginning of 2084 you have $6670.150516487752.\n",
      "At the beginning of 2085 you have $7017.359547477017.\n",
      "At the beginning of 2086 you have $7385.401120325639.\n",
      "At the beginning of 2087 you have $7775.525187545178.\n",
      "At the beginning of 2088 you have $8189.056698797889.\n",
      "At the beginning of 2089 you have $8627.400100725763.\n",
      "At the beginning of 2090 you have $9092.04410676931.\n",
      "At the beginning of 2091 you have $9584.56675317547.\n",
      "At the beginning of 2092 you have $10106.640758365998.\n",
      "At the beginning of 2093 you have $10660.039203867958.\n",
      "At the beginning of 2094 you have $11246.641556100036.\n",
      "At the beginning of 2095 you have $11868.440049466039.\n",
      "At the beginning of 2096 you have $12527.546452434002.\n",
      "At the beginning of 2097 you have $13226.199239580043.\n",
      "At the beginning of 2098 you have $13966.771193954846.\n",
      "At the beginning of 2099 you have $14751.777465592138.\n",
      "At the beginning of 2100 you have $15583.884113527667.\n",
      "At the beginning of 2101 you have $16465.91716033933.\n",
      "At the beginning of 2102 you have $17400.87218995969.\n",
      "At the beginning of 2103 you have $18391.924521357272.\n",
      "At the beginning of 2104 you have $19442.43999263871.\n",
      "At the beginning of 2105 you have $20555.98639219703.\n",
      "At the beginning of 2106 you have $21736.345575728854.\n",
      "At the beginning of 2107 you have $22987.526310272588.\n",
      "At the beginning of 2108 you have $24313.777888888944.\n",
      "At the beginning of 2109 you have $25719.60456222228.\n",
      "At the beginning of 2110 you have $27209.78083595562.\n",
      "At the beginning of 2111 you have $28789.367686112957.\n",
      "At the beginning of 2112 you have $30463.729747279736.\n",
      "At the beginning of 2113 you have $32238.553532116523.\n",
      "At the beginning of 2114 you have $34119.86674404352.\n",
      "At the beginning of 2115 you have $36114.058748686126.\n",
      "At the beginning of 2116 you have $38227.902273607295.\n",
      "At the beginning of 2117 you have $40468.576410023736.\n",
      "I am pretty sure you will not be alive by then\n",
      "You have no money left (or you are dead)!\n"
     ]
    }
   ],
   "source": [
    "money_in_bank = 1000\n",
    "interest = 6\n",
    "year = 2017\n",
    "\n",
    "# Try also the values 56.6 and 56.7 and see its behavior\n",
    "widthdrawal_per_period = 50 \n",
    "\n",
    "while money_in_bank>0:\n",
    "    print(f\"At the beginning of {year} you have ${money_in_bank}.\")\n",
    "    money_in_bank = money_in_bank - widthdrawal_per_period\n",
    "    money_in_bank = money_in_bank * (1 + interest/100)\n",
    "    year = year + 1\n",
    "    if year > 2117:\n",
    "        print(\"I am pretty sure you will not be alive by then\")\n",
    "        break\n",
    "    if year > 2020:\n",
    "        continue\n",
    "    print(f\"At the end of {year} you have ${money_in_bank}.\")\n",
    "    print(\"-----------------\")\n",
    "\n",
    "print(\"You have no money left (or you are dead)!\")"
   ]
  },
  {
   "cell_type": "code",
   "execution_count": 99,
   "metadata": {},
   "outputs": [
    {
     "name": "stdout",
     "output_type": "stream",
     "text": [
      "140\n",
      "135\n",
      "130\n",
      "125\n",
      "120\n",
      "115\n",
      "110\n",
      "The tea is cool enough.\n"
     ]
    }
   ],
   "source": [
    "import time\n",
    "temperature = 143 \n",
    "while temperature > 110:     # first while loop code\n",
    "    temperature = temperature - 1\n",
    "    if temperature % 5 != 0: # If the temperature is not divisible by 5\n",
    "        continue             # We keep running the loop, but will not print\n",
    "                             # the temperature and have a delay\n",
    "    time.sleep(0.5)\n",
    "    print(temperature)\n",
    "     \n",
    "print('The tea is cool enough.')"
   ]
  },
  {
   "cell_type": "markdown",
   "metadata": {},
   "source": [
    "### for Statements:\n",
    "\n",
    "**See also LPTHW, Exp 32.**\n",
    "\n",
    "`for` statements are a convenient way to iterate through the values contained in a data structure. Going through the elements in a data structure one at a time, this element is assigned to variable. The code block associated with the for statement (or for loop) is then evaluated with this value."
   ]
  },
  {
   "cell_type": "code",
   "execution_count": 100,
   "metadata": {},
   "outputs": [
    {
     "name": "stdout",
     "output_type": "stream",
     "text": [
      "1 squared is: 1\n",
      "2 squared is: 4\n",
      "3 squared is: 9\n",
      "4 squared is: 16\n"
     ]
    }
   ],
   "source": [
    "set_a = {1, 2, 3, 4}\n",
    "for i in set_a:\n",
    "    print(f\"{i} squared is: {i*i}\")"
   ]
  },
  {
   "cell_type": "code",
   "execution_count": 101,
   "metadata": {},
   "outputs": [
    {
     "name": "stdout",
     "output_type": "stream",
     "text": [
      "a more complex block\n",
      "We will ignore 1\n",
      "We will ignore 2\n",
      "==> 3 squared is: 9\n",
      "==> 4 squared is: 16\n",
      "==> 5 squared is: 25\n",
      "==> 6 squared is: 36\n"
     ]
    }
   ],
   "source": [
    "print(\"a more complex block\")\n",
    "set_a = {1, 2, 3, 4, 5, 6}\n",
    "for i in set_a:\n",
    "    # print(i)\n",
    "    if i >= 3:\n",
    "        print(f\"==> {i} squared is: {i*i}\")\n",
    "    else:\n",
    "        print(f\"We will ignore {i}\")"
   ]
  },
  {
   "cell_type": "code",
   "execution_count": 102,
   "metadata": {},
   "outputs": [
    {
     "name": "stdout",
     "output_type": "stream",
     "text": [
      "Found a version of Joseph, called joe.\n"
     ]
    }
   ],
   "source": [
    "# Look for a person with many possible nicknames\n",
    "names            = ['amy', 'brandon', 'charlotte', 'joe']\n",
    "joseph_nicknames = ['joe', 'joey', 'joseph', 'giuseppe']\n",
    "\n",
    "for n in names:                # Look through all names in list\n",
    "    if n in joseph_nicknames:  # Check if the name is one of Joseph's nicknames\n",
    "        print(f\"Found a version of Joseph, called {n}.\")"
   ]
  },
  {
   "cell_type": "code",
   "execution_count": 103,
   "metadata": {},
   "outputs": [
    {
     "name": "stdout",
     "output_type": "stream",
     "text": [
      "Here, name=amy and cand=joe and letter=a\n",
      "Here, name=amy and cand=joe and letter=b\n",
      "Here, name=amy and cand=joe and letter=c\n",
      "Here, name=amy and cand=joey and letter=a\n",
      "Here, name=amy and cand=joey and letter=b\n",
      "Here, name=amy and cand=joey and letter=c\n",
      "Here, name=amy and cand=joseph and letter=a\n",
      "Here, name=amy and cand=joseph and letter=b\n",
      "Here, name=amy and cand=joseph and letter=c\n",
      "Here, name=amy and cand=giuseppe and letter=a\n",
      "Here, name=amy and cand=giuseppe and letter=b\n",
      "Here, name=amy and cand=giuseppe and letter=c\n",
      "Here, name=brandon and cand=joe and letter=a\n",
      "Here, name=brandon and cand=joe and letter=b\n",
      "Here, name=brandon and cand=joe and letter=c\n",
      "Here, name=brandon and cand=joey and letter=a\n",
      "Here, name=brandon and cand=joey and letter=b\n",
      "Here, name=brandon and cand=joey and letter=c\n",
      "Here, name=brandon and cand=joseph and letter=a\n",
      "Here, name=brandon and cand=joseph and letter=b\n",
      "Here, name=brandon and cand=joseph and letter=c\n",
      "Here, name=brandon and cand=giuseppe and letter=a\n",
      "Here, name=brandon and cand=giuseppe and letter=b\n",
      "Here, name=brandon and cand=giuseppe and letter=c\n",
      "Here, name=charlotte and cand=joe and letter=a\n",
      "Here, name=charlotte and cand=joe and letter=b\n",
      "Here, name=charlotte and cand=joe and letter=c\n",
      "Here, name=charlotte and cand=joey and letter=a\n",
      "Here, name=charlotte and cand=joey and letter=b\n",
      "Here, name=charlotte and cand=joey and letter=c\n",
      "Here, name=charlotte and cand=joseph and letter=a\n",
      "Here, name=charlotte and cand=joseph and letter=b\n",
      "Here, name=charlotte and cand=joseph and letter=c\n",
      "Here, name=charlotte and cand=giuseppe and letter=a\n",
      "Here, name=charlotte and cand=giuseppe and letter=b\n",
      "Here, name=charlotte and cand=giuseppe and letter=c\n",
      "Here, name=joseph and cand=joe and letter=a\n",
      "Here, name=joseph and cand=joe and letter=b\n",
      "Here, name=joseph and cand=joe and letter=c\n",
      "Here, name=joseph and cand=joey and letter=a\n",
      "Here, name=joseph and cand=joey and letter=b\n",
      "Here, name=joseph and cand=joey and letter=c\n",
      "Here, name=joseph and cand=joseph and letter=a\n",
      "Here, name=joseph and cand=joseph and letter=b\n",
      "Here, name=joseph and cand=joseph and letter=c\n",
      "Here, name=joseph and cand=giuseppe and letter=a\n",
      "Here, name=joseph and cand=giuseppe and letter=b\n",
      "Here, name=joseph and cand=giuseppe and letter=c\n"
     ]
    }
   ],
   "source": [
    "# To build some intuition on how everything is working, \n",
    "# let's just run some nested for loops and print the content\n",
    "list_a     = ['amy', 'brandon', 'charlotte', 'joseph']\n",
    "candidates = ['joe', 'joey', 'joseph', 'giuseppe']\n",
    "letters    = ['a', 'b', 'c']\n",
    "for name in list_a:\n",
    "    for cand in candidates:\n",
    "        for l in letters:\n",
    "            print(f\"Here, name={name} and cand={cand} and letter={l}\")"
   ]
  },
  {
   "cell_type": "code",
   "execution_count": 104,
   "metadata": {},
   "outputs": [
    {
     "name": "stdout",
     "output_type": "stream",
     "text": [
      "dictionaries let you iterate through keys, values, or both\n"
     ]
    }
   ],
   "source": [
    "print(\"dictionaries let you iterate through keys, values, or both\")\n",
    "phones = {\n",
    "    \"Panos\": \"212-998-0803\",\n",
    "    \"Maria\": \"656-233-5555\",\n",
    "    \"John\":  \"693-232-5776\",\n",
    "    \"Jake\": \"415-794-3423\"\n",
    "}"
   ]
  },
  {
   "cell_type": "code",
   "execution_count": 105,
   "metadata": {},
   "outputs": [
    {
     "name": "stdout",
     "output_type": "stream",
     "text": [
      "Iterating over keys\n",
      "Panos\n",
      "Maria\n",
      "John\n",
      "Jake\n"
     ]
    }
   ],
   "source": [
    "# Iterate keys\n",
    "print(\"Iterating over keys\")\n",
    "for k in phones.keys():\n",
    "    print(k)"
   ]
  },
  {
   "cell_type": "code",
   "execution_count": 106,
   "metadata": {},
   "outputs": [
    {
     "name": "stdout",
     "output_type": "stream",
     "text": [
      "Iterating over values\n",
      "212-998-0803\n",
      "656-233-5555\n",
      "693-232-5776\n",
      "415-794-3423\n"
     ]
    }
   ],
   "source": [
    "# Iterate values\n",
    "print(\"Iterating over values\")\n",
    "for v in phones.values():\n",
    "    print(v)"
   ]
  },
  {
   "cell_type": "code",
   "execution_count": 107,
   "metadata": {},
   "outputs": [
    {
     "name": "stdout",
     "output_type": "stream",
     "text": [
      "Iterating over both keys and values\n",
      "Panos 212-998-0803\n",
      "Maria 656-233-5555\n",
      "John 693-232-5776\n",
      "Jake 415-794-3423\n"
     ]
    }
   ],
   "source": [
    "print(\"Iterating over both keys and values\")\n",
    "# Items returns *tuples* that correspond to key-value pairs\n",
    "# (\"Panos\", \"212-998-0803\"), (\"Maria\": \"656-233-5555\"), etc.\n",
    "for (k,v) in phones.items():\n",
    "    print(k,v)"
   ]
  },
  {
   "cell_type": "code",
   "execution_count": 108,
   "metadata": {},
   "outputs": [
    {
     "data": {
      "text/plain": [
       "dict_items([('Panos', '212-998-0803'), ('Maria', '656-233-5555'), ('John', '693-232-5776'), ('Jake', '415-794-3423')])"
      ]
     },
     "execution_count": 108,
     "metadata": {},
     "output_type": "execute_result"
    }
   ],
   "source": [
    "# Observe that .items() gives us (key, value) pairs \n",
    "phones.items()"
   ]
  },
  {
   "cell_type": "code",
   "execution_count": 109,
   "metadata": {},
   "outputs": [
    {
     "name": "stdout",
     "output_type": "stream",
     "text": [
      "The list contains 29 teams:\n",
      "0 Atlanta Hawks\n",
      "1 Boston Celtics\n",
      "2 Brooklyn Nets\n",
      "3 Charlotte Hornets\n",
      "4 Chicago Bulls\n",
      "5 Cleveland Cavaliers\n",
      "6 Dallas Mavericks\n",
      "7 Denver Nuggets\n",
      "8 Detroit Pistons\n",
      "9 Golden State Warriors\n",
      "10 Houston Rockets\n",
      "11 Indiana Pacers\n",
      "12 LA Clippers\n",
      "13 Los Angeles Lakers\n",
      "14 Memphis Grizzlies\n",
      "15 Miami Heat\n",
      "16 Milwaukee Bucks\n",
      "17 Minnesota Timberwolves\n",
      "18 New Orleans Pelicans\n",
      "19 New York Knicks\n",
      "20 Oklahoma City Thunder\n",
      "21 Orlando Magic\n",
      "22 Philadelphia 76ers\n",
      "23 Phoenix Suns\n",
      "24 Portland Trail Blazers\n",
      "25 Sacramento Kings\n",
      "26 San Antonio Spurs\n",
      "27 Toronto Raptors\n",
      "28 Utah Jazz\n"
     ]
    }
   ],
   "source": [
    "nba_teams = [\"Atlanta Hawks\", \"Boston Celtics\", \"Brooklyn Nets\", \n",
    "             \"Charlotte Hornets\", \"Chicago Bulls\", \"Cleveland Cavaliers\", \n",
    "             \"Dallas Mavericks\", \"Denver Nuggets\", \"Detroit Pistons\", \n",
    "             \"Golden State Warriors\", \"Houston Rockets\", \"Indiana Pacers\", \n",
    "             \"LA Clippers\", \"Los Angeles Lakers\", \"Memphis Grizzlies\", \n",
    "             \"Miami Heat\", \"Milwaukee Bucks\", \"Minnesota Timberwolves\", \n",
    "             \"New Orleans Pelicans\", \"New York Knicks\", \"Oklahoma City Thunder\", \n",
    "             \"Orlando Magic\", \"Philadelphia 76ers\", \"Phoenix Suns\", \"Portland Trail Blazers\", \n",
    "             \"Sacramento Kings\", \"San Antonio Spurs\", \"Toronto Raptors\", \"Utah Jazz\"]\n",
    "print(\"The list contains\", len(nba_teams), \"teams:\")\n",
    "\n",
    "\n",
    "i=0  # Initialize a loop counter\n",
    "for team in nba_teams:\n",
    "    \n",
    "    print(i, team) # Print the team  (per the counter) and the team name\n",
    "    i+=1           # Increment the counter"
   ]
  },
  {
   "cell_type": "markdown",
   "metadata": {},
   "source": [
    "### Exercise\n",
    "\n",
    "* print the names of the people from the dictionary below, by iterating through the keys\n",
    "* print the age of each person, by iterating through the keys, and then looking up the \"YOB\" entry.\n",
    "* print the names of people born after 1980\n",
    "* print the number of children for each person. You need to check if the \"Children\" list exists in the dictionary."
   ]
  },
  {
   "cell_type": "code",
   "execution_count": 110,
   "metadata": {},
   "outputs": [],
   "source": [
    "data = {\n",
    "        \"Foster\": {\n",
    "            \"Job\": \"Professor\", \n",
    "            \"YOB\": 1965, \n",
    "            \"Children\": [\"Hannah\"],\n",
    "            \"Awards\": [\"Best Teacher 2014\", \"Best Researcher 2015\"],\n",
    "            \"Salary\": 120000\n",
    "        }, \n",
    "        \"Joe\": {\n",
    "            \"Job\": \"Data Scientist\", \n",
    "            \"YOB\": 1981,\n",
    "            \"Salary\": 200000\n",
    "        },\n",
    "        \"Maria\": { \n",
    "            \"Job\": \"Software Engineer\", \n",
    "            \"YOB\": 1993, \n",
    "            \"Children\": [],\n",
    "            \"Awards\": [\"Dean's List 2013\", \"Valedictorian 2011\", \"First place in Math Olympiad 2010\"]\n",
    "        }, \n",
    "        \"Panos\": { \n",
    "            \"Job\": \"Professor\", \n",
    "            \"YOB\": 1976, \n",
    "            \"Children\": [\"Gregory\", \"Anna\"]\n",
    "        },\n",
    "    }"
   ]
  },
  {
   "cell_type": "code",
   "execution_count": 111,
   "metadata": {},
   "outputs": [
    {
     "name": "stdout",
     "output_type": "stream",
     "text": [
      "Name: Foster, Age: 53\n",
      "Name: Panos, Age: 42\n"
     ]
    }
   ],
   "source": [
    "# Print the names of people in the data who are born after 1980\n",
    "for name in data.keys():\n",
    "    age = 2018 - data[name]['YOB']  # Get their year of birth from each person's dictionary\n",
    "    \n",
    "    if age>38:                      # Print only if > 38, e.g. born after 1980\n",
    "    # alternate: \n",
    "    # if data[name]['YOB']>1980:\n",
    "        print(f\"Name: {name}, Age: {age}\")  # Print the results\n",
    "    "
   ]
  },
  {
   "cell_type": "code",
   "execution_count": 112,
   "metadata": {},
   "outputs": [
    {
     "name": "stdout",
     "output_type": "stream",
     "text": [
      "Foster has 1 children.\n",
      "Joe    has 0 children.\n",
      "Maria  has 0 children.\n",
      "Panos  has 2 children.\n"
     ]
    }
   ],
   "source": [
    "# Print how many children everyone has, including if they have none\n",
    "for name in data.keys():              # Go through the master dictionary key by key\n",
    "    \n",
    "    if 'Children' not in data[name]:  # If a person's dictionary does not have a \"Children\" key\n",
    "        data[name]['Children'] = []   # Give them an empty list of children\n",
    "    \n",
    "    children   = data[name]['Children']          # Retrieve everyone's children\n",
    "    n_children = len(children)                   # Count the children\n",
    "    \n",
    "    print(f\"{name:6s} has {n_children} children.\" ) # Print number of children"
   ]
  },
  {
   "cell_type": "code",
   "execution_count": 113,
   "metadata": {},
   "outputs": [
    {
     "name": "stdout",
     "output_type": "stream",
     "text": [
      "{'Foster': {'Job': 'Professor', 'YOB': 1965, 'Children': ['Hannah', 'Katherine'], 'Awards': ['Best Teacher 2014', 'Best Researcher 2015'], 'Salary': 120000}, 'Joe': {'Job': 'Data Scientist', 'YOB': 1981, 'Salary': 200000, 'Children': ['Katherine']}, 'Maria': {'Job': 'Software Engineer', 'YOB': 1993, 'Children': ['Katherine'], 'Awards': [\"Dean's List 2013\", 'Valedictorian 2011', 'First place in Math Olympiad 2010']}, 'Panos': {'Job': 'Professor', 'YOB': 1976, 'Children': ['Gregory', 'Anna', 'Katherine']}}\n"
     ]
    }
   ],
   "source": [
    "# Give everyone a new child named Katherine\n",
    "for name in data.keys():\n",
    "    data[name]['Children'].append(\"Katherine\") \n",
    "\n",
    "print(data)"
   ]
  },
  {
   "cell_type": "code",
   "execution_count": 114,
   "metadata": {},
   "outputs": [
    {
     "data": {
      "text/plain": [
       "{'Job': 'Data Scientist',\n",
       " 'YOB': 1981,\n",
       " 'Salary': 200000,\n",
       " 'Children': ['Katherine', 'Joe Jr'],\n",
       " 'Pets': ''}"
      ]
     },
     "execution_count": 114,
     "metadata": {},
     "output_type": "execute_result"
    }
   ],
   "source": [
    "# Give Joe only a child called Joe Jr\n",
    "data['Joe']['Children'].append(\"Joe Jr\") \n",
    "\n",
    "# Create a new key for Joe's dictionary, called \"Pets\"\n",
    "data['Joe']['Pets'] = ''  # Initialize the value of Joe's pets to be an empty string\n",
    "                          # (Can also use 'NA', or empty list [])\n",
    "\n",
    "# Check on our modifications\n",
    "data['Joe']"
   ]
  },
  {
   "cell_type": "markdown",
   "metadata": {},
   "source": [
    "Let's do some more practice with list modification."
   ]
  },
  {
   "cell_type": "code",
   "execution_count": 115,
   "metadata": {},
   "outputs": [
    {
     "data": {
      "text/plain": [
       "{'thing1': [], 'thing2': 'summertime', 'thing3': {'a': 1, 'b': 2}}"
      ]
     },
     "execution_count": 115,
     "metadata": {},
     "output_type": "execute_result"
    }
   ],
   "source": [
    "# Create a new dictionary\n",
    "practice = {'thing1': [],\n",
    "            'thing2': 'summertime'}\n",
    "\n",
    "# Add new k,v pair\n",
    "practice['thing3'] = {'a':1, 'b':2} \n",
    "practice"
   ]
  },
  {
   "cell_type": "code",
   "execution_count": 116,
   "metadata": {},
   "outputs": [
    {
     "data": {
      "text/plain": [
       "{'thing1': [], 'thing2': 'summertime', 'thing3': ['ice cream', 'watermelon']}"
      ]
     },
     "execution_count": 116,
     "metadata": {},
     "output_type": "execute_result"
    }
   ],
   "source": [
    "# Overwrite k,v pair that already exists\n",
    "practice['thing3'] = ['ice cream', 'watermelon'] \n",
    "practice"
   ]
  },
  {
   "cell_type": "code",
   "execution_count": 117,
   "metadata": {},
   "outputs": [
    {
     "data": {
      "text/plain": [
       "{'thing1': [],\n",
       " 'thing2': 'summertime',\n",
       " 'thing3': ['ice cream', 'watermelon', ['corn']]}"
      ]
     },
     "execution_count": 117,
     "metadata": {},
     "output_type": "execute_result"
    }
   ],
   "source": [
    "# Append a list, ['corn']\n",
    "practice['thing3'].append(['corn'])\n",
    "practice"
   ]
  },
  {
   "cell_type": "code",
   "execution_count": 118,
   "metadata": {},
   "outputs": [
    {
     "data": {
      "text/plain": [
       "{'thing1': [], 'thing2': 'summertime', 'thing3': ['ice cream', 'watermelon']}"
      ]
     },
     "execution_count": 118,
     "metadata": {},
     "output_type": "execute_result"
    }
   ],
   "source": [
    "# Oops! I didn't mean to do this. Remove the third item of 'thing3'\n",
    "practice['thing3'].pop(2)\n",
    "practice"
   ]
  },
  {
   "cell_type": "code",
   "execution_count": 119,
   "metadata": {},
   "outputs": [
    {
     "data": {
      "text/plain": [
       "{'thing1': [],\n",
       " 'thing2': 'summertime',\n",
       " 'thing3': ['ice cream', 'watermelon', 'corn']}"
      ]
     },
     "execution_count": 119,
     "metadata": {},
     "output_type": "execute_result"
    }
   ],
   "source": [
    "# Append a string, 'corn'\n",
    "practice['thing3'].append('corn')\n",
    "practice"
   ]
  },
  {
   "cell_type": "code",
   "execution_count": 120,
   "metadata": {},
   "outputs": [
    {
     "data": {
      "text/plain": [
       "{'thing1': [],\n",
       " 'thing2': 'summertime',\n",
       " 'thing3': ['ice cream', 'watermelon', 'corn', 'barbecue', 'popsicles']}"
      ]
     },
     "execution_count": 120,
     "metadata": {},
     "output_type": "execute_result"
    }
   ],
   "source": [
    "# Append two things\n",
    "practice['thing3'].extend(['barbecue', 'popsicles'])\n",
    "practice"
   ]
  },
  {
   "cell_type": "markdown",
   "metadata": {},
   "source": [
    "**Answer**: <span style=\"color:white\">\n",
    "'''Print the names of people in the data'''\n",
    "for person in data.keys():\n",
    "    print(person)\n",
    "'''Print the names and age'''\n",
    "for person in data.keys():\n",
    "    age = 2018 - data[person]['YOB']\n",
    "    print(f\"{person:>6s} is {age} years old.\")\n",
    "'''Print the names of people born after 1980'''\n",
    "for person in data.keys():\n",
    "    if data[person]['YOB']>1980:\n",
    "        print(person)\n",
    "'''Print the number of children for each person'''\n",
    "for person in data.keys():\n",
    "    if 'Children' in data[person].keys():\n",
    "        n_children = len(data[person]['Children'])\n",
    "        if n_children==1:\n",
    "            print(f\"{person} has {n_children} child.\")\n",
    "        else:\n",
    "            print(f\"{person} has {n_children} children.\")\n",
    "    else:\n",
    "        print(f\"{person} may or may not have children.\")"
   ]
  },
  {
   "cell_type": "markdown",
   "metadata": {},
   "source": [
    "### Using Break/Continue with for loops\n",
    "\n",
    "Let's see an example of using `break` and `continue` within a for loop."
   ]
  },
  {
   "cell_type": "code",
   "execution_count": 121,
   "metadata": {},
   "outputs": [
    {
     "name": "stdout",
     "output_type": "stream",
     "text": [
      "The list contains 29 teams\n"
     ]
    }
   ],
   "source": [
    "nba_teams = [\"Atlanta Hawks\", \"Boston Celtics\", \"Brooklyn Nets\", \"Charlotte Hornets\", \n",
    "             \"Chicago Bulls\", \"Cleveland Cavaliers\", \"Dallas Mavericks\", \"Denver Nuggets\", \n",
    "             \"Detroit Pistons\", \"Golden State Warriors\", \"Houston Rockets\", \"Indiana Pacers\", \n",
    "             \"LA Clippers\", \"Los Angeles Lakers\", \"Memphis Grizzlies\", \"Miami Heat\", \"Milwaukee Bucks\",\n",
    "             \"Minnesota Timberwolves\", \"New Orleans Pelicans\", \"New York Knicks\", \"Oklahoma City Thunder\", \n",
    "             \"Orlando Magic\", \"Philadelphia 76ers\", \"Phoenix Suns\", \"Portland Trail Blazers\", \"Sacramento Kings\", \n",
    "             \"San Antonio Spurs\", \"Toronto Raptors\", \"Utah Jazz\"]\n",
    "print(\"The list contains\", len(nba_teams), \"teams\")"
   ]
  },
  {
   "cell_type": "markdown",
   "metadata": {},
   "source": [
    "We will now search through the list of teams, to find whether there is a team that contains the `looking_for` string. Try the variant with the `break` and with the `continue`, to see the difference."
   ]
  },
  {
   "cell_type": "code",
   "execution_count": 122,
   "metadata": {},
   "outputs": [
    {
     "name": "stdout",
     "output_type": "stream",
     "text": [
      "Atlanta Hawks does not contain the string Brooklyn\n",
      "Boston Celtics does not contain the string Brooklyn\n",
      "We found the team: Brooklyn Nets containing Brooklyn.\n",
      "We will stop searching now.\n",
      "Charlotte Hornets does not contain the string Brooklyn\n",
      "Chicago Bulls does not contain the string Brooklyn\n",
      "Cleveland Cavaliers does not contain the string Brooklyn\n",
      "Dallas Mavericks does not contain the string Brooklyn\n",
      "Denver Nuggets does not contain the string Brooklyn\n",
      "Detroit Pistons does not contain the string Brooklyn\n",
      "Golden State Warriors does not contain the string Brooklyn\n",
      "Houston Rockets does not contain the string Brooklyn\n",
      "Indiana Pacers does not contain the string Brooklyn\n",
      "LA Clippers does not contain the string Brooklyn\n",
      "Los Angeles Lakers does not contain the string Brooklyn\n",
      "Memphis Grizzlies does not contain the string Brooklyn\n",
      "Miami Heat does not contain the string Brooklyn\n",
      "Milwaukee Bucks does not contain the string Brooklyn\n",
      "Minnesota Timberwolves does not contain the string Brooklyn\n",
      "New Orleans Pelicans does not contain the string Brooklyn\n",
      "New York Knicks does not contain the string Brooklyn\n",
      "Oklahoma City Thunder does not contain the string Brooklyn\n",
      "Orlando Magic does not contain the string Brooklyn\n",
      "Philadelphia 76ers does not contain the string Brooklyn\n",
      "Phoenix Suns does not contain the string Brooklyn\n",
      "Portland Trail Blazers does not contain the string Brooklyn\n",
      "Sacramento Kings does not contain the string Brooklyn\n",
      "San Antonio Spurs does not contain the string Brooklyn\n",
      "Toronto Raptors does not contain the string Brooklyn\n",
      "Utah Jazz does not contain the string Brooklyn\n",
      "Out of the loop!\n"
     ]
    }
   ],
   "source": [
    "looking_for = \"Brooklyn\"\n",
    "for team in nba_teams:\n",
    "    if looking_for in team: \n",
    "        print(f\"We found the team: {team} containing {looking_for}.\")\n",
    "        print(\"We will stop searching now.\")\n",
    "        # we go out of the loop\n",
    "        continue # we skip the remaining of the code in the nested block\n",
    "    # else:\n",
    "    print(team, \"does not contain the string\", looking_for)\n",
    "    \n",
    "print(\"Out of the loop!\")"
   ]
  },
  {
   "cell_type": "code",
   "execution_count": 123,
   "metadata": {},
   "outputs": [
    {
     "name": "stdout",
     "output_type": "stream",
     "text": [
      "Atlanta Hawks does not contain the string Brooklyn\n",
      "Boston Celtics does not contain the string Brooklyn\n",
      "We found the team: Brooklyn Nets containing Brooklyn.\n",
      "We will stop searching now.\n",
      "Charlotte Hornets does not contain the string Brooklyn\n",
      "Chicago Bulls does not contain the string Brooklyn\n",
      "Cleveland Cavaliers does not contain the string Brooklyn\n",
      "Dallas Mavericks does not contain the string Brooklyn\n",
      "Denver Nuggets does not contain the string Brooklyn\n",
      "Detroit Pistons does not contain the string Brooklyn\n",
      "Golden State Warriors does not contain the string Brooklyn\n",
      "Houston Rockets does not contain the string Brooklyn\n",
      "Indiana Pacers does not contain the string Brooklyn\n",
      "LA Clippers does not contain the string Brooklyn\n",
      "Los Angeles Lakers does not contain the string Brooklyn\n",
      "Memphis Grizzlies does not contain the string Brooklyn\n",
      "Miami Heat does not contain the string Brooklyn\n",
      "Milwaukee Bucks does not contain the string Brooklyn\n",
      "Minnesota Timberwolves does not contain the string Brooklyn\n",
      "New Orleans Pelicans does not contain the string Brooklyn\n",
      "New York Knicks does not contain the string Brooklyn\n",
      "Oklahoma City Thunder does not contain the string Brooklyn\n",
      "Orlando Magic does not contain the string Brooklyn\n",
      "Philadelphia 76ers does not contain the string Brooklyn\n",
      "Phoenix Suns does not contain the string Brooklyn\n",
      "Portland Trail Blazers does not contain the string Brooklyn\n",
      "Sacramento Kings does not contain the string Brooklyn\n",
      "San Antonio Spurs does not contain the string Brooklyn\n",
      "Toronto Raptors does not contain the string Brooklyn\n",
      "Utah Jazz does not contain the string Brooklyn\n",
      "Out of the loop!\n"
     ]
    }
   ],
   "source": [
    "# Note that we can achieve the same thing as continue with 'if-else'\n",
    "looking_for = \"Brooklyn\"\n",
    "for team in nba_teams:\n",
    "    if looking_for in team: \n",
    "        print(f\"We found the team: {team} containing {looking_for}.\")\n",
    "        print(\"We will stop searching now.\")\n",
    "        # we go out of the loop\n",
    "        # continue # we skip the remaining of the code in the nested block\n",
    "    else:\n",
    "        print(team, \"does not contain the string\", looking_for)\n",
    "    \n",
    "print(\"Out of the loop!\")"
   ]
  },
  {
   "cell_type": "markdown",
   "metadata": {},
   "source": [
    "Technically, we can simulate the use of `break` and `continue` with `if-else` statements, but their usage often makes the code easier to read. Consider the following example, where we want to search for a team, and if we find a team that matches, we want to see if they made it to the play offs."
   ]
  },
  {
   "cell_type": "code",
   "execution_count": 124,
   "metadata": {},
   "outputs": [
    {
     "name": "stdout",
     "output_type": "stream",
     "text": [
      "The list contains 16 teams\n"
     ]
    }
   ],
   "source": [
    "playoff = [\"Atlanta Hawks\", \"Boston Celtics\", \"Charlotte Hornets\",\"Cleveland Cavaliers\", \n",
    "           \"Dallas Mavericks\", \"Detroit Pistons\",\"Golden State Warriors\", \"Houston Rockets\", \n",
    "           \"Indiana Pacers\", \"LA Clippers\", \"Memphis Grizzlies\", \"Miami Heat\", \"Oklahoma City Thunder\", \n",
    "           \"Portland Trail Blazers\", \"San Antonio Spurs\", \"Toronto Raptors\"]\n",
    "print(\"The list contains\", len(playoff), \"teams\")"
   ]
  },
  {
   "cell_type": "code",
   "execution_count": 125,
   "metadata": {},
   "outputs": [
    {
     "name": "stdout",
     "output_type": "stream",
     "text": [
      "New York Knicks was not in the playoffs...\n"
     ]
    }
   ],
   "source": [
    "looking_for = \"Knicks\"\n",
    "\n",
    "for team in nba_teams:\n",
    "    #print(team)\n",
    "    # If the team does not match, we continue searching\n",
    "    # without executing the remaining code\n",
    "    if looking_for not in team: \n",
    "        continue\n",
    " \n",
    "    # If we have found a matching team, we check for their status in playoffs\n",
    "    if team in playoff:\n",
    "        print(team, \"was in the playoffs!\")\n",
    "    else:\n",
    "        print(team, \"was not in the playoffs...\")\n"
   ]
  },
  {
   "cell_type": "markdown",
   "metadata": {},
   "source": [
    "### Ranges of Integers:\n",
    "\n",
    "Often it is convenient to define (and iterate through) ranges of integers. Python has a convenient `range` function that allows you to do just this.\n",
    "- Where `range(j)` is given only one parameter, it implicitly uses 0 as a starting point and takes steps of 1\n",
    "- Where `range(i,j)` is given only two parameters, it uses `j` as a starting point and takes steps of 1\n",
    "- Where `range(i,j,k)` is given three parameters, `i` is the starting point, `j` is the end, and `k` is the step size\n",
    "- Note that `range` is not inclusive on the upper end, i.e. `range(i,j)` will not include `j`"
   ]
  },
  {
   "cell_type": "code",
   "execution_count": 126,
   "metadata": {},
   "outputs": [
    {
     "data": {
      "text/plain": [
       "[0, 1, 2, 3, 4, 5, 6, 7, 8, 9]"
      ]
     },
     "execution_count": 126,
     "metadata": {},
     "output_type": "execute_result"
    }
   ],
   "source": [
    "list(range(10)) # start at zero, < the specified ceiling value\n",
    "                # range(10) <=> range(0,10)"
   ]
  },
  {
   "cell_type": "code",
   "execution_count": 127,
   "metadata": {},
   "outputs": [
    {
     "name": "stdout",
     "output_type": "stream",
     "text": [
      "0 squared is 0\n",
      "1 squared is 1\n",
      "2 squared is 4\n",
      "3 squared is 9\n",
      "4 squared is 16\n",
      "5 squared is 25\n",
      "6 squared is 36\n",
      "7 squared is 49\n",
      "8 squared is 64\n",
      "9 squared is 81\n"
     ]
    }
   ],
   "source": [
    "# range is convenient for use in loops\n",
    "for i in range(10):\n",
    "    print(f\"{i} squared is {i*i}\")"
   ]
  },
  {
   "cell_type": "code",
   "execution_count": 128,
   "metadata": {},
   "outputs": [
    {
     "name": "stdout",
     "output_type": "stream",
     "text": [
      "[5, 6, 7, 8, 9]\n"
     ]
    }
   ],
   "source": [
    "# When the range command has two parameters, \n",
    "# it starts from the first parameter\n",
    "# and finishes at the second \n",
    "print(list(range(5, 10))) # from the left value, < right value"
   ]
  },
  {
   "cell_type": "code",
   "execution_count": 129,
   "metadata": {},
   "outputs": [
    {
     "name": "stdout",
     "output_type": "stream",
     "text": [
      "[-5, 0, 5, 10, 15, 20, 25, 30, 35, 40, 45]\n"
     ]
    }
   ],
   "source": [
    "# When range has a third argument, this is the \"step\" value\n",
    "print(list(range(-5, 50, 5)) )# from the left value, to the middle value, incrementing by the right value"
   ]
  },
  {
   "cell_type": "code",
   "execution_count": 130,
   "metadata": {},
   "outputs": [
    {
     "name": "stdout",
     "output_type": "stream",
     "text": [
      "[50, 45, 40, 35, 30, 25, 20, 15, 10, 5, 0, -5, -10, -15, -20]\n"
     ]
    }
   ],
   "source": [
    "# We can also go in reverse\n",
    "print(list(range(50, -21, -5)) )"
   ]
  },
  {
   "cell_type": "markdown",
   "metadata": {},
   "source": [
    "#### Warning\n",
    "\n",
    "Those that are already familiar with programming will tend to write code like this:"
   ]
  },
  {
   "cell_type": "code",
   "execution_count": 131,
   "metadata": {},
   "outputs": [
    {
     "name": "stdout",
     "output_type": "stream",
     "text": [
      "Retrieve index 0, which is Abe\n",
      "Retrieve index 1, which is Bill\n",
      "Retrieve index 2, which is Chris\n",
      "Retrieve index 3, which is Dorothy\n",
      "Retrieve index 4, which is Ellis\n"
     ]
    }
   ],
   "source": [
    "# Old style, using indexing for loops\n",
    "names = [\"Abe\", \"Bill\", \"Chris\", \"Dorothy\", \"Ellis\"]\n",
    "for i in range(0,len(names)):\n",
    "    print(f\"Retrieve index {i}, which is {names[i]}\")"
   ]
  },
  {
   "cell_type": "markdown",
   "metadata": {},
   "source": [
    "instead of "
   ]
  },
  {
   "cell_type": "code",
   "execution_count": 132,
   "metadata": {},
   "outputs": [
    {
     "name": "stdout",
     "output_type": "stream",
     "text": [
      "Abe\n",
      "Bill\n",
      "Chris\n",
      "Dorothy\n",
      "Ellis\n"
     ]
    }
   ],
   "source": [
    "# Pythonic style, use iterators\n",
    "names = [\"Abe\", \"Bill\", \"Chris\", \"Dorothy\", \"Ellis\"]\n",
    "for n in names:\n",
    "    print(n)"
   ]
  },
  {
   "cell_type": "markdown",
   "metadata": {},
   "source": [
    "*Avoid* using the indexing style method for iterating through data structures. While technically both generate the same result, the \"Pythonic\" way of doing things is the latter: It is simpler, more readable, and less prone to errors. "
   ]
  },
  {
   "cell_type": "markdown",
   "metadata": {},
   "source": [
    "#### Exercise\n",
    "\n",
    "* print your name 10 times (easy, peasy). \n",
    "* print on the screen a \"triangle\", by printing first \"#\", then \"##\", then \"###\", etc. Repeat 10 times.   \n",
    "_Hint: The command `print(i*'#')` will print the character '#' a total of `i` times._\n",
    "\n",
    "```\n",
    "    #\n",
    "    ##\n",
    "    ###\n",
    "    ####\n",
    "    #####\n",
    "    ######\n",
    "    #######\n",
    "    ########\n",
    "    #########\n",
    "    ##########\n",
    "```"
   ]
  },
  {
   "cell_type": "code",
   "execution_count": 133,
   "metadata": {},
   "outputs": [
    {
     "name": "stdout",
     "output_type": "stream",
     "text": [
      "Katherine Katherine Katherine Katherine Katherine Katherine Katherine Katherine Katherine Katherine \n"
     ]
    }
   ],
   "source": [
    "# Print Katherine 10 times\n",
    "i=10\n",
    "print(i*\"Katherine \")"
   ]
  },
  {
   "cell_type": "code",
   "execution_count": 134,
   "metadata": {},
   "outputs": [
    {
     "name": "stdout",
     "output_type": "stream",
     "text": [
      "0 Katherine\n",
      "1 Katherine\n",
      "2 Katherine\n",
      "3 Katherine\n",
      "4 Katherine\n",
      "5 Katherine\n",
      "6 Katherine\n",
      "7 Katherine\n",
      "8 Katherine\n",
      "9 Katherine\n"
     ]
    }
   ],
   "source": [
    "# Print Katherine 10 times, the FOR loop way \n",
    "for i in range(10):\n",
    "    print(i, \"Katherine\")"
   ]
  },
  {
   "cell_type": "code",
   "execution_count": 135,
   "metadata": {},
   "outputs": [
    {
     "name": "stdout",
     "output_type": "stream",
     "text": [
      "0 Katherine\n",
      "1 Katherine\n",
      "2 Katherine\n",
      "3 Katherine\n",
      "4 Katherine\n",
      "5 Katherine\n",
      "6 Katherine\n",
      "7 Katherine\n",
      "8 Katherine\n",
      "9 Katherine\n"
     ]
    }
   ],
   "source": [
    "# Print Katherine 10 times, the WHILE loop way\n",
    "i = 0\n",
    "while i<10:\n",
    "    print(i, \"Katherine\")\n",
    "    \n",
    "    i+=1  # IMPORTANT!!!! Increment your counter to break the 'while' condition\n",
    "          # If you don't, you could go infinitely"
   ]
  },
  {
   "cell_type": "code",
   "execution_count": 136,
   "metadata": {},
   "outputs": [
    {
     "name": "stdout",
     "output_type": "stream",
     "text": [
      "#\n",
      "##\n",
      "###\n",
      "####\n",
      "#####\n",
      "######\n",
      "#######\n",
      "########\n",
      "#########\n"
     ]
    }
   ],
   "source": [
    "# Build ascending triangle\n",
    "for i in range(1,10):\n",
    "    print(i*'#')"
   ]
  },
  {
   "cell_type": "code",
   "execution_count": 137,
   "metadata": {},
   "outputs": [
    {
     "name": "stdout",
     "output_type": "stream",
     "text": [
      "#\n",
      "##\n",
      "###\n",
      "####\n",
      "#####\n",
      "######\n",
      "#######\n",
      "########\n",
      "#########\n",
      "##########\n"
     ]
    }
   ],
   "source": [
    "# Do this with a while loop\n",
    "i=1\n",
    "while i<11:\n",
    "    print(i*'#')\n",
    "    i+=1"
   ]
  },
  {
   "cell_type": "code",
   "execution_count": 138,
   "metadata": {},
   "outputs": [
    {
     "name": "stdout",
     "output_type": "stream",
     "text": [
      "##########\n",
      "#########\n",
      "########\n",
      "#######\n",
      "######\n",
      "#####\n",
      "####\n",
      "###\n",
      "##\n",
      "#\n"
     ]
    }
   ],
   "source": [
    "# Build descending triangle\n",
    "for i in range(10,0, -1):\n",
    "    print(i*'#')"
   ]
  },
  {
   "cell_type": "code",
   "execution_count": 139,
   "metadata": {},
   "outputs": [
    {
     "name": "stdout",
     "output_type": "stream",
     "text": [
      "#\n",
      "##\n",
      "###\n",
      "####\n",
      "#####\n",
      "#####\n",
      "####\n",
      "###\n",
      "##\n",
      "#\n",
      "##\n",
      "####\n",
      "######\n",
      "########\n",
      "##########\n",
      "##########\n",
      "########\n",
      "######\n",
      "####\n",
      "##\n"
     ]
    }
   ],
   "source": [
    "# Have some fun with nested loops \n",
    "\n",
    "for j in [1,2]:               # Multipliers == 1*nr_hashtags, 2*nr_hashtags\n",
    "    for i in range(1,6):      # Build ascending triangle\n",
    "        print(i*j*'#')\n",
    "    \n",
    "    for i in range(5,0, -1):  # Build descending triangle\n",
    "        print(i*j*'#')"
   ]
  },
  {
   "cell_type": "markdown",
   "metadata": {},
   "source": [
    "**Answer:** <span style=\"color:white\">\n",
    "\\# Print your name\n",
    "for i in range(10):\n",
    "    print(\"Katherine\")\n",
    "\\# Print triangle\n",
    "for i in range(10):\n",
    "    for i in range(10):\n",
    "        print(i*\"#\")\n",
    "    for i in range(10,0,-1):\n",
    "        print(i*\"#\")"
   ]
  },
  {
   "cell_type": "markdown",
   "metadata": {},
   "source": [
    "List Comprehension\n",
    "-------------------\n",
    "\n",
    "The practical data scientist often faces situations where one list is to be transformed into another list, transforming the values in the input array, filtering out certain undesired values, etc. List comprehensions are a natural, flexible way to perform these transformations on the elements in a list. \n",
    "\n",
    "The syntax of list comprehensions is based on the way mathematicians define sets and lists, a syntax that leaves it clear what the contents should be:\n",
    "\n",
    "+ `S = {x² : x in {0 ... 9}}`\n",
    "\n",
    "Python's list comprehensions give a very natural way to write statements just like these. It may look strange early on, but it becomes a very natural and concise way of creating lists, without having to write for-loops."
   ]
  },
  {
   "cell_type": "code",
   "execution_count": 140,
   "metadata": {},
   "outputs": [
    {
     "name": "stdout",
     "output_type": "stream",
     "text": [
      "[0, 1, 4, 9, 16, 25, 36, 49, 64, 81]\n"
     ]
    }
   ],
   "source": [
    "# This code below will create a list with the squares\n",
    "# of the numbers from 0 to 9 \n",
    "S = []              # we create an empty list\n",
    "for i in range(10): # We iterate over all numbers from 0 to 9\n",
    "    S.append(i*i)   # We add in the list the square of the number i\n",
    "print(S)            # we print(the list)"
   ]
  },
  {
   "cell_type": "code",
   "execution_count": 141,
   "metadata": {},
   "outputs": [
    {
     "name": "stdout",
     "output_type": "stream",
     "text": [
      "[0, 1, 4, 9, 16, 25, 36, 49, 64, 81]\n"
     ]
    }
   ],
   "source": [
    "# List comprehension way\n",
    "S = [i*i for i in range(10)]\n",
    "print(S)"
   ]
  },
  {
   "cell_type": "code",
   "execution_count": 142,
   "metadata": {},
   "outputs": [
    {
     "name": "stdout",
     "output_type": "stream",
     "text": [
      "[0, 1, 4, 9, 16, 25, 36, 49, 64, 81]\n"
     ]
    }
   ],
   "source": [
    "# OR:\n",
    "S = [i**2 for i in range(10)]\n",
    "print(S)"
   ]
  },
  {
   "cell_type": "code",
   "execution_count": 143,
   "metadata": {},
   "outputs": [
    {
     "name": "stdout",
     "output_type": "stream",
     "text": [
      "[243, 1024, 3125, 7776, 16807, 32768, 59049]\n"
     ]
    }
   ],
   "source": [
    "# What about powers of 5 greater than 50?\n",
    "S = [i**5 for i in range(10) if i**5>50]\n",
    "print(S)"
   ]
  },
  {
   "cell_type": "markdown",
   "metadata": {},
   "source": [
    "Now let's do one more example:\n",
    "\n",
    "`V` $= [2^0, 2^1, 2^2, \\ldots, 2^{12}]$\n"
   ]
  },
  {
   "cell_type": "code",
   "execution_count": 144,
   "metadata": {},
   "outputs": [
    {
     "name": "stdout",
     "output_type": "stream",
     "text": [
      "[1, 2, 4, 8, 16, 32, 64, 128, 256, 512, 1024, 2048, 4096]\n"
     ]
    }
   ],
   "source": [
    "V= []\n",
    "for i in range(13):\n",
    "    V.append(2**i)\n",
    "print(V)"
   ]
  },
  {
   "cell_type": "code",
   "execution_count": 145,
   "metadata": {},
   "outputs": [
    {
     "name": "stdout",
     "output_type": "stream",
     "text": [
      "[1, 2, 4, 8, 16, 32, 64, 128, 256, 512, 1024, 2048, 4096]\n"
     ]
    }
   ],
   "source": [
    "# List comprehension way\n",
    "V = [2**i for i in range(13)]\n",
    "print(V)"
   ]
  },
  {
   "cell_type": "code",
   "execution_count": 146,
   "metadata": {},
   "outputs": [
    {
     "data": {
      "text/plain": [
       "[101, 102, 103, 104]"
      ]
     },
     "execution_count": 146,
     "metadata": {},
     "output_type": "execute_result"
    }
   ],
   "source": [
    "# Another simple example of adding 100 to numbers\n",
    "l = [1,2,3,4]\n",
    "[i+100 for i in l]"
   ]
  },
  {
   "cell_type": "code",
   "execution_count": 147,
   "metadata": {},
   "outputs": [
    {
     "data": {
      "text/plain": [
       "[1, 2, 3, 4]"
      ]
     },
     "execution_count": 147,
     "metadata": {},
     "output_type": "execute_result"
    }
   ],
   "source": [
    "# Recall that the following will just return the original list\n",
    "[i for i in l]"
   ]
  },
  {
   "cell_type": "code",
   "execution_count": 148,
   "metadata": {},
   "outputs": [
    {
     "name": "stdout",
     "output_type": "stream",
     "text": [
      "l\n",
      "o\n",
      "n\n",
      "g\n",
      " \n",
      "s\n",
      "t\n",
      "r\n",
      "i\n",
      "n\n",
      "g\n"
     ]
    }
   ],
   "source": [
    "# Recall that if we iterate through a string, we will go letter by letter:\n",
    "for i in 'long string':\n",
    "    print(i)"
   ]
  },
  {
   "cell_type": "code",
   "execution_count": 149,
   "metadata": {},
   "outputs": [
    {
     "data": {
      "text/plain": [
       "['l', 'o', 'n', 'g', ' ', 's', 't', 'r', 'i', 'n', 'g']"
      ]
     },
     "execution_count": 149,
     "metadata": {},
     "output_type": "execute_result"
    }
   ],
   "source": [
    "# Therefore using list comprehension on a string returns a set of letters\n",
    "[i for i in 'long string']"
   ]
  },
  {
   "cell_type": "code",
   "execution_count": 150,
   "metadata": {},
   "outputs": [
    {
     "data": {
      "text/plain": [
       "'l_o_n_g_ _s_t_r_i_n_g'"
      ]
     },
     "execution_count": 150,
     "metadata": {},
     "output_type": "execute_result"
    }
   ],
   "source": [
    "# Remember that we can join strings like so:\n",
    "'_'.join([i for i in 'long string'])"
   ]
  },
  {
   "cell_type": "code",
   "execution_count": 151,
   "metadata": {},
   "outputs": [
    {
     "data": {
      "text/plain": [
       "'long string'"
      ]
     },
     "execution_count": 151,
     "metadata": {},
     "output_type": "execute_result"
    }
   ],
   "source": [
    "# The join character can be anything we like. For example, it can be an empty string:\n",
    "''.join([i for i in 'long string'])"
   ]
  },
  {
   "cell_type": "code",
   "execution_count": 152,
   "metadata": {},
   "outputs": [
    {
     "data": {
      "text/plain": [
       "'l ZZZ o ZZZ n ZZZ g ZZZ   ZZZ s ZZZ t ZZZ r ZZZ i ZZZ n ZZZ g'"
      ]
     },
     "execution_count": 152,
     "metadata": {},
     "output_type": "execute_result"
    }
   ],
   "source": [
    "# The join character can be anything we like. Or, it can be some text\n",
    "' ZZZ '.join([i for i in 'long string'])"
   ]
  },
  {
   "cell_type": "markdown",
   "metadata": {},
   "source": [
    "### The *if* statement within a list comprehension\n",
    "\n",
    "Now let's consider the following case:\n",
    "\n",
    "+ `M = {x | x in S and x even}`\n",
    "\n",
    "**Note that the list comprehension for deriving M uses a \"if statement\" to filter out those values that aren't of interest**, restricting to only the even squares."
   ]
  },
  {
   "cell_type": "code",
   "execution_count": 153,
   "metadata": {},
   "outputs": [
    {
     "name": "stdout",
     "output_type": "stream",
     "text": [
      "[1024, 7776, 32768]\n"
     ]
    }
   ],
   "source": [
    "M = []\n",
    "for i in S:         # iterate through all elements in S\n",
    "    if i%2 == 0:    # if i is an even number\n",
    "        M.append(i) # ... add it to the list\n",
    "print(M)"
   ]
  },
  {
   "cell_type": "code",
   "execution_count": 154,
   "metadata": {},
   "outputs": [
    {
     "name": "stdout",
     "output_type": "stream",
     "text": [
      "[1024, 7776, 32768]\n"
     ]
    }
   ],
   "source": [
    "# Let's do the same with list comprehension\n",
    "M = [x for x in S if x%2 == 0]\n",
    "print(M)"
   ]
  },
  {
   "cell_type": "markdown",
   "metadata": {},
   "source": [
    "These are simple examples, using numerical computation. Let's see a more \"practical\" use: In the following operation we transform a string into an list of values, a more complex operation: "
   ]
  },
  {
   "cell_type": "code",
   "execution_count": 155,
   "metadata": {},
   "outputs": [
    {
     "data": {
      "text/plain": [
       "[('THE', 'the', 3),\n",
       " ('QUICK', 'quick', 5),\n",
       " ('BROWN', 'brown', 5),\n",
       " ('FOX', 'fox', 3),\n",
       " ('JUMPS', 'jumps', 5),\n",
       " ('OVER', 'over', 4),\n",
       " ('THE', 'the', 3),\n",
       " ('LAZY', 'lazy', 4),\n",
       " ('DOG', 'dog', 3)]"
      ]
     },
     "execution_count": 155,
     "metadata": {},
     "output_type": "execute_result"
    }
   ],
   "source": [
    "words = 'The quick brown fox jumps over the lazy dog'\n",
    "\n",
    "# Split the list of words\n",
    "split_words = words.split()\n",
    "\n",
    "# Iterate through and return a tuple of UPPERCASE/LOWERCASE/LENGTH\n",
    "[(w.upper(), w.lower(), len(w)) for w in split_words]"
   ]
  },
  {
   "cell_type": "code",
   "execution_count": 156,
   "metadata": {},
   "outputs": [
    {
     "data": {
      "text/plain": [
       "[('THE', 'the', 3),\n",
       " ('QUICK', 'quick', 5),\n",
       " ('BROWN', 'brown', 5),\n",
       " ('FOX', 'fox', 3),\n",
       " ('JUMPS', 'jumps', 5),\n",
       " ('OVER', 'over', 4),\n",
       " ('THE', 'the', 3),\n",
       " ('LAZY', 'lazy', 4),\n",
       " ('DOG', 'dog', 3)]"
      ]
     },
     "execution_count": 156,
     "metadata": {},
     "output_type": "execute_result"
    }
   ],
   "source": [
    "# We can do this in one line\n",
    "[(w.upper(), w.lower(), len(w)) for w in words.split()]"
   ]
  },
  {
   "cell_type": "markdown",
   "metadata": {},
   "source": [
    "**Exercise:**\n",
    "Now let's abbreviate the sentence: `The quick brown fox jumps over the lazy dog`\n",
    "- Get a list with the first letter of every word in the sentence.\n",
    "- Make all of the letters uppercase, and add a period afterwards.\n",
    "- Join the letters (with periods) together to create the abbreviation.\n",
    "\n",
    "You should wind up with something like: `T.Q.B.F.J.O.T.L.D.`"
   ]
  },
  {
   "cell_type": "code",
   "execution_count": 157,
   "metadata": {},
   "outputs": [
    {
     "data": {
      "text/plain": [
       "'The quick brown fox jumps over the lazy dog'"
      ]
     },
     "execution_count": 157,
     "metadata": {},
     "output_type": "execute_result"
    }
   ],
   "source": [
    "words"
   ]
  },
  {
   "cell_type": "code",
   "execution_count": 158,
   "metadata": {
    "scrolled": true
   },
   "outputs": [
    {
     "name": "stdout",
     "output_type": "stream",
     "text": [
      "T\n",
      "h\n",
      "e\n",
      " \n",
      "q\n",
      "u\n",
      "i\n",
      "c\n",
      "k\n",
      " \n",
      "b\n",
      "r\n",
      "o\n",
      "w\n",
      "n\n",
      " \n",
      "f\n",
      "o\n",
      "x\n",
      " \n",
      "j\n",
      "u\n",
      "m\n",
      "p\n",
      "s\n",
      " \n",
      "o\n",
      "v\n",
      "e\n",
      "r\n",
      " \n",
      "t\n",
      "h\n",
      "e\n",
      " \n",
      "l\n",
      "a\n",
      "z\n",
      "y\n",
      " \n",
      "d\n",
      "o\n",
      "g\n"
     ]
    }
   ],
   "source": [
    "# Let's build our loop slowly. \n",
    "# Step 1: Write a for statement\n",
    "for w in words:\n",
    "    print(w)"
   ]
  },
  {
   "cell_type": "code",
   "execution_count": 159,
   "metadata": {},
   "outputs": [
    {
     "name": "stdout",
     "output_type": "stream",
     "text": [
      "The\n",
      "quick\n",
      "brown\n",
      "fox\n",
      "jumps\n",
      "over\n",
      "the\n",
      "lazy\n",
      "dog\n"
     ]
    }
   ],
   "source": [
    "# Oops! We iterated over words, which is a string.\n",
    "# Therefore, every step assigns w to a LETTER.\n",
    "# We want w to be assigned to a WORD.\n",
    "# For that, we need to split 'words' into a list of words.\n",
    "\n",
    "# Step 2: Split 'words'\n",
    "for w in words.split(): # Split into list of words, on spaces\n",
    "    print(w)"
   ]
  },
  {
   "cell_type": "code",
   "execution_count": 160,
   "metadata": {},
   "outputs": [
    {
     "name": "stdout",
     "output_type": "stream",
     "text": [
      "T\n",
      "q\n",
      "b\n",
      "f\n",
      "j\n",
      "o\n",
      "t\n",
      "l\n",
      "d\n"
     ]
    }
   ],
   "source": [
    "# Much better. \n",
    "\n",
    "# Step 3: Get the first letter of every word\n",
    "for w in words.split(): \n",
    "    print(w[0])   # Extract first character"
   ]
  },
  {
   "cell_type": "code",
   "execution_count": 161,
   "metadata": {},
   "outputs": [
    {
     "name": "stdout",
     "output_type": "stream",
     "text": [
      "T\n",
      "Q\n",
      "B\n",
      "F\n",
      "J\n",
      "O\n",
      "T\n",
      "L\n",
      "D\n"
     ]
    }
   ],
   "source": [
    "# Step 4: Make the first letter uppercase\n",
    "for w in words.split(): \n",
    "    print(w[0].upper()) # Make first character uppercase"
   ]
  },
  {
   "cell_type": "code",
   "execution_count": 162,
   "metadata": {},
   "outputs": [
    {
     "name": "stdout",
     "output_type": "stream",
     "text": [
      "After seeing word The   and adding letter T, abbrev = ['T']\n",
      "After seeing word quick and adding letter Q, abbrev = ['T', 'Q']\n",
      "After seeing word brown and adding letter B, abbrev = ['T', 'Q', 'B']\n",
      "After seeing word fox   and adding letter F, abbrev = ['T', 'Q', 'B', 'F']\n",
      "After seeing word jumps and adding letter J, abbrev = ['T', 'Q', 'B', 'F', 'J']\n",
      "After seeing word over  and adding letter O, abbrev = ['T', 'Q', 'B', 'F', 'J', 'O']\n",
      "After seeing word the   and adding letter T, abbrev = ['T', 'Q', 'B', 'F', 'J', 'O', 'T']\n",
      "After seeing word lazy  and adding letter L, abbrev = ['T', 'Q', 'B', 'F', 'J', 'O', 'T', 'L']\n",
      "After seeing word dog   and adding letter D, abbrev = ['T', 'Q', 'B', 'F', 'J', 'O', 'T', 'L', 'D']\n"
     ]
    }
   ],
   "source": [
    "# Now, we need to store our letters somewhere!\n",
    "\n",
    "# Step 4: Store letters in a list\n",
    "abbrev = []                     # Make a list for our letters\n",
    "for w in words.split(): \n",
    "    abbrev.append(w[0].upper()) # Add each letter to abbrev\n",
    "    print(f\"After seeing word {w:5s} and adding letter {w[0].upper()}, abbrev = {abbrev}\") "
   ]
  },
  {
   "cell_type": "code",
   "execution_count": 163,
   "metadata": {},
   "outputs": [
    {
     "data": {
      "text/plain": [
       "'T.Q.B.F.J.O.T.L.D'"
      ]
     },
     "execution_count": 163,
     "metadata": {},
     "output_type": "execute_result"
    }
   ],
   "source": [
    "# Almost done! Now we need to join the characters in abbrev together.\n",
    "# Let's do that with a period.\n",
    "\".\".join(abbrev)"
   ]
  },
  {
   "cell_type": "code",
   "execution_count": 164,
   "metadata": {},
   "outputs": [
    {
     "name": "stdout",
     "output_type": "stream",
     "text": [
      "___Step 1: Iterate letters \n",
      "\n",
      " [w for w in words] --> \n",
      "\n",
      "['T', 'h', 'e', ' ', 'q', 'u', 'i', 'c', 'k', ' ', 'b', 'r', 'o', 'w', 'n', ' ', 'f', 'o', 'x', ' ', 'j', 'u', 'm', 'p', 's', ' ', 'o', 'v', 'e', 'r', ' ', 't', 'h', 'e', ' ', 'l', 'a', 'z', 'y', ' ', 'd', 'o', 'g']\n",
      "\n",
      "___Step 2: Iterate through WORDS using split()\n",
      "\n",
      "[w for w in words.split()] --> \n",
      "\n",
      "['The', 'quick', 'brown', 'fox', 'jumps', 'over', 'the', 'lazy', 'dog']\n",
      "\n",
      "___Step 3: Take first letter only\n",
      "\n",
      "[w[0] for w in words.split()] --> \n",
      "\n",
      "['T', 'q', 'b', 'f', 'j', 'o', 't', 'l', 'd']\n",
      "\n",
      "___Step 4: Uppercase it \n",
      "\n",
      "[w[0].upper() for w in words.split()] --> \n",
      "\n",
      "['T', 'Q', 'B', 'F', 'J', 'O', 'T', 'L', 'D']\n",
      "\n",
      "___Step 5: Join letters together\n",
      "\n",
      "'.'.join([w[0].upper() for w in words.split()] -->\n",
      "\n",
      "T.Q.B.F.J.O.T.L.D\n"
     ]
    }
   ],
   "source": [
    "# Now try it with list comprehension\n",
    "print(\"___Step 1: Iterate letters \\n\\n [w for w in words] --> \\n\")\n",
    "print([w for w in words])\n",
    "\n",
    "print(\"\\n___Step 2: Iterate through WORDS using split()\\n\\n[w for w in words.split()] --> \\n\")\n",
    "print([w for w in words.split()])\n",
    "\n",
    "print(\"\\n___Step 3: Take first letter only\\n\\n[w[0] for w in words.split()] --> \\n\")\n",
    "print([w[0] for w in words.split()])\n",
    "\n",
    "print(\"\\n___Step 4: Uppercase it \\n\\n[w[0].upper() for w in words.split()] --> \\n\")\n",
    "print([w[0].upper() for w in words.split()])\n",
    "\n",
    "print(\"\\n___Step 5: Join letters together\\n\\n'.'.join([w[0].upper() for w in words.split()] -->\\n\")\n",
    "print('.'.join([w[0].upper() for w in words.split()]))"
   ]
  },
  {
   "cell_type": "code",
   "execution_count": 165,
   "metadata": {},
   "outputs": [
    {
     "name": "stdout",
     "output_type": "stream",
     "text": [
      "you only live once\n",
      "['you', 'only', 'live', 'once']\n",
      "['y', 'o', 'l', 'o']\n",
      "['Y', 'O', 'L', 'O']\n",
      "Y.O.L.O\n"
     ]
    }
   ],
   "source": [
    "words = \"you only live once\"\n",
    "print(words)\n",
    "print([w            for w in words.split()]) # Copy structure of our original for loop\n",
    "print([w[0]         for w in words.split()]) # Take the first character\n",
    "print([w[0].upper() for w in words.split()]) # Uppercase\n",
    "print('.'.join([w[0].upper() for w in words.split()])) # Join"
   ]
  },
  {
   "cell_type": "markdown",
   "metadata": {},
   "source": [
    "**Answer:**<span style=\"color:white\">\n",
    "''.join([w[0].upper()+\".\" for w in words.split()])"
   ]
  },
  {
   "cell_type": "markdown",
   "metadata": {},
   "source": [
    "#### Exercise\n",
    "\n",
    "* List each word and its length from the string `The quick brown fox jumps over the lazy dog`, conditioned on the length of the word being four characters and above\n",
    "* List only words with the letter o in them"
   ]
  },
  {
   "cell_type": "code",
   "execution_count": 166,
   "metadata": {
    "scrolled": false
   },
   "outputs": [
    {
     "name": "stdout",
     "output_type": "stream",
     "text": [
      "We added 'only' and now we have long_words=['only']\n",
      "We added 'live' and now we have long_words=['only', 'live']\n",
      "We added 'once' and now we have long_words=['only', 'live', 'once']\n"
     ]
    }
   ],
   "source": [
    "# List each word and its length from the string \n",
    "# 'The quick brown fox jumps over the lazy dog', \n",
    "# conditioned on the length of the word being four characters and above\n",
    "\n",
    "# words = 'The quick brown fox jumps over the lazy dog'\n",
    "words = 'you only live once'\n",
    "\n",
    "long_words = []  # Make a list of long words to keep\n",
    "\n",
    "for w in words.split():       # Iterate over words in sentence\n",
    "    if len(w)>3:              # Check length\n",
    "        long_words.append(w)  # Add to long words\n",
    "        print(f\"We added '{w}' and now we have long_words={long_words}\")"
   ]
  },
  {
   "cell_type": "code",
   "execution_count": 167,
   "metadata": {},
   "outputs": [
    {
     "name": "stdout",
     "output_type": "stream",
     "text": [
      "['you', 'only', 'live', 'once']\n"
     ]
    }
   ],
   "source": [
    "# Let's write our list comprehension\n",
    "# [ (expression) for (sequence) if (condition)]\n",
    "\n",
    "# Print all the words\n",
    "print([w for w in words.split()])"
   ]
  },
  {
   "cell_type": "code",
   "execution_count": 168,
   "metadata": {},
   "outputs": [
    {
     "name": "stdout",
     "output_type": "stream",
     "text": [
      "['only', 'live', 'once']\n"
     ]
    }
   ],
   "source": [
    "# Print words with length>3\n",
    "print([w for w in words.split() if len(w)>3])"
   ]
  },
  {
   "cell_type": "code",
   "execution_count": 169,
   "metadata": {},
   "outputs": [
    {
     "name": "stdout",
     "output_type": "stream",
     "text": [
      "['only', 'once']\n"
     ]
    }
   ],
   "source": [
    "# Print words containing \"on\"\n",
    "print([w for w in words.split() if 'on' in w])"
   ]
  },
  {
   "cell_type": "code",
   "execution_count": 170,
   "metadata": {},
   "outputs": [
    {
     "name": "stdout",
     "output_type": "stream",
     "text": [
      "['ONL', 'ONC']\n"
     ]
    }
   ],
   "source": [
    "# Print the first three letters, uppercase, of words containing \"on\"\n",
    "print([w.upper()[0:3] for w in words.split() if 'on' in w])"
   ]
  },
  {
   "cell_type": "code",
   "execution_count": 171,
   "metadata": {},
   "outputs": [
    {
     "data": {
      "text/plain": [
       "['you', 'only', 'live', 'once']"
      ]
     },
     "execution_count": 171,
     "metadata": {},
     "output_type": "execute_result"
    }
   ],
   "source": [
    "words.split()"
   ]
  },
  {
   "cell_type": "code",
   "execution_count": 172,
   "metadata": {},
   "outputs": [
    {
     "data": {
      "text/plain": [
       "True"
      ]
     },
     "execution_count": 172,
     "metadata": {},
     "output_type": "execute_result"
    }
   ],
   "source": [
    "# Look for a word in the list\n",
    "'you' in words.split()"
   ]
  },
  {
   "cell_type": "code",
   "execution_count": 173,
   "metadata": {},
   "outputs": [
    {
     "data": {
      "text/plain": [
       "False"
      ]
     },
     "execution_count": 173,
     "metadata": {},
     "output_type": "execute_result"
    }
   ],
   "source": [
    "# Note that this does not find characters INSIDE words.split()\n",
    "'on' in words.split()"
   ]
  },
  {
   "cell_type": "markdown",
   "metadata": {},
   "source": [
    "**Answer:** <span style=\"color:white\">\n",
    "[(w, len(w)) for w in words.split() if len(w)>4]\n",
    "[(w, len(w)) for w in words.split() if 'o' in w]"
   ]
  },
  {
   "cell_type": "markdown",
   "metadata": {},
   "source": [
    "* You are given the `wsj` article below. Write a list comprehension for getting the words that appear more than once. \n",
    "    * Use the `.split()` command for splitting, without passing a parameter.\n",
    "    * When counting words, case does not matter (i.e., YAHOO is the same as Yahoo).\n",
    "\n",
    "* Find all the *characters* in the article that are not letters or numbers. You can use the isdigit() and isalpha() functions, which work on strings. (e.g, `\"Panos\".isalpha()` and `\"1234\".isdigit()` return True) "
   ]
  },
  {
   "cell_type": "code",
   "execution_count": 174,
   "metadata": {},
   "outputs": [],
   "source": [
    "wsj = \"\"\"\n",
    "Yahoo Inc. disclosed a massive security breach by a “state-sponsored actor” affecting at least 500 million users, potentially the largest such data breach on record and the latest hurdle for the beaten-down internet company as it works through the sale of its core business.\n",
    "Yahoo said certain user account information—including names, email addresses, telephone numbers, dates of birth, hashed passwords and, in some cases, encrypted or unencrypted security questions and answers—was stolen from the company’s network in late 2014 by what it believes is a state-sponsored actor.\n",
    "Yahoo said it is notifying potentially affected users and has taken steps to secure their accounts by invalidating unencrypted security questions and answers so they can’t be used to access an account and asking potentially affected users to change their passwords.\n",
    "Yahoo recommended users who haven’t changed their passwords since 2014 do so. It also encouraged users change their passwords as well as security questions and answers for any other accounts on which they use the same or similar information used for their Yahoo account.\n",
    "The company, which is working with law enforcement, said the continuing investigation indicates that stolen information didn't include unprotected passwords, payment-card data or bank account information.\n",
    "With 500 million user accounts affected, this is the largest-ever publicly disclosed data breach, according to Paul Stephens, director of policy and advocacy with Privacy Rights Clearing House, a not-for-profit group that compiles information on data breaches.\n",
    "No evidence has been found to suggest the state-sponsored actor is currently in Yahoo’s network, and Yahoo didn’t name the country it suspected was involved. In August, a hacker called “Peace” appeared in online forums, offering to sell 200 million of the company’s usernames and passwords for about $1,900 in total. Peace had previously sold data taken from breaches at Myspace and LinkedIn Corp.\n",
    "\"\"\""
   ]
  },
  {
   "cell_type": "code",
   "execution_count": 175,
   "metadata": {},
   "outputs": [
    {
     "name": "stdout",
     "output_type": "stream",
     "text": [
      "yahoo               : appears 6 times.\n",
      "inc.                : only appears once.\n",
      "disclosed           : appears 2 times.\n",
      "a                   : appears 5 times.\n",
      "massive             : only appears once.\n",
      "security            : appears 4 times.\n",
      "breach              : appears 2 times.\n",
      "by                  : appears 3 times.\n",
      "a                   : already seen this word before.\n",
      "“state-sponsored    : only appears once.\n",
      "actor”              : only appears once.\n",
      "affecting           : only appears once.\n",
      "at                  : appears 2 times.\n",
      "least               : only appears once.\n",
      "500                 : appears 2 times.\n"
     ]
    },
    {
     "data": {
      "text/plain": [
       "{'500', 'a', 'at', 'breach', 'by', 'disclosed', 'security', 'yahoo'}"
      ]
     },
     "execution_count": 175,
     "metadata": {},
     "output_type": "execute_result"
    }
   ],
   "source": [
    "wsj_words = wsj.lower().split() # List of lowercase words\n",
    "n_words = 0                     # Count how many words we have seen\n",
    "keep_words = []                 # List of words appearing more than once\n",
    "\n",
    "for word in wsj_words:            # Iterate over words in wsj_words\n",
    "    n_words +=1                   # Count how many words we saw\n",
    "    n = wsj_words.count(word)     # Count appearances of a given word\n",
    "    \n",
    "    # Print statement that we were (trying, unsuccessfully) to achieve in class\n",
    "    if word not in keep_words and n>1:  # Word appears > once and not already seen\n",
    "        print(f\"{word:20s}: appears {n} times.\")\n",
    "    elif n>1:                           # Word appears > once and seen before\n",
    "        print(f\"{word:20s}: already seen this word before.\")\n",
    "    else:                               # Word only appears once\n",
    "        print(f\"{word:20s}: only appears once.\")\n",
    "    \n",
    "    if n>1:                      # If word appears more than once (n>1)\n",
    "        keep_words.append(word)  # Add the word to keep_words\n",
    "    \n",
    "    \n",
    "    if n_words>=15:              # Only do this for 15 words\n",
    "        break                    # (so that we don't print too much output - can change this later)\n",
    "set(keep_words) # Remove duplicates and view keep words"
   ]
  },
  {
   "cell_type": "code",
   "execution_count": 176,
   "metadata": {
    "scrolled": true
   },
   "outputs": [
    {
     "data": {
      "text/plain": [
       "{('2014', 2),\n",
       " ('500', 2),\n",
       " ('a', 5),\n",
       " ('account', 3),\n",
       " ('accounts', 3),\n",
       " ('affected', 2),\n",
       " ('and', 10),\n",
       " ('answers', 2),\n",
       " ('as', 3),\n",
       " ('at', 2),\n",
       " ('breach', 2),\n",
       " ('by', 3),\n",
       " ('change', 2),\n",
       " ('company’s', 2),\n",
       " ('data', 5),\n",
       " ('disclosed', 2),\n",
       " ('for', 4),\n",
       " ('from', 2),\n",
       " ('has', 2),\n",
       " ('in', 6),\n",
       " ('information', 3),\n",
       " ('is', 5),\n",
       " ('it', 5),\n",
       " ('million', 3),\n",
       " ('of', 4),\n",
       " ('on', 3),\n",
       " ('or', 3),\n",
       " ('passwords', 4),\n",
       " ('potentially', 3),\n",
       " ('questions', 3),\n",
       " ('said', 3),\n",
       " ('security', 4),\n",
       " ('state-sponsored', 2),\n",
       " ('stolen', 2),\n",
       " ('taken', 2),\n",
       " ('that', 2),\n",
       " ('the', 12),\n",
       " ('their', 5),\n",
       " ('they', 2),\n",
       " ('to', 6),\n",
       " ('unencrypted', 2),\n",
       " ('used', 2),\n",
       " ('user', 2),\n",
       " ('users', 4),\n",
       " ('which', 2),\n",
       " ('with', 3),\n",
       " ('yahoo', 6)}"
      ]
     },
     "execution_count": 176,
     "metadata": {},
     "output_type": "execute_result"
    }
   ],
   "source": [
    "# List comprehension version\n",
    "# [expression for sequence if condition ]\n",
    "# set([word for word in wsj_words if wsj_words.count(word)>1])\n",
    "set([(word, wsj_words.count(word)) for word in wsj_words if wsj_words.count(word)>1])"
   ]
  },
  {
   "cell_type": "code",
   "execution_count": 177,
   "metadata": {},
   "outputs": [],
   "source": [
    "# Some more practice with lists\n",
    "test = [\"hello, hi, goodbye hello\", \n",
    "        \"hello, world\", \n",
    "        \"goodbye world\", \n",
    "        \"hello\"]"
   ]
  },
  {
   "cell_type": "code",
   "execution_count": 178,
   "metadata": {},
   "outputs": [
    {
     "name": "stdout",
     "output_type": "stream",
     "text": [
      "Is 'hello' in test? True\n",
      "Is 'good' in test? False\n"
     ]
    }
   ],
   "source": [
    "# \"hello\" is in test\n",
    "#\"hi\" is not (even though it appears in the first item of the \"test\" list)\n",
    "print(\"Is 'hello' in test?\", \"hello\" in test)\n",
    "print(\"Is 'good' in test?\", \"good\" in test)"
   ]
  },
  {
   "cell_type": "code",
   "execution_count": 179,
   "metadata": {},
   "outputs": [
    {
     "data": {
      "text/plain": [
       "['hello, hi, goodbye hello', 'goodbye world']"
      ]
     },
     "execution_count": 179,
     "metadata": {},
     "output_type": "execute_result"
    }
   ],
   "source": [
    "# Instead, we can search INSIDE each item of \"test\" for the word \"good\" using list comprehension\n",
    "# Keep all words with \"good\" in them\n",
    "[t for t in test if \"good\" in t]"
   ]
  },
  {
   "cell_type": "code",
   "execution_count": 180,
   "metadata": {},
   "outputs": [
    {
     "data": {
      "text/plain": [
       "['hello1', 'good morning 1']"
      ]
     },
     "execution_count": 180,
     "metadata": {},
     "output_type": "execute_result"
    }
   ],
   "source": [
    "# Another example: find words with \"1\" in them\n",
    "test2 = ['hello1', 'goodbye3', 'good morning 1']\n",
    "[ t for t in test2 if '1' in t]"
   ]
  },
  {
   "cell_type": "code",
   "execution_count": 181,
   "metadata": {},
   "outputs": [
    {
     "data": {
      "text/plain": [
       "'--  '"
      ]
     },
     "execution_count": 181,
     "metadata": {},
     "output_type": "execute_result"
    }
   ],
   "source": [
    "# Find characters that are not letters or numbers\n",
    "test = \"650-888-9999 hello friend\"\n",
    "''.join([l for l in test if not l.isdigit() and not l.isalpha()])"
   ]
  },
  {
   "cell_type": "code",
   "execution_count": 182,
   "metadata": {},
   "outputs": [
    {
     "data": {
      "text/plain": [
       "'6508889999hellofriend'"
      ]
     },
     "execution_count": 182,
     "metadata": {},
     "output_type": "execute_result"
    }
   ],
   "source": [
    "# Find only letters or numbers\n",
    "''.join([l for l in test if  l.isdigit() or l.isalpha()])"
   ]
  },
  {
   "cell_type": "code",
   "execution_count": 183,
   "metadata": {},
   "outputs": [
    {
     "data": {
      "text/plain": [
       "'6508889999  '"
      ]
     },
     "execution_count": 183,
     "metadata": {},
     "output_type": "execute_result"
    }
   ],
   "source": [
    "# Keep only numbers or spaces\n",
    "''.join([l for l in test if l.isdigit() or l==' '])"
   ]
  },
  {
   "cell_type": "code",
   "execution_count": 184,
   "metadata": {},
   "outputs": [
    {
     "data": {
      "text/plain": [
       "'650-888-9999hellofriend'"
      ]
     },
     "execution_count": 184,
     "metadata": {},
     "output_type": "execute_result"
    }
   ],
   "source": [
    "# Remove spaces\n",
    "''.join([l for l in test if l!=' '])"
   ]
  },
  {
   "cell_type": "code",
   "execution_count": 185,
   "metadata": {},
   "outputs": [
    {
     "data": {
      "text/plain": [
       "'-- hello friend'"
      ]
     },
     "execution_count": 185,
     "metadata": {},
     "output_type": "execute_result"
    }
   ],
   "source": [
    "# Remove digits\n",
    "''.join([l for l in test if l.isdigit()==False])"
   ]
  },
  {
   "cell_type": "code",
   "execution_count": 186,
   "metadata": {},
   "outputs": [
    {
     "name": "stdout",
     "output_type": "stream",
     "text": [
      "0 number, 500 number, 1000 number, 1500 number, 2000 number, 2500 number, 3000 number, 3500 number, 4000 number, 4500 number, 5000 number, 5500 number, 6000 number, 6500 number, 7000 number, 7500 number, 8000 number, 8500 number, 9000 number, 9500 number\n"
     ]
    }
   ],
   "source": [
    "# Generate a list of numbers divisible by five\n",
    "# Multiply each of them by 100\n",
    "# Convert the result to a string\n",
    "# Add the word \"number\"\n",
    "nums = range(0,100)\n",
    "print(\", \".join([str(n*100) + ' number' for n in nums if n%5 == 0]))"
   ]
  },
  {
   "cell_type": "code",
   "execution_count": 187,
   "metadata": {},
   "outputs": [
    {
     "name": "stdout",
     "output_type": "stream",
     "text": [
      "0 number~~~~500 number~~~~1000 number~~~~1500 number~~~~2000 number~~~~2500 number~~~~3000 number~~~~3500 number~~~~4000 number~~~~4500 number~~~~5000 number~~~~5500 number~~~~6000 number~~~~6500 number~~~~7000 number~~~~7500 number~~~~8000 number~~~~8500 number~~~~9000 number~~~~9500 number\n"
     ]
    }
   ],
   "source": [
    "# Test another separator\n",
    "print(\"~~~~\".join([str(n*100) + ' number' for n in nums if n%5 == 0]))"
   ]
  },
  {
   "cell_type": "code",
   "execution_count": 188,
   "metadata": {},
   "outputs": [
    {
     "name": "stdout",
     "output_type": "stream",
     "text": [
      "0 number\n",
      "500 number\n",
      "1000 number\n",
      "1500 number\n",
      "2000 number\n",
      "2500 number\n",
      "3000 number\n",
      "3500 number\n",
      "4000 number\n",
      "4500 number\n",
      "5000 number\n",
      "5500 number\n",
      "6000 number\n",
      "6500 number\n",
      "7000 number\n",
      "7500 number\n",
      "8000 number\n",
      "8500 number\n",
      "9000 number\n",
      "9500 number\n"
     ]
    }
   ],
   "source": [
    "# Test another separator\n",
    "print(\"\\n\".join([str(n*100) + ' number' for n in nums if n%5 == 0]))"
   ]
  },
  {
   "cell_type": "markdown",
   "metadata": {},
   "source": [
    "**Answer:** <span style=\"color:white\">\n",
    "list(set([w for w in wsj.lower().split() if wsj.lower().count(w)>1]))\n",
    "list(set([w for w in wsj if not w.isalpha() and not w.isdigit()]))"
   ]
  }
 ],
 "metadata": {
  "kernelspec": {
   "display_name": "Python 3",
   "language": "python",
   "name": "python3"
  },
  "language_info": {
   "codemirror_mode": {
    "name": "ipython",
    "version": 3
   },
   "file_extension": ".py",
   "mimetype": "text/x-python",
   "name": "python",
   "nbconvert_exporter": "python",
   "pygments_lexer": "ipython3",
   "version": "3.6.5"
  }
 },
 "nbformat": 4,
 "nbformat_minor": 1
}
