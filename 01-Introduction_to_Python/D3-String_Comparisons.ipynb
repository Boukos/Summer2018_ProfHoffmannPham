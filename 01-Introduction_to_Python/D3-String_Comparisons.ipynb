{
 "cells": [
  {
   "cell_type": "markdown",
   "metadata": {
    "slideshow": {
     "slide_type": "slide"
    }
   },
   "source": [
    "### String Comparisons\n",
    "\n",
    "We will examine now the concept of comparisons among strings and introduce a few comparison operators. \n",
    "\n",
    "#### Equality comparison\n",
    "\n",
    "Let's first examine how we can check if two strings are identical. For this comparison, we need the equality operator `==`.\n",
    "\n",
    "Let's see how equality comparisons work in Python:"
   ]
  },
  {
   "cell_type": "code",
   "execution_count": null,
   "metadata": {
    "slideshow": {
     "slide_type": "slide"
    }
   },
   "outputs": [],
   "source": [
    "str1 = \"hello\""
   ]
  },
  {
   "cell_type": "code",
   "execution_count": null,
   "metadata": {
    "slideshow": {
     "slide_type": "-"
    }
   },
   "outputs": [],
   "source": [
    "print(str1 == \"hello\")"
   ]
  },
  {
   "cell_type": "code",
   "execution_count": null,
   "metadata": {
    "slideshow": {
     "slide_type": "fragment"
    }
   },
   "outputs": [],
   "source": [
    "print(str1 == \"Hello\")"
   ]
  },
  {
   "cell_type": "markdown",
   "metadata": {
    "slideshow": {
     "slide_type": "slide"
    }
   },
   "source": [
    "Notice that **capitalization matters** when comparing strings in Python. If we want to make the comparison case-insensitive we typically first convert both sides of the equality to the same case:"
   ]
  },
  {
   "cell_type": "code",
   "execution_count": null,
   "metadata": {
    "slideshow": {
     "slide_type": "-"
    }
   },
   "outputs": [],
   "source": [
    "print(str1.lower() == \"Hello\".lower() )"
   ]
  },
  {
   "cell_type": "markdown",
   "metadata": {
    "slideshow": {
     "slide_type": "slide"
    }
   },
   "source": [
    "The opposite operator for equality is the inequality operator: `!=`. For example:"
   ]
  },
  {
   "cell_type": "code",
   "execution_count": null,
   "metadata": {
    "slideshow": {
     "slide_type": "-"
    }
   },
   "outputs": [],
   "source": [
    "email1 = \"profesor@nyu.edu\"\n",
    "email2 = \"professor@stern.nyu.edu\"\n",
    "print(\"Are the emails different?\", email1 != email2 )"
   ]
  },
  {
   "cell_type": "markdown",
   "metadata": {
    "slideshow": {
     "slide_type": "slide"
    }
   },
   "source": [
    "** Exercise:** Correct `email1` to match `email2`, using string slicing and concatenation."
   ]
  },
  {
   "cell_type": "code",
   "execution_count": null,
   "metadata": {
    "slideshow": {
     "slide_type": "-"
    }
   },
   "outputs": [],
   "source": []
  },
  {
   "cell_type": "markdown",
   "metadata": {
    "slideshow": {
     "slide_type": "fragment"
    }
   },
   "source": [
    "**Answer:**\n",
    "<span style =\"color:white\"> email1 = email1[:6] + 's' + email1[6:9] + 'stern.' + email1[9:]"
   ]
  },
  {
   "cell_type": "markdown",
   "metadata": {
    "slideshow": {
     "slide_type": "slide"
    }
   },
   "source": [
    "#### Ordering Strings\n",
    "\n",
    "Strings also allow for inequality comparisons. When we compare strings, the string that is \"smaller\" is the one that comes first in the dictionary. Let's see an example: "
   ]
  },
  {
   "cell_type": "code",
   "execution_count": null,
   "metadata": {
    "slideshow": {
     "slide_type": "-"
    }
   },
   "outputs": [],
   "source": [
    "name1 = 'Abraham'\n",
    "name2 = 'Bill'\n",
    "\n",
    "# Abraham is lexicographically before Bill\n",
    "print(name1 < name2)"
   ]
  },
  {
   "cell_type": "code",
   "execution_count": null,
   "metadata": {
    "slideshow": {
     "slide_type": "slide"
    }
   },
   "outputs": [],
   "source": [
    "name1 = 'William'\n",
    "name2 = 'Bill'\n",
    "\n",
    "# Panos is lexicographically after Bill\n",
    "print(name1 < name2)"
   ]
  },
  {
   "cell_type": "markdown",
   "metadata": {
    "slideshow": {
     "slide_type": "subslide"
    }
   },
   "source": [
    "Notice though the following, where the capitalization of `Bill` changes:"
   ]
  },
  {
   "cell_type": "code",
   "execution_count": null,
   "metadata": {
    "slideshow": {
     "slide_type": "-"
    }
   },
   "outputs": [],
   "source": [
    "name1 = 'William'\n",
    "name2 = 'bill'\n",
    "\n",
    "# Panos is lexicographically before bill\n",
    "print(name1 < name2)"
   ]
  },
  {
   "cell_type": "markdown",
   "metadata": {
    "slideshow": {
     "slide_type": "slide"
    }
   },
   "source": [
    "What causes this is the fact that the order is not simply the order in which we would encounter words in the dictionary. Technically, strings are ordered based on the order of the characters in the ASCII (or Unicode) table. Here is the ASCII table:"
   ]
  },
  {
   "cell_type": "markdown",
   "metadata": {
    "slideshow": {
     "slide_type": "-"
    }
   },
   "source": [
    "<img src = \"https://www.asciitable.com/index/asciifull.gif\">"
   ]
  },
  {
   "cell_type": "markdown",
   "metadata": {
    "slideshow": {
     "slide_type": "slide"
    }
   },
   "source": [
    "For example, if we have the string below, and we try to sort them, take a look at the order:"
   ]
  },
  {
   "cell_type": "code",
   "execution_count": null,
   "metadata": {
    "slideshow": {
     "slide_type": "-"
    }
   },
   "outputs": [],
   "source": [
    "# Space, followed by numbers, followed by uppercase, followed by lowercase\n",
    "sorted(['Bill', '  ZZ TOP!!! ', 'HAHA', 'lol', 'LOL!', 'ZZZZZ', 'zzzzz', '123', '345'])"
   ]
  },
  {
   "cell_type": "code",
   "execution_count": null,
   "metadata": {
    "slideshow": {
     "slide_type": "slide"
    }
   },
   "outputs": [],
   "source": [
    "# Example of string comparison\n",
    "# See ASCII table at http://www.asciitable.com/ for character order (FYI)\n",
    "\n",
    "name1 = 'Abe'\n",
    "name2 = 'Bill'\n",
    "\n",
    "# Abe is lexicographically before Bill\n",
    "print(name1 < name2)\n",
    "\n",
    "name1 = 'abe'\n",
    "name2 = 'Bill'\n",
    "# However 'abe' is lexicographically after Bill (which starts with an uppercase letter)\n",
    "print(name1 < name2)"
   ]
  },
  {
   "cell_type": "markdown",
   "metadata": {
    "slideshow": {
     "slide_type": "slide"
    }
   },
   "source": [
    "### Finding text within string variables\n",
    "\n",
    "####  `in` operator\n",
    "\n",
    "\n",
    "+ The `in` operator, `needle in haystack`: reports if the string `needle` appears in the string `haystack`\n"
   ]
  },
  {
   "cell_type": "markdown",
   "metadata": {
    "slideshow": {
     "slide_type": "fragment"
    }
   },
   "source": [
    "For example, string \"New York\" appears within \"New York University\", so the following operator returns `True`:"
   ]
  },
  {
   "cell_type": "code",
   "execution_count": null,
   "metadata": {
    "slideshow": {
     "slide_type": "-"
    }
   },
   "outputs": [],
   "source": [
    "\"New York\" in \"New York University\""
   ]
  },
  {
   "cell_type": "markdown",
   "metadata": {
    "slideshow": {
     "slide_type": "fragment"
    }
   },
   "source": [
    "But, unlike reality, \"New York University\" is not in \"New York\" :-)"
   ]
  },
  {
   "cell_type": "code",
   "execution_count": null,
   "metadata": {
    "slideshow": {
     "slide_type": "-"
    }
   },
   "outputs": [],
   "source": [
    "\"New York University\" in \"New York\""
   ]
  },
  {
   "cell_type": "markdown",
   "metadata": {
    "slideshow": {
     "slide_type": "slide"
    }
   },
   "source": [
    "\n",
    "####  `find` function\n",
    "\n",
    "* The `find` function, `haystack.find(needle)`: searches `haystack` for `needle`, prints the position of the first occurrence, indexed from 0; returns -1 if not found.\n",
    "\n",
    "For example:"
   ]
  },
  {
   "cell_type": "code",
   "execution_count": null,
   "metadata": {
    "slideshow": {
     "slide_type": "-"
    }
   },
   "outputs": [],
   "source": [
    "word = \"Python is the word. And on and on and on and on...\" \n",
    "position = word.find(\"on\") # The 'on' appears at the end of 'Python'\n",
    "print(position)"
   ]
  },
  {
   "cell_type": "code",
   "execution_count": null,
   "metadata": {
    "slideshow": {
     "slide_type": "fragment"
    }
   },
   "outputs": [],
   "source": [
    "print(\"The first time that we see the string on is at position\", word.find(\"on\"))"
   ]
  },
  {
   "cell_type": "code",
   "execution_count": null,
   "metadata": {
    "slideshow": {
     "slide_type": "fragment"
    }
   },
   "outputs": [],
   "source": [
    "print(word.find(\"python\"))"
   ]
  },
  {
   "cell_type": "markdown",
   "metadata": {
    "slideshow": {
     "slide_type": "slide"
    }
   },
   "source": [
    "If we are looking to find additional appearances of the string, then we can add a second parameter in the `find` function, specifying that we are only interested in matches after the position specificed by the parameter."
   ]
  },
  {
   "cell_type": "code",
   "execution_count": null,
   "metadata": {
    "slideshow": {
     "slide_type": "-"
    }
   },
   "outputs": [],
   "source": [
    "first_appearance = word.find(\"on\")\n",
    "second_appearance = word.find(\"on\",first_appearance+1)\n",
    "print(\"The second time that we see the string on is at position\", second_appearance)"
   ]
  },
  {
   "cell_type": "markdown",
   "metadata": {
    "slideshow": {
     "slide_type": "slide"
    }
   },
   "source": [
    "##### Exercise\n",
    "\n",
    "Consider the string billgates@microsoft.com. Write code that finds the username of the email address and the domain of the email address. You will need to use the .find() command, and also use your knowledge of indexing and slicing for this exercise. Hint: You will need to search for the `@` character using find, and then use the result to get the parts of the string before and after the `@` character. (Do not worry if this seems tedious, this is mainly for practice; later on, we will see how to do this in an easier way.)\n"
   ]
  },
  {
   "cell_type": "code",
   "execution_count": null,
   "metadata": {
    "slideshow": {
     "slide_type": "-"
    }
   },
   "outputs": [],
   "source": []
  },
  {
   "cell_type": "markdown",
   "metadata": {
    "slideshow": {
     "slide_type": "fragment"
    }
   },
   "source": [
    "**Answer:** <span style = \"color:white\"> \n",
    "split = email.find('@')\n",
    "email[:split]\n",
    "email[split+1:]"
   ]
  },
  {
   "cell_type": "markdown",
   "metadata": {
    "slideshow": {
     "slide_type": "slide"
    }
   },
   "source": [
    "####  `count` function\n",
    "\n",
    "+ `str_1.count(str_2)`: counts the number of occurrences of one string in another."
   ]
  },
  {
   "cell_type": "code",
   "execution_count": null,
   "metadata": {
    "slideshow": {
     "slide_type": "-"
    }
   },
   "outputs": [],
   "source": [
    "word = \"Python is the word. And on and on and on and on...\"\n",
    "lookfor = \"on\"\n",
    "count = word.count(lookfor)\n",
    "print( \"We see the string '\", lookfor  ,\"' that many times: \",  count)"
   ]
  },
  {
   "cell_type": "code",
   "execution_count": null,
   "metadata": {
    "slideshow": {
     "slide_type": "slide"
    }
   },
   "outputs": [],
   "source": [
    "word = \"Python is the word. And on and on and on and on...\"\n",
    "lookfor = \"Python\"\n",
    "count = word.count(lookfor)\n",
    "print( \"We see the string '\", lookfor  ,\"' that many times: \",  count)"
   ]
  },
  {
   "cell_type": "markdown",
   "metadata": {
    "slideshow": {
     "slide_type": "slide"
    }
   },
   "source": [
    "Of course, notice that if capitalization is different, the matches will not \"count\"."
   ]
  },
  {
   "cell_type": "code",
   "execution_count": null,
   "metadata": {
    "slideshow": {
     "slide_type": "-"
    }
   },
   "outputs": [],
   "source": [
    "word = \"Python is the word. And on and on and on and on...\"\n",
    "lookfor = \"PYTHON\"\n",
    "count = word.count(lookfor)\n",
    "print( \"We see the string '\", lookfor  ,\"' that many times: \",  count)"
   ]
  },
  {
   "cell_type": "markdown",
   "metadata": {
    "slideshow": {
     "slide_type": "slide"
    }
   },
   "source": [
    "##### Exercise\n",
    "\n",
    "Convert the code above so that it works in a case-insensitive manner. Use the `lower()` or `upper()` command."
   ]
  },
  {
   "cell_type": "code",
   "execution_count": null,
   "metadata": {
    "slideshow": {
     "slide_type": "-"
    }
   },
   "outputs": [],
   "source": []
  },
  {
   "cell_type": "markdown",
   "metadata": {
    "slideshow": {
     "slide_type": "fragment"
    }
   },
   "source": [
    "**Answer:** <span style = \"color:white\"> word.upper().count(lookfor.upper())"
   ]
  },
  {
   "cell_type": "markdown",
   "metadata": {
    "slideshow": {
     "slide_type": "slide"
    }
   },
   "source": [
    "##### Exercise\n",
    "\n",
    "Consider the news article from [the New York Times](https://www.nytimes.com/2010/06/21/sports/soccer/21diving.html), which is given below, and stored in the string variable `article`.\n",
    "\n",
    "* Count how many times the player `Keita` appears in the article. \n",
    "* Count how many times the player `Ozil` appears in the article. \n",
    "* Count how many times the player `Ronaldo` appears in the article. \n",
    "* Count how many times the player `Grosso` appears in the article. \n",
    "* Now sum up the occurrences and display the percentage of coverage for Keita. (For example, if Keita appears 2 times and each other player appears one time, then Keita has 40% of the coverage.)"
   ]
  },
  {
   "cell_type": "code",
   "execution_count": null,
   "metadata": {
    "slideshow": {
     "slide_type": "-"
    }
   },
   "outputs": [],
   "source": [
    "article = \"\"\"\n",
    "JOHANNESBURG — The Ivory Coast forward cried out in apparent agony, \n",
    "covered his face with his hands and dropped to the turf with a thud\n",
    "in the waning minutes of his team’s 3-1 loss to Brazil on Sunday at the World Cup.\n",
    "\n",
    "The forward, Abdul Kader Keita, was not hit with the ball or slapped\n",
    "across the face or punched, just bumped by the Brazilian star Kaka, \n",
    "who did little more than shrug, sticking his right elbow into Keita’s chest.\n",
    "That was all it took for Keita to fall to the turf as if he had been \n",
    "doused with pepper spray.\n",
    "\n",
    "The referee punished Kaka with a yellow card, his second of the game, \n",
    "forcing his ejection and leaving his team a man down for the rest of the game.\n",
    "\n",
    "Many who saw the replay wondered whether Keita’s fall was the tournament’s \n",
    "latest example of what officials call simulation. Much of the flopping, flailing \n",
    "and falling in soccer is little more than diving to the turf in an effort \n",
    "to dupe the referee.\n",
    "\n",
    "If successful, the diver could be awarded an unimpeded kick from the \n",
    "point of the infraction or, if it occurs in the penalty area in front \n",
    "of the goal, a penalty kick from 12 yards.\n",
    "\n",
    "Fans are already seeing as much bad playacting as tricky dribbling during \n",
    "the World Cup in South Africa, despite efforts by FIFA, the sport’s world \n",
    "governing body, to punish divers. Some of the best players in the world crumple \n",
    "under imaginary contact to win a penalty, or writhe in seeming pain to run the \n",
    "clock down or give their teammates a breather.\n",
    "\n",
    "“I wish it wasn’t part of the game,” said Paul Tamberino, the director of referee\n",
    "development for U.S. Soccer. “Players will do whatever they can.”\n",
    "\n",
    "In his first game of the tournament, the German midfielder Mesut Ozil tumbled as if \n",
    "gnomes hiding in the grass at Durban Stadium had tied his shoelaces together during \n",
    "his team’s opening game against Australia last week. An innocuous challenge from a \n",
    "defender did not seem enough to send him to the ground. Indeed, no foul was called. \n",
    "Instead, for his ruse, Ozil was punished with a yellow card.\n",
    "\n",
    "Ozil’s tumble and Keita’s pantomime did not affect the outcome of either game; \n",
    "Germany and Brazil easily won their matches. But with so few games, and with goals \n",
    "at a premium at this World Cup (1.97 goals per game through the first 29 games, \n",
    "well below the low-water mark of 2.21 in 1990), an erroneously awarded penalty or\n",
    "unjust suspension could prove decisive.\n",
    "\n",
    "In the Round of 16 at the World Cup in Germany four years ago, Italy and Australia \n",
    "were tied, 0-0, in added time. Italy’s Fabio Grosso rushed into the Australia penalty \n",
    "area and doubled over the lunging defender Lucas Neill. Italy was awarded a penalty kick, \n",
    "converted it for a 1-0 victory and went on to win the title. The penalty kick eliminated\n",
    "Australia.\n",
    "\n",
    "“When he slid in, maybe I accentuated a little bit,” Grosso told Football Plus magazine \n",
    "in the spring. “I felt the contact, so I went down.”\n",
    "\n",
    "According to FIFA’s Laws of the Game, “attempts to deceive the referee by feigning \n",
    "injury or pretending to have been fouled” are punishable by a yellow card. But it can \n",
    "be difficult at full speed, with only the naked eye and no video replay to consult, for a \n",
    "referee to spot the difference between a foul and a phantom.\n",
    "\n",
    "The referee Koman Coulibaly whistled a foul in favor of United States forward Jozy Altidore \n",
    "in the 85th minute of the Americans’ 2-2 tie with Slovenia on Friday — awarding a free kick \n",
    "that led to a controversial disallowed goal — but replays showed that minimal contact occurred \n",
    "before Altidore crashed to the ground. Players know they are more likely to get away with it \n",
    "and tacitly condone the practice.\n",
    "\n",
    "“Personally, I’m against any type of simulation; I don’t think it should be part of the game,” \n",
    "Alessandro Del Piero, a teammate of Grosso’s, said recently, before adding: “It went in Italy’s\n",
    "favor and I was happy. If it went against us, I would be upset.”\n",
    "\n",
    "Del Piero and his countrymen were indeed upset in 2002 when Italy was knocked out of the World \n",
    "Cup in South Korea by the host team after Francesco Totti was ejected for a second yellow card \n",
    "after disingenuously trying to earn a free kick.\n",
    "\n",
    "Referees say that it is difficult to penalize a player for simulation because it is akin to \n",
    "calling him dishonest. “If you’re going to give a caution for simulation and there is contact,” \n",
    "Tamberino warned, “it has to be very obvious that he’s trying to cheat.”\n",
    "\n",
    "Sometimes, simulation is so transparent that it more resembles vaudeville than world-class soccer.\n",
    "In 2002, Rivaldo of Brazil was waiting to take a corner kick when Hakan Unsal of Turkey appeared\n",
    "to deliberately kick the ball at him when he was not looking. Rivaldo went down as if he had been \n",
    "shot, clutching his face, right in front of an assistant referee. Unsal was given a red card, signaling \n",
    "an ejection, but Rivaldo was embarrassed when video replay revealed his reaction to be an act. \n",
    "FIFA later fined him $7,350.\n",
    "\n",
    "“Whether it be the big flop or the big groan, sometimes it’s comical,” Tamberino said. \n",
    "“You don’t like to laugh, but sometimes, you give a smile.”\n",
    "\n",
    "Referees must be close to the play and have the right angle and clear vision to make \n",
    "the correct call. It requires good positioning and communication between the referee \n",
    "and his assistants, one on each sideline. Three years ago, FIFA started a referee assistance \n",
    "program to train officials to, among other things, spot dives. Before the World Cup, FIFA’s \n",
    "technical study committee provided referees and assistant referees with scouting reports,\n",
    "including video, that highlighted teams with a reputation for simulation.\n",
    "\n",
    "Being a good diver may help a player get an occasional call, but when he earns a reputation \n",
    "as a cheat, it can be difficult to erase. Portugal’s Cristiano Ronaldo, one of the fastest and\n",
    "most dangerous forwards, is often the target of deliberate fouls or the victim of overzealous \n",
    "defenders.\n",
    "\n",
    "“Referees should protect the more skillful players when they are getting fouled by the opposition,” \n",
    "he said Tuesday after Portugal’s game with Ivory Coast. “Sometimes it is difficult for me when the\n",
    "referees give fouls because they think I dive.”\n",
    "\n",
    "But they think that for good reason. Ronaldo was notorious for feigning when he was a young player. \n",
    "He was lethal on direct kicks, and he relished the chance to show off his ability to strike the ball \n",
    "from long range. But now that he has developed into one of the game’s most hardened players, who is \n",
    "often hacked mercilessly by slower, less-skilled defenders, he does not get many calls.\n",
    "\n",
    "“They don’t protect talented footballers anymore,” said Carlos Queiroz, the coach of Portugal. \n",
    "“I’d like to see if the rules are the same for everybody.”\n",
    "\n",
    "Players and referees say they know which players go down too easily, but they are reluctant \n",
    "to identify them. “I’m anticipating all forwards are capable of doing that,” said the American \n",
    "defender Oguchi Onyewu, who at 6 feet 4 inches and 210 pounds is an easy mark for conniving \n",
    "forwards who exploit the perception that a bigger player fouls more often.\n",
    "\n",
    "“I think referees are taking the proper measures now more so than in the past to eliminate \n",
    "that kind of exaggeration,” Onyewu said. “Giving the players themselves a card and not the defender.”\n",
    "\n",
    "But defenders and forwards agree that diving will be hard to eradicate as long as players get away \n",
    "with it. “You try to get the ref on your side and you hope that he can see through all of that,” \n",
    "said Jonathan Spector, a defender for the United States. “There’s only so much you can control in a game. \n",
    "The call was made. Just get on with it.”\n",
    "\"\"\""
   ]
  },
  {
   "cell_type": "code",
   "execution_count": null,
   "metadata": {
    "slideshow": {
     "slide_type": "slide"
    }
   },
   "outputs": [],
   "source": [
    "# Calculate 'keita', the number of times that Keita appears in the text"
   ]
  },
  {
   "cell_type": "markdown",
   "metadata": {
    "slideshow": {
     "slide_type": "fragment"
    }
   },
   "source": [
    "**Answer:** <span style = \"color:white\">\n",
    "keita = article.count(\"Keita\")\n",
    "print(keita)"
   ]
  },
  {
   "cell_type": "code",
   "execution_count": null,
   "metadata": {
    "slideshow": {
     "slide_type": "-"
    }
   },
   "outputs": [],
   "source": [
    "# Calculate 'ozil', the number of times that Ozil appears in the text"
   ]
  },
  {
   "cell_type": "markdown",
   "metadata": {
    "slideshow": {
     "slide_type": "fragment"
    }
   },
   "source": [
    "**Answer:** <span style = \"color:white\">\n",
    "ozil = article.count(\"Ozil\")\n",
    "print(ozil)"
   ]
  },
  {
   "cell_type": "code",
   "execution_count": null,
   "metadata": {
    "slideshow": {
     "slide_type": "slide"
    }
   },
   "outputs": [],
   "source": [
    "# Calculate 'grosso', the number of times that Grosso appears in the text"
   ]
  },
  {
   "cell_type": "markdown",
   "metadata": {
    "slideshow": {
     "slide_type": "fragment"
    }
   },
   "source": [
    "**Answer:** <span style = \"color:white\">\n",
    "grosso = article.count(\"Grosso\")\n",
    "print(grosso)"
   ]
  },
  {
   "cell_type": "code",
   "execution_count": null,
   "metadata": {
    "slideshow": {
     "slide_type": "-"
    }
   },
   "outputs": [],
   "source": [
    "# Calculate 'ronaldo', the number of times that Ronaldo appears in the text"
   ]
  },
  {
   "cell_type": "markdown",
   "metadata": {
    "slideshow": {
     "slide_type": "fragment"
    }
   },
   "source": [
    "**Answer:** <span style = \"color:white\">\n",
    "ronaldo = article.count(\"Ronaldo\")\n",
    "print(ronaldo)"
   ]
  },
  {
   "cell_type": "code",
   "execution_count": null,
   "metadata": {
    "slideshow": {
     "slide_type": "slide"
    }
   },
   "outputs": [],
   "source": [
    "# Compute 'perc_keita', the percentage for Keita"
   ]
  },
  {
   "cell_type": "markdown",
   "metadata": {
    "slideshow": {
     "slide_type": "fragment"
    }
   },
   "source": [
    "**Answer:** <span style=\"color:white\">\n",
    "perc_keita = 100 * keita / (keita + ozil + grosso + ronaldo)\n",
    "print(perc_keita)"
   ]
  },
  {
   "cell_type": "code",
   "execution_count": null,
   "metadata": {
    "slideshow": {
     "slide_type": "fragment"
    }
   },
   "outputs": [],
   "source": [
    "# All together\n",
    "perc_keita = round(perc_keita,2)\n",
    "print(\"Keita appears\", keita, \"times:\", perc_keita, \"%\")"
   ]
  },
  {
   "cell_type": "markdown",
   "metadata": {
    "slideshow": {
     "slide_type": "slide"
    }
   },
   "source": [
    "#### `startswith` and `endswith` functions"
   ]
  },
  {
   "cell_type": "markdown",
   "metadata": {
    "slideshow": {
     "slide_type": "-"
    }
   },
   "source": [
    "Finally, we can also check if a particular string starts or ends with a another substring\n",
    "\n",
    "+ `haystack.startswith(needle)`: does a the haystack string start with the needle string?\n",
    "+ `haystack.endswith(needle)`: does a the haystack string end with the needle string?\n"
   ]
  },
  {
   "cell_type": "code",
   "execution_count": null,
   "metadata": {
    "slideshow": {
     "slide_type": "-"
    }
   },
   "outputs": [],
   "source": [
    "name = \"New York University\"\n",
    "prefix = \"New York\"\n",
    "print( \"Does \", name  ,\" start with\",  prefix, \"?\")\n",
    "print(name.startswith(prefix))"
   ]
  },
  {
   "cell_type": "code",
   "execution_count": null,
   "metadata": {
    "slideshow": {
     "slide_type": "slide"
    }
   },
   "outputs": [],
   "source": [
    "name = \"New York University\"\n",
    "prefix = \"University\"\n",
    "print( \"Does \", name  ,\" start with\",  prefix, \"?\")\n",
    "print(name.startswith(prefix))"
   ]
  },
  {
   "cell_type": "code",
   "execution_count": null,
   "metadata": {
    "slideshow": {
     "slide_type": "fragment"
    }
   },
   "outputs": [],
   "source": [
    "name = \"New York University\"\n",
    "suffix = \"University\"\n",
    "print( \"Does \", name  ,\" end with\",  suffix, \"?\")\n",
    "print(name.endswith(suffix))"
   ]
  }
 ],
 "metadata": {
  "celltoolbar": "Slideshow",
  "kernelspec": {
   "display_name": "Python 3",
   "language": "python",
   "name": "python3"
  },
  "language_info": {
   "codemirror_mode": {
    "name": "ipython",
    "version": 3
   },
   "file_extension": ".py",
   "mimetype": "text/x-python",
   "name": "python",
   "nbconvert_exporter": "python",
   "pygments_lexer": "ipython3",
   "version": "3.6.5"
  }
 },
 "nbformat": 4,
 "nbformat_minor": 1
}
