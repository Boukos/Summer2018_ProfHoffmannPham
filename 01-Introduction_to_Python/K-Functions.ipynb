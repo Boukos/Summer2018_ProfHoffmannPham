{
 "cells": [
  {
   "cell_type": "markdown",
   "metadata": {},
   "source": [
    "### Built-in functions\n",
    "\n",
    "Python provides a set of functions already built-in. You are already very familiar with one of them:"
   ]
  },
  {
   "cell_type": "code",
   "execution_count": null,
   "metadata": {},
   "outputs": [],
   "source": [
    "# Here print is the function\n",
    "# Within parentheses we pass ONE parameter, the string with the message\n",
    "print(\"Oh yeah, I am a function! I print things on the screen\")"
   ]
  },
  {
   "cell_type": "code",
   "execution_count": null,
   "metadata": {},
   "outputs": [],
   "source": [
    "# The print function can take more than one parameter\n",
    "# For example below we pass three strings as parameters\n",
    "name = \"Panos\"\n",
    "print(\"Hi\", name, \"How are you\")"
   ]
  },
  {
   "cell_type": "markdown",
   "metadata": {},
   "source": [
    "- You have already encountered `len`, `sum`, `max`, and `min`."
   ]
  },
  {
   "cell_type": "code",
   "execution_count": null,
   "metadata": {},
   "outputs": [],
   "source": [
    "nums = [3, 41, 12, 9, 74, 15]\n",
    "\n",
    "# len() takes as a parameter a string (and returns its length in characters)\n",
    "# or a list/set/dictionary/... (and returns the number of elements)\n",
    "print(\"Length:\", len(nums))"
   ]
  },
  {
   "cell_type": "code",
   "execution_count": null,
   "metadata": {},
   "outputs": [],
   "source": [
    "# max() / min() takes as a parameter a *list* and returns \n",
    "# the maximum or minimum element\n",
    "print(\"Max:\", max(nums))\n",
    "print(\"Min:\", min(nums))"
   ]
  },
  {
   "cell_type": "code",
   "execution_count": null,
   "metadata": {},
   "outputs": [],
   "source": [
    "# sum() gets as input a list of numbers and returns their sum\n",
    "print(\"Sum:\", sum(nums))"
   ]
  },
  {
   "cell_type": "markdown",
   "metadata": {},
   "source": [
    "- We have also used various type conversion functions, such as `set`, `list`,  and `tuple`. We can also do type conversions with  `int`, `float`, and `str`:"
   ]
  },
  {
   "cell_type": "code",
   "execution_count": null,
   "metadata": {},
   "outputs": [],
   "source": [
    "# Convert to integer\n",
    "int(3.7)"
   ]
  },
  {
   "cell_type": "code",
   "execution_count": null,
   "metadata": {},
   "outputs": [],
   "source": [
    "# Convert to float\n",
    "float(2)"
   ]
  },
  {
   "cell_type": "code",
   "execution_count": null,
   "metadata": {},
   "outputs": [],
   "source": [
    "# Convert to float <- also works with strings!\n",
    "float('6.8')"
   ]
  },
  {
   "cell_type": "code",
   "execution_count": null,
   "metadata": {},
   "outputs": [],
   "source": [
    "# Convert to string \n",
    "str(233)"
   ]
  },
  {
   "cell_type": "markdown",
   "metadata": {},
   "source": [
    "- And, we used  `type` to find out the type of a given variable. "
   ]
  },
  {
   "cell_type": "code",
   "execution_count": null,
   "metadata": {},
   "outputs": [],
   "source": [
    "# Type for a float\n",
    "x = 1.99\n",
    "type(x)"
   ]
  },
  {
   "cell_type": "code",
   "execution_count": null,
   "metadata": {},
   "outputs": [],
   "source": [
    "# Type for a string \n",
    "y = 'abc'\n",
    "type(y)"
   ]
  },
  {
   "cell_type": "code",
   "execution_count": null,
   "metadata": {},
   "outputs": [],
   "source": [
    "# Type for a list\n",
    "z = ['a', True, 3]\n",
    "type(z)"
   ]
  },
  {
   "cell_type": "code",
   "execution_count": null,
   "metadata": {},
   "outputs": [],
   "source": [
    "# Type for an element of a list\n",
    "type(z[1])"
   ]
  },
  {
   "cell_type": "code",
   "execution_count": null,
   "metadata": {},
   "outputs": [],
   "source": [
    "# Type for all elements of a list \n",
    "[type(i) for i in z]"
   ]
  },
  {
   "cell_type": "markdown",
   "metadata": {},
   "source": [
    "- In a variety of contexts, we also used the  `range` and `sorted` functions. "
   ]
  },
  {
   "cell_type": "code",
   "execution_count": null,
   "metadata": {},
   "outputs": [],
   "source": [
    "list(range(-10,10,2))"
   ]
  },
  {
   "cell_type": "code",
   "execution_count": null,
   "metadata": {},
   "outputs": [],
   "source": [
    "# sorted() has a list as input and returns the list with the elements sorted\n",
    "sorted([5,23,3,77,9,12])"
   ]
  },
  {
   "cell_type": "markdown",
   "metadata": {},
   "source": [
    "- You may also have seen the `round` function:"
   ]
  },
  {
   "cell_type": "code",
   "execution_count": null,
   "metadata": {},
   "outputs": [],
   "source": [
    "a = [0.819, 0.277, 0.817, 0.575, 0.168, 0.973, 0.987, 0.883, 0.293, 0.933]\n",
    "\n",
    "# Keep only numbers above 0.5 and round them to 2 decimals\n",
    "b = [] # we initialize the list b\n",
    "for num in a:\n",
    "    if num>0.5: # Keep only numbers above 0.5\n",
    "        x = round(num,2) # round them to 2 decimals\n",
    "        b.append(x)\n",
    "\n",
    "print(a)\n",
    "print(b)"
   ]
  },
  {
   "cell_type": "code",
   "execution_count": null,
   "metadata": {},
   "outputs": [],
   "source": [
    "a = [0.819, 0.277, 0.817, 0.575, 0.168, 0.973, 0.987, 0.883, 0.293, 0.933]\n",
    "\n",
    "# Keep only numbers above 0.5 and round them to 2 decimals\n",
    "b = [round(num,2) for num in a if num>0.5]\n",
    "print(a)\n",
    "print(b)\n",
    "print(sorted(b))"
   ]
  },
  {
   "cell_type": "markdown",
   "metadata": {},
   "source": [
    "The list at https://docs.python.org/3/library/functions.html contains all the built-in functions of Python.    \n",
    "**As a general rule of thumb, avoid using these bult-in function names as variable names.**"
   ]
  },
  {
   "cell_type": "markdown",
   "metadata": {},
   "source": [
    "### Functions from Libraries\n",
    "\n",
    "We can also add more functions by `import`-ing libraries. For example, we can import the `math` library. "
   ]
  },
  {
   "cell_type": "code",
   "execution_count": null,
   "metadata": {},
   "outputs": [],
   "source": [
    "# Let's have some fun\n",
    "import math\n",
    "for i in range(32):\n",
    "    # math.fabs returns the absolute value\n",
    "    # math.cos returns the cosine of the value\n",
    "    x = int(math.fabs(10*math.cos(i/4))+1)\n",
    "    print(x*'#')"
   ]
  },
  {
   "cell_type": "markdown",
   "metadata": {},
   "source": [
    "Another commonly used library is the `random` library that returns random numbers."
   ]
  },
  {
   "cell_type": "code",
   "execution_count": null,
   "metadata": {
    "scrolled": true
   },
   "outputs": [],
   "source": [
    "import random\n",
    "for i in range(10):\n",
    "    x = random.random() # random.random() returns random values from 0 to 1\n",
    "    print(\"The number is {n:.3f}\".format(n=round(x,3)))\n",
    "    "
   ]
  },
  {
   "cell_type": "markdown",
   "metadata": {},
   "source": [
    "And, you have seen the `time` package"
   ]
  },
  {
   "cell_type": "code",
   "execution_count": null,
   "metadata": {},
   "outputs": [],
   "source": [
    "import time\n",
    "time.sleep(2)"
   ]
  },
  {
   "cell_type": "markdown",
   "metadata": {},
   "source": [
    "### User Defined Functions\n",
    "\n",
    "\n",
    "** See also Examples 18, 19, 20, and 21 from Learn Python the Hard Way **\n",
    "\n",
    "Functions assign a name to a block of code the way that variables assign names to bits of data. This seeminly benign naming of things is incredibly powerful; allowing one to reuse common functionality over and over. Well-tested functions form building blocks for large, complex systems. As you progress through Python, you'll find yourself using powerful functions defined in some of Python's vast libraries of code. \n",
    "\n"
   ]
  },
  {
   "cell_type": "markdown",
   "metadata": {},
   "source": [
    "Function definitions begin with the `def` keyword, followed by the name you wish to assign to a function. Following this name are parentheses, `( )`, containing zero or more variable names, those values that are passed into the function. There is then a colon, followed by a code block defining the actions of the function:"
   ]
  },
  {
   "cell_type": "markdown",
   "metadata": {},
   "source": [
    "#### Printing \"Hi\"\n",
    "\n",
    "Let's start by looking at a function that performs a set of steps."
   ]
  },
  {
   "cell_type": "code",
   "execution_count": null,
   "metadata": {},
   "outputs": [],
   "source": [
    "def print_hi():\n",
    "    print(\"hi!\")"
   ]
  },
  {
   "cell_type": "code",
   "execution_count": null,
   "metadata": {},
   "outputs": [],
   "source": [
    "for i in range(10):\n",
    "    print_hi()"
   ]
  },
  {
   "cell_type": "markdown",
   "metadata": {},
   "source": [
    "* Of course, most functions have also one or more _parameters_. For example, the function below will accept the name as a parameter, and then print out the message \"HI _name_\", where _name_ is the value of the parameter that we pass to the function. The function will also convert the _name_ into uppercase:"
   ]
  },
  {
   "cell_type": "code",
   "execution_count": null,
   "metadata": {},
   "outputs": [],
   "source": [
    "def hi_you(name):\n",
    "    '''\n",
    "    This function takes as input/parameter the variable name\n",
    "    And then prints in the screen the message \n",
    "    HI <NAME>! \n",
    "    where <NAME> is the content of the name variable converted to uppercase\n",
    "    '''\n",
    "    print(\"HI\", name.upper())"
   ]
  },
  {
   "cell_type": "code",
   "execution_count": null,
   "metadata": {},
   "outputs": [],
   "source": [
    "names = ['Panos', 'Peter', 'Kylie', 'Jennifer', 'Elena']\n",
    "for n in names:\n",
    "    hi_you(n)"
   ]
  },
  {
   "cell_type": "markdown",
   "metadata": {},
   "source": [
    "* Let's modify the `hi_you` to take as input a *list* of names and print out all of them "
   ]
  },
  {
   "cell_type": "code",
   "execution_count": null,
   "metadata": {},
   "outputs": [],
   "source": [
    "def hi_you_all(list_of_names):\n",
    "    '''\n",
    "    This function takes as input/parameter list_of_names\n",
    "    And then prints in the screen the message \n",
    "    HI <NAME>! \n",
    "    for all the names in the list_of_names.\n",
    "    \n",
    "    The paramater 'names' is a list of strings, with every string\n",
    "    being a name that we want to print out\n",
    "    '''\n",
    "    for name in list_of_names:\n",
    "        print(\"HI\", name.upper(), \"!\")\n",
    "        # Alternatively, we could reuse the function hi_you(name)\n",
    "        # hi_you(name)"
   ]
  },
  {
   "cell_type": "code",
   "execution_count": null,
   "metadata": {},
   "outputs": [],
   "source": [
    "names = ['Panos', 'Peter', 'Kylie', 'Jennifer', 'Elena']\n",
    "hi_you_all(names)"
   ]
  },
  {
   "cell_type": "markdown",
   "metadata": {},
   "source": [
    "#### The `return` statement \n",
    "\n",
    "Example of computing a math function"
   ]
  },
  {
   "cell_type": "code",
   "execution_count": null,
   "metadata": {},
   "outputs": [],
   "source": [
    "# The functions are often designed to **return** the\n",
    "# result of a computation/operation\n",
    "def square(num):\n",
    "    squared = num*num\n",
    "    return squared"
   ]
  },
  {
   "cell_type": "code",
   "execution_count": null,
   "metadata": {},
   "outputs": [],
   "source": [
    "x = square(3) # notice that square RETURNS a value that \n",
    "              # we store in variable x \n",
    "              # this is in contrast to hi_you and hi_you_all\n",
    "              # that just printed out messages on the screen\n",
    "print(x)"
   ]
  },
  {
   "cell_type": "code",
   "execution_count": null,
   "metadata": {},
   "outputs": [],
   "source": [
    "for i in range(15):\n",
    "    print(f\"The square of {i} is {square(i)}\")"
   ]
  },
  {
   "cell_type": "markdown",
   "metadata": {},
   "source": [
    "Note that the function `square` has a special keyword `return`. The argument to return is passed to whatever piece of code is calling the function. In this case, the square of the number that was input. "
   ]
  },
  {
   "cell_type": "markdown",
   "metadata": {},
   "source": [
    "#### Solving the quadratic equation\n",
    "\n",
    "Here is another example of a function, for solving the quadratic equation \n",
    "$$ a*x^2 + b*x + c = 0$$\n",
    "Recall that the quadratic formula is:\n",
    "$$ x = \\frac{-b \\pm \\sqrt{b^2 - 4ac}}{2a}$$"
   ]
  },
  {
   "cell_type": "code",
   "execution_count": null,
   "metadata": {},
   "outputs": [],
   "source": [
    "import math\n",
    "a = 1\n",
    "b = -5.86\n",
    "c = 8.5408\n",
    "x1 = (-b + math.sqrt(b**2 - 4*a*c))/(2*a)\n",
    "print(f\"Solution 1: {x1:.3f}\")\n",
    "x2 = (-b - math.sqrt(b**2 - 4*a*c))/(2*a)\n",
    "print(f\"Solution 2: {x2:.3f}\")\n"
   ]
  },
  {
   "cell_type": "code",
   "execution_count": null,
   "metadata": {},
   "outputs": [],
   "source": [
    "# We want to solve the quadratic equation a*x^2 + b*x + c = 0 \n",
    "# We have two solutions:\n",
    "# s1 = (-b + sqrt(b^2 - 4ac)) / 2a\n",
    "# s2 = (-b - sqrt(b^2 - 4ac)) / 2a\n",
    "import math\n",
    "\n",
    "# We implement two functions to compute the solutions\n",
    "# Notice that both functions take as input the values a,b,c\n",
    "def s1(a,b,c):\n",
    "    solution = (-b + math.sqrt(b**2 - 4*a*c)) / (2*a) \n",
    "    return solution\n",
    "\n",
    "def s2(a,b,c):\n",
    "    solution = (-b - math.sqrt(b**2 - 4*a*c)) / (2*a) \n",
    "    return solution\n",
    "\n",
    "# Now let's use our functions\n",
    "a = 1\n",
    "b = -5.86\n",
    "c = 8.5408\n",
    "print(\"Solution 1:\", s1(a,b,c) )\n",
    "print(\"Solution 2:\", s2(a,b,c) )"
   ]
  },
  {
   "cell_type": "code",
   "execution_count": null,
   "metadata": {},
   "outputs": [],
   "source": [
    "# Example of returning \"multivalued\" results using tuples/lists\n",
    "def solve_quadratic(a,b,c):\n",
    "    # We can even check that the value of the discriminant\n",
    "    # is positive before returning a result\n",
    "    discr = b**2 - 4*a*c\n",
    "    if discr < 0: # We will not compute \n",
    "        return None # \"None\" is a special value, meaning \"nothing\"\n",
    "    solution1 = s1(a,b,c)\n",
    "    solution2 = s2(a,b,c)\n",
    "    # A function can return a list, tuple, dictionary, etc.\n",
    "    # The \"return\" value does not have to be a single value\n",
    "    return solution1, solution2\n",
    "\n",
    "solutions = solve_quadratic(a,b,c)\n",
    "print(\"Solutions:\", solutions )\n",
    "print(\"Solutions:\", solutions[0] )\n",
    "print(\"Solutions:\", solutions[1] )"
   ]
  },
  {
   "cell_type": "code",
   "execution_count": null,
   "metadata": {},
   "outputs": [],
   "source": [
    "# If we know the function will return multiple results, we can also use the following syntax:\n",
    "solution1, solution2 = solve_quadratic(a,b,c)\n",
    "print(\"Solutions:\", solution1 )\n",
    "print(\"Solutions:\", solution2 )"
   ]
  },
  {
   "cell_type": "code",
   "execution_count": null,
   "metadata": {},
   "outputs": [],
   "source": [
    "## A COMMON MISTAKE:\n",
    "# Using multiple return statements\n",
    "# Why? After we execute the first return, \n",
    "# we do not execute anything below that\n",
    "def s1(a, b, c):\n",
    "    d = math.sqrt(b**2 - 4*a*c)\n",
    "    return (-b + d)/(2*a) # solution 1 \n",
    "    return (-b - d)/(2*a) # solution 2, BUT this will never be executed"
   ]
  },
  {
   "cell_type": "markdown",
   "metadata": {},
   "source": [
    "#### Example function: Cleaning up a string"
   ]
  },
  {
   "cell_type": "code",
   "execution_count": null,
   "metadata": {},
   "outputs": [],
   "source": [
    "# This code prints all the letters in the alphabet\n",
    "import string\n",
    "string.ascii_letters"
   ]
  },
  {
   "cell_type": "code",
   "execution_count": null,
   "metadata": {},
   "outputs": [],
   "source": [
    "# this function takes as input a phone string variable\n",
    "# and removes anything that is not a letter or space\n",
    "def clean(text):\n",
    "    result   = \"\"\n",
    "    letters  = string.ascii_letters + \" \"\n",
    "    for c in text:\n",
    "        if c in letters:\n",
    "            result = result + c\n",
    "    return result        \n"
   ]
  },
  {
   "cell_type": "code",
   "execution_count": null,
   "metadata": {},
   "outputs": [],
   "source": [
    "p = \"(800) 555-1214 Phone number\"\n",
    "print(clean(p))"
   ]
  },
  {
   "cell_type": "markdown",
   "metadata": {},
   "source": [
    "#### Exercises\n",
    "\n",
    "* Write a function `in_range` that checks if a number `n` is within a given range `(a,b)` and returns True or False. The function takes n, a, and b as parameters.\n",
    "\n"
   ]
  },
  {
   "cell_type": "code",
   "execution_count": null,
   "metadata": {},
   "outputs": [],
   "source": [
    "# Your function here"
   ]
  },
  {
   "cell_type": "markdown",
   "metadata": {},
   "source": [
    "**Answer:** <span style=\"color:white\">\n",
    "def in_range(n, a, b):\n",
    "    if n>a and n<b:\n",
    "        return True\n",
    "    else:\n",
    "        return False"
   ]
  },
  {
   "cell_type": "markdown",
   "metadata": {},
   "source": [
    "* Write a `dedup` function that takes as input a list and returns back another list, with only unique elements and sorted. For example, if the input is `[1,2,5,5,5,3,3,3,3,4,5]` the returned list should be `[1, 2, 3, 4, 5]`. If the input is `['New York', 'New York',  'Paris', 'London', 'Paris']` the returned list should be `['London', 'New York', 'Paris']`."
   ]
  },
  {
   "cell_type": "code",
   "execution_count": null,
   "metadata": {},
   "outputs": [],
   "source": [
    "list1 = [1,2,5,5,5,3,3,3,3,4,5]\n",
    "list2 = ['New York', 'New York',  'Paris', 'London', 'Paris']\n",
    "\n",
    "# Your function here"
   ]
  },
  {
   "cell_type": "markdown",
   "metadata": {},
   "source": [
    "**Answer:** <span style=\"color:white\">\n",
    "def dedup(l):\n",
    "    return sorted(list(set(l)))"
   ]
  },
  {
   "cell_type": "markdown",
   "metadata": {},
   "source": [
    "- Write a function to test whether two strings are equal, ignoring capitalization."
   ]
  },
  {
   "cell_type": "code",
   "execution_count": null,
   "metadata": {},
   "outputs": [],
   "source": [
    "# Your function here"
   ]
  },
  {
   "cell_type": "markdown",
   "metadata": {},
   "source": [
    "**Answer**: <span style=\"color:white\">\n",
    "def are_equal(s1,s2):\n",
    "    if s1.lower() == s2.lower():\n",
    "        return True\n",
    "    else:\n",
    "        return False    \n",
    "are_equal(\"potato\", \"PoTATo\")\n",
    "are_equal(\"potato\", \"PoTAToes\")"
   ]
  },
  {
   "cell_type": "markdown",
   "metadata": {},
   "source": [
    "* Write a function that generates a random password with `n` letters. The value `n` should be a parameter."
   ]
  },
  {
   "cell_type": "code",
   "execution_count": null,
   "metadata": {},
   "outputs": [],
   "source": [
    "# This code generates one random letter\n",
    "import random\n",
    "random.choice(string.ascii_letters)\n",
    "\n",
    "# Your function here"
   ]
  },
  {
   "cell_type": "markdown",
   "metadata": {},
   "source": [
    "**Answer:** <span style=\"color:white\">\n",
    "def random_letter():\n",
    "    return random.choice(string.ascii_letters)\n",
    "def random_password(n):\n",
    "    password = ''\n",
    "    for i in range(0,n):\n",
    "        password+= random_letter()\n",
    "    return password    "
   ]
  },
  {
   "cell_type": "markdown",
   "metadata": {},
   "source": [
    "- Write a function to test whether a password is good. Good passwords:\n",
    "\n",
    "  - Have a lowercase letter\n",
    "  - Have an uppercase letter\n",
    "  - Have a number \n",
    "  - Are at least 7 characters long\n",
    " \n",
    " Your function should take the password as a parameter."
   ]
  },
  {
   "cell_type": "code",
   "execution_count": null,
   "metadata": {},
   "outputs": [],
   "source": [
    "# Your function here"
   ]
  },
  {
   "cell_type": "markdown",
   "metadata": {},
   "source": [
    "**Answer:** <span style=\"color:white\">\n",
    "def good_password(p):\n",
    "    has_lower = False\n",
    "    has_upper = False\n",
    "    has_number = False   \n",
    "    lowercase, uppercase = string.ascii_letters[:26], string.ascii_letters[26:]\n",
    "    for i in p:\n",
    "        if i in lowercase:\n",
    "            has_lower=True\n",
    "            print(\"lower\")\n",
    "        elif i in uppercase:\n",
    "            has_upper=True\n",
    "            print(\"upper\")\n",
    "        elif i in [str(j) for j in range(10)]:\n",
    "            has_number=True\n",
    "            print(\"number\")\n",
    "    if has_lower==True and has_upper==True and has_number==True and len(p)>7:\n",
    "        print(\"Good password\")\n",
    "    else:\n",
    "        print(\"Bad password\")"
   ]
  }
 ],
 "metadata": {
  "kernelspec": {
   "display_name": "Python 3",
   "language": "python",
   "name": "python3"
  },
  "language_info": {
   "codemirror_mode": {
    "name": "ipython",
    "version": 3
   },
   "file_extension": ".py",
   "mimetype": "text/x-python",
   "name": "python",
   "nbconvert_exporter": "python",
   "pygments_lexer": "ipython3",
   "version": "3.6.5"
  }
 },
 "nbformat": 4,
 "nbformat_minor": 1
}
