{
 "cells": [
  {
   "cell_type": "markdown",
   "metadata": {},
   "source": [
    "# Files\n",
    "\n",
    "** See also Examples 15, 16, and 17 from Learn Python the Hard Way**\n",
    "\n",
    "You'll often be reading data from a file, or writing the output of your Python scripts back into a file. Python makes this very easy. You need to open a file in the appropriate mode, using the `open` function, then you can read or write to accomplish your task. \n",
    "\n",
    "The `open` function takes two arguments, the name of the file, and the mode. The mode is a single letter string that specifies if you're going to be _reading_ from a file, _writing_ to a file, or _appending_ to the end of an existing file. The function returns a file object that performs the various tasks you'll be performing: `a_file = open(filename, mode)`. The modes are:\n",
    "\n",
    "Mode | Description\n",
    "---|---\n",
    "`'r'`| open a file for reading.\n",
    "`'w'`| open a file for writing. <br> _Caution: this will overwrite any previously existing file._\n",
    "`'a'`| append / write to the end of a file. \n",
    "\n",
    "When reading, you typically want to iterate through the lines in a file using a for loop. Some other common methods for dealing with files are: \n",
    "\n",
    "+ `file.read()`: read the entire contents of a file into a string\n",
    "+ `file.write(some_string)`: writes to the file.\n",
    "    - _Note that this doesn't automatically include any new lines._\n",
    "    - _Note that sometimes writes are buffered - Python will wait until you have several writes pending, and perform them all at once._\n",
    "    \n",
    "+ `file.flush()`: write out any buffered writes\n",
    "+ `file.close()`: close the open file. This will free up some computer resources occupied by keeping a file open.\n",
    "\n",
    "Here is an example using files:"
   ]
  },
  {
   "cell_type": "markdown",
   "metadata": {},
   "source": [
    "### Writing and reading files"
   ]
  },
  {
   "cell_type": "markdown",
   "metadata": {},
   "source": [
    "#### Writing a file to disk"
   ]
  },
  {
   "cell_type": "code",
   "execution_count": null,
   "metadata": {},
   "outputs": [],
   "source": [
    "# Create the file temp.txt, and write some lines\n",
    "f = open(\"temp.txt\", \"w\")\n",
    "f.write(\"This is my first file! The end!\\n\")\n",
    "f.write(\"Oh wait, I wanted to say something else.\")\n",
    "f.close()"
   ]
  },
  {
   "cell_type": "code",
   "execution_count": null,
   "metadata": {},
   "outputs": [],
   "source": [
    "# Create a file numbers.txt and write the numbers from 0 to 24 there\n",
    "f = open(\"numbers.txt\", \"w\")\n",
    "for num in range(25):\n",
    "    f.write(str(num)+'\\n')\n",
    "f.close()"
   ]
  },
  {
   "cell_type": "markdown",
   "metadata": {},
   "source": [
    "#### Reading a file from disk"
   ]
  },
  {
   "cell_type": "markdown",
   "metadata": {},
   "source": [
    "Now, let's check that we did everything as expected."
   ]
  },
  {
   "cell_type": "code",
   "execution_count": null,
   "metadata": {},
   "outputs": [],
   "source": [
    "# Check the \"temp\" file\n",
    "f = open(\"temp.txt\", \"r\") # We now open the file for reading\n",
    "temp_content = f.read()   # And we read the full content of the file in memory, as a big string\n",
    "f.close()                 # Close the file\n",
    "\n",
    "print(temp_content)"
   ]
  },
  {
   "cell_type": "code",
   "execution_count": null,
   "metadata": {},
   "outputs": [],
   "source": [
    "# Check the \"numbers\" file\n",
    "f = open(\"numbers.txt\", \"r\")\n",
    "numbers_content = f.read()\n",
    "f.close()\n",
    "\n",
    "print(numbers_content)"
   ]
  },
  {
   "cell_type": "markdown",
   "metadata": {},
   "source": [
    "#### Working with files line-by-line"
   ]
  },
  {
   "cell_type": "markdown",
   "metadata": {},
   "source": [
    "Let's inspect what we've done a little more closely. Consider `numbers.txt`. Note that if we just look at the `read` version of the raw content, it looks like this:"
   ]
  },
  {
   "cell_type": "code",
   "execution_count": null,
   "metadata": {},
   "outputs": [],
   "source": [
    "# The whole file has been glued together as one big string.\n",
    "numbers_content"
   ]
  },
  {
   "cell_type": "markdown",
   "metadata": {},
   "source": [
    "Let's process that big string a little bit:"
   ]
  },
  {
   "cell_type": "code",
   "execution_count": null,
   "metadata": {},
   "outputs": [],
   "source": [
    "# Split the content of the file using the newline character \\n\n",
    "lines = numbers_content.split(\"\\n\")\n",
    "lines"
   ]
  },
  {
   "cell_type": "code",
   "execution_count": null,
   "metadata": {},
   "outputs": [],
   "source": [
    "# here we convert the strings into integers, using a list comprehension\n",
    "# we have the conditional to avoid trying to parse the string '' that \n",
    "# is at the end of the list\n",
    "numbers = [int(line) for line in lines if len(line)>0]\n",
    "print(numbers)"
   ]
  },
  {
   "cell_type": "markdown",
   "metadata": {},
   "source": [
    "#### With statements"
   ]
  },
  {
   "cell_type": "markdown",
   "metadata": {},
   "source": [
    "A convenient shorthand that you'll often see is a `with` statement. This is used to open a file, perform some operations on it, and then close the file again. For example:"
   ]
  },
  {
   "cell_type": "code",
   "execution_count": null,
   "metadata": {},
   "outputs": [],
   "source": [
    "# Let's add two lines to our file.\n",
    "# Instead of f = open('temp.txt', 'w'), we write:\n",
    "with open('temp.txt', 'w') as f:          \n",
    "    f.write(\"here's a fun line to add\\n\")\n",
    "    f.write(\"this file is getting long\\n\")"
   ]
  },
  {
   "cell_type": "markdown",
   "metadata": {},
   "source": [
    "Notice that we don't need to `close` the file now. If we try to use it, it's already closed."
   ]
  },
  {
   "cell_type": "code",
   "execution_count": null,
   "metadata": {},
   "outputs": [],
   "source": [
    "# This won't work because the file is closed. Uncomment to run.\n",
    "## f.write(\"this won't work\")"
   ]
  },
  {
   "cell_type": "markdown",
   "metadata": {},
   "source": [
    "Let's see what we got:"
   ]
  },
  {
   "cell_type": "code",
   "execution_count": null,
   "metadata": {},
   "outputs": [],
   "source": [
    "with open('temp.txt', 'r') as f:\n",
    "    print(f.read())"
   ]
  },
  {
   "cell_type": "markdown",
   "metadata": {},
   "source": [
    "Oops! We overwrote our old file. Remember that we need to use the `'a'` mode to append:"
   ]
  },
  {
   "cell_type": "code",
   "execution_count": null,
   "metadata": {},
   "outputs": [],
   "source": [
    "# Let's append, rather than overwriting \n",
    "with open('temp.txt', 'a') as f:\n",
    "    f.write(\"lets add a line that won't overwrite what we already have\")\n",
    "\n",
    "# And, let's check that it worked\n",
    "with open('temp.txt', 'r') as f:\n",
    "    print(f.read())"
   ]
  },
  {
   "cell_type": "markdown",
   "metadata": {},
   "source": [
    "####  Exercise 1\n",
    "\n",
    "* Write a function that reads a file and returns its first `n` lines as a list of strings (one string per line). \n",
    "* Test your function by returning the first five lines of the file below (`fname`). "
   ]
  },
  {
   "cell_type": "code",
   "execution_count": null,
   "metadata": {},
   "outputs": [],
   "source": [
    "#def read_file(fname, n):\n",
    "    # Your function here"
   ]
  },
  {
   "cell_type": "code",
   "execution_count": null,
   "metadata": {},
   "outputs": [],
   "source": [
    "fname = '../../data/dealing_with_data/restaurant-names.txt'"
   ]
  },
  {
   "cell_type": "markdown",
   "metadata": {},
   "source": [
    "**Answer:** <span style=\"color:white\">\n",
    "def read_file(fname, n):\n",
    "    with open(fname, 'r') as f:\n",
    "        contents = f.read()\n",
    "        contents = contents.split(\"\\n\")\n",
    "        return contents[:n]\n",
    "\\# Example:\n",
    "read_file(\"restaurant-names.txt\", 5)"
   ]
  },
  {
   "cell_type": "markdown",
   "metadata": {},
   "source": [
    "####  Exercise 2\n",
    "\n",
    "* Write a function that reads the `k`-th column of a CSV file and returns its contents. (You can reuse parts of the function that you wrote above.) \n",
    "* Read the file `data/baseball.csv` and return the content of the 3rd column (`year`)."
   ]
  },
  {
   "cell_type": "code",
   "execution_count": null,
   "metadata": {},
   "outputs": [],
   "source": [
    "fname = '../../data/dealing_with_data/baseball.csv'"
   ]
  },
  {
   "cell_type": "code",
   "execution_count": null,
   "metadata": {},
   "outputs": [],
   "source": [
    "#def read_kth_col(fname, k):\n",
    "    # Your function here"
   ]
  },
  {
   "cell_type": "markdown",
   "metadata": {},
   "source": [
    "**Answer:** <span style=\"color:white\">\n",
    "def read_kth_col(fname, k):\n",
    "    with open(fname, 'r') as f:\n",
    "        contents = f.read()\n",
    "        contents = contents.split(\"\\n\")\n",
    "        contents_k = [l.split(\",\")[k-1] for l in contents if len(l)>0]\n",
    "        return contents_k\n",
    "read_kth_col(\"baseball.csv\", 3)"
   ]
  },
  {
   "cell_type": "markdown",
   "metadata": {},
   "source": [
    "#### IPython magic"
   ]
  },
  {
   "cell_type": "markdown",
   "metadata": {},
   "source": [
    "An interactive and simple way to write files is through the use of an [IPython magic command](https://ipython.readthedocs.io/en/stable/interactive/magics.html). \n",
    "These commands are denoted by a prefix of `%` or `%%`; we'll see these again later in the course when we move to plotting data. \n",
    "\n",
    "The command below will create a file called `phonetest.txt`."
   ]
  },
  {
   "cell_type": "code",
   "execution_count": null,
   "metadata": {},
   "outputs": [],
   "source": [
    "%%file phonetest.txt\n",
    "679-397-5255\n",
    "2126660921\n",
    "212-998-0902\n",
    "888-888-2222\n",
    "800-555-1211\n",
    "800 555 1212\n",
    "800.555.1213\n",
    "(800) 555-1214\n",
    "1-800-555-1215\n",
    "1(800)555-1216\n",
    "800-555-1212-1234\n",
    "800-555-1212x1234\n",
    "800-555-1212 ext. 1234\n",
    "work 1-(800) 555.1212"
   ]
  },
  {
   "cell_type": "markdown",
   "metadata": {},
   "source": [
    "#### Exercise 3 \n",
    "* Write a function that:\n",
    "\n",
    "    1. Takes a string as input \n",
    "    2. Removes any non-digit characters\n",
    "    3. Returns a \"clean\" string, without any non-digit characters\n",
    "\n",
    "\n",
    "* Now, read the file `phonetest.txt`. \n",
    "    1. Apply your function to each line in the file.\n",
    "    2. Print the clean file.\n"
   ]
  },
  {
   "cell_type": "code",
   "execution_count": null,
   "metadata": {
    "scrolled": true
   },
   "outputs": [],
   "source": [
    "#def remove_non_digits(num):\n",
    "    # Your function here\n",
    "\n",
    "# Clean phonetest.txt here"
   ]
  },
  {
   "cell_type": "markdown",
   "metadata": {},
   "source": [
    "**Answer**: <span style=\"color:white\">\n",
    "\\# Using loops\n",
    "def remove_non_digits(num):\n",
    "    digit_list = [str(x) for x in range(10)]    \n",
    "    clean_num = ''\n",
    "    for digit in num:\n",
    "        if digit in digit_list:\n",
    "            clean_num += digit\n",
    "    return clean_num            \n",
    "\\# Using string comprehension\n",
    "def remove_non_digits(num):\n",
    "    digit_list = [str(x) for x in range(10)]    \n",
    "    clean_num = ''.join([d if d in digit_list else '' for d in num])\n",
    "    return clean_num            \n",
    "\\# Read in the file and clean it \n",
    "with open('phonetest.txt', 'r') as f:\n",
    "    phone_numbers = f.read().split(\"\\n\")\n",
    "print('\\n'.join([remove_non_digits(n) for n in phone_numbers]))"
   ]
  }
 ],
 "metadata": {
  "kernelspec": {
   "display_name": "Python 3",
   "language": "python",
   "name": "python3"
  },
  "language_info": {
   "codemirror_mode": {
    "name": "ipython",
    "version": 3
   },
   "file_extension": ".py",
   "mimetype": "text/x-python",
   "name": "python",
   "nbconvert_exporter": "python",
   "pygments_lexer": "ipython3",
   "version": "3.6.5"
  }
 },
 "nbformat": 4,
 "nbformat_minor": 1
}
